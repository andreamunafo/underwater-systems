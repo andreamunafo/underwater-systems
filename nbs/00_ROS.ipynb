{
 "cells": [
  {
   "cell_type": "raw",
   "metadata": {},
   "source": [
    "<div style=\"page-break-before: always;\"></div>"
   ]
  },
  {
   "cell_type": "markdown",
   "id": "9765d8d0-716b-4da7-a00d-be11f776e58d",
   "metadata": {},
   "source": [
    "# Robot Operating System (ROS)"
   ]
  },
  {
   "cell_type": "markdown",
   "id": "81f371d6-8f7e-4e8e-92fa-02a8aef570ae",
   "metadata": {},
   "source": [
    "_Adapted from Adam Buynak.9, The Ohio State University_"
   ]
  },
  {
   "cell_type": "markdown",
   "id": "8e99470f-acd7-4f74-9bb6-8138b316469f",
   "metadata": {},
   "source": [
    "- The Robot Operating System (ROS) is a flexible framework for writing robot software. It is a collection of tools, libraries, and conventions that aim to simplify the task of creating complex and robust robot behavior across a wide variety of robotic platforms. When it comes to maritime robotics, ROS provides a unique and powerful platform to develop and integrate various subsystems such as navigation, perception, control, and decision-making into a cohesive system.\n",
    "\n",
    "- One of the key strengths of ROS is its community and the plethora of available resources and tools. The ROS ecosystem comprises a vast array of software libraries and tools that are specifically designed for robotics applications. This ecosystem enables rapid development and testing of software components, which is particularly beneficial in the field of maritime robotics where testing in real-world conditions can be costly and time-consuming.\n",
    "\n",
    "Foundational aspects:\n",
    "\n",
    "- 1. **Architecture**: Understanding the ROS architecture, including the concepts of nodes, messages, topics, services, and the parameter server, is important. These components facilitate the modular and distributed nature of ROS, allowing for seamless integration and data exchange between different parts of a robotic system.\n",
    "\n",
    "- 2. **Simulation and Visualization Tools**: Tools like Gazebo and RViz play a significant role in ROS-based development. Gazebo provides a powerful simulation environment that can mimic the complex dynamics of maritime environments, while RViz offers visualization capabilities that are essential for debugging and developing perception algorithms.\n",
    "\n",
    "- 3. **ROS Navigation Stack**: The navigation stack is particularly relevant for maritime robotics, as it encompasses algorithms and tools for path planning, localization, and obstacle avoidance. Adapting these tools to the specific requirements of maritime environments, such as dealing with water currents and three-dimensional movement, is an important area of focus.\n",
    "\n",
    "- 4. **Integration with Sensors and Actuators**: A significant portion of ROS development in maritime robotics involves interfacing with various sensors (e.g., sonars, IMUs, GPS) and actuators (e.g., thrusters, robotic arms). ROS provides standardized interfaces for sensor data acquisition and actuator control, facilitating the development of sensor fusion algorithms and control systems.\n",
    "\n",
    "- 5. **Community and Resources**: Leveraging the ROS community and its resources, including software packages, tutorials, and forums, can accelerate the development process. Sharing experiences and solutions to common challenges in maritime robotics can foster innovation and collaboration within the field."
   ]
  },
  {
   "cell_type": "markdown",
   "id": "51a07b87-4307-4444-a411-90ed40a83f36",
   "metadata": {},
   "source": [
    "## Introduction to ROS"
   ]
  },
  {
   "cell_type": "markdown",
   "id": "f211fda1-879f-4c05-b4fb-958547ab76d9",
   "metadata": {},
   "source": [
    "### A Standard Framework for Robotics Software\n",
    "\n",
    "The Robot Operating System is a flexible framework for developing robotic systems.\n",
    "This framework comes with a wide variety of tools, libraries, and conventions to simplify the process of\n",
    "creating complex, robust robotic behavior. – ros.org\n",
    "\n",
    "Previous Practices:\n",
    "- Slow growth restricted by need to regularly recreate technologies into a custom solution for each robot\n",
    "- Every hardware solution was custom designed\n",
    "- Every software solution was rewritten from scratch to match\n",
    "- Very little code ‘carried forward’ into future projects\n"
   ]
  },
  {
   "cell_type": "markdown",
   "id": "b8b85899-1867-417c-88ac-c6e403c5abca",
   "metadata": {},
   "source": [
    "<table><tr>\n",
    "<td> <img src=\"./images/X.misc/ros_slide.png\" alt=\"ros_slide.png\" style=\"height: 390px;\"/></td>\n",
    "</tr></table> \n",
    "\n",
    "Slide from 2006 Proposal Pitch Deck at Stanford to begin developing a standard robotics framework. Credit: Keenan Wyrobeck & Eric Berger."
   ]
  },
  {
   "cell_type": "markdown",
   "id": "f970ad22-5629-4720-8052-7d587e097bd6",
   "metadata": {},
   "source": [
    "<table><tr>\n",
    "<td> <img src=\"./images/X.misc/reinventing-the-wheel.png\" alt=\"reinventing-the-wheel.png\" style=\"height: 590px;\"/></td>\n",
    "</tr></table> \n"
   ]
  },
  {
   "cell_type": "markdown",
   "id": "425c0b6e-8391-4555-8877-8ae0a54d958f",
   "metadata": {},
   "source": [
    "## Building any mechatronic / robotic system is hard. Plain and simple.\n",
    "\n",
    "Tesla builds self-driving cars with two mechanical outputs:\n",
    "1 – the powertrain motor driving the wheels\n",
    "2 – the direction of the front wheels (turning left/right)\n",
    "\n",
    "They invest billions of dollars each year optimizing…\n",
    "- computer vision\n",
    "- environment input sensors\n",
    "- control systems\n",
    "- user interface\n",
    "- self-driving algorithms\n",
    "- motor control\n",
    "\n",
    "\n",
    "- Tesla: USD 2,984 on R&D per car\n",
    "- Industry Average: USD 1000 on R&D per car\n",
    "\n",
    "\n",
    "- Tesla’s self-driving car is a robot\n",
    "- Automotive engineers have the convenience of a standard, 4-wheeled vehicle to implement code.\n",
    "- Robots come in many different forms, motor types, control schemas, etc.\n",
    "- Each subsystem requires development time.\n",
    "\n",
    "This could be…\n",
    "- various mechanical joints (revolute, prismatic, etc)\n",
    "- integrating multiple OEMs\n",
    "- smaller/larger, weaker/stronger, slower/faster\n"
   ]
  },
  {
   "cell_type": "markdown",
   "id": "ca091fb0-1df0-406b-9be3-16cb5bd8ff8b",
   "metadata": {},
   "source": [
    "### ROS fundamentally enables collaboration of novices and experts to rapidly develop complex systems."
   ]
  },
  {
   "cell_type": "markdown",
   "id": "e25b68a4-c6f1-47a4-b25f-625c33ff48c4",
   "metadata": {},
   "source": [
    "<table><tr>\n",
    "<td> <img src=\"./images/X.misc/ros_community.png\" alt=\"ros_community.png\" style=\"height: 490px;\"/></td>\n",
    "</tr></table> \n",
    "\n"
   ]
  },
  {
   "cell_type": "markdown",
   "id": "e3ed1dd5-9558-4f8f-b498-ce91b1091a1d",
   "metadata": {},
   "source": [
    "## A Typical Mobile Robot Software Stack\n",
    "\n",
    "<table><tr>\n",
    "<td> <img src=\"./images/X.misc/intel-robot.png\" alt=\"intel-robot\" style=\"height: 490px;\"/></td>\n",
    "</tr></table> \n",
    "\n",
    "\n",
    "\n"
   ]
  },
  {
   "cell_type": "markdown",
   "id": "93931809-0635-416f-9dcf-f0fd89f0c153",
   "metadata": {},
   "source": [
    "- Don’t rebuild the wheel.\n",
    "- Leverage the existing capabilities in ROS.\n",
    "- Focus your time on new features.\n",
    "- Contribute new developments to the ROS community."
   ]
  },
  {
   "cell_type": "markdown",
   "id": "45544d11-e2fe-40c9-91ad-2f82c91a8e81",
   "metadata": {},
   "source": [
    "## Nodes, Topics and Messages\n",
    "\n",
    "### Nodes\n",
    "\n",
    "<table><tr>\n",
    "<td> <img src=\"./images/X.misc/nodes.png\" alt=\"nodes\" style=\"height: 490px;\"/></td>\n",
    "</tr></table> \n"
   ]
  },
  {
   "cell_type": "markdown",
   "id": "9adb5c66-8b69-4f68-b51a-9514d6a99b23",
   "metadata": {},
   "source": [
    "### Topics\n",
    "\n",
    "<table><tr>\n",
    "<td> <img src=\"./images/X.misc/topics.png\" alt=\"topics\" style=\"height: 490px;\"/></td>\n",
    "</tr></table> \n"
   ]
  },
  {
   "cell_type": "markdown",
   "id": "d19c6b00-cd84-4866-beb3-88fb855c3614",
   "metadata": {},
   "source": [
    "### Messages\n",
    "\n",
    "<table><tr>\n",
    "<td> <img src=\"./images/X.misc/messages.png\" alt=\"topics\" style=\"height: 490px;\"/></td>\n",
    "</tr></table> \n"
   ]
  },
  {
   "cell_type": "markdown",
   "id": "fae2484d-026b-4c01-8d6f-414537a98029",
   "metadata": {},
   "source": [
    "### Services\n",
    "\n",
    "<table><tr>\n",
    "<td> <img src=\"./images/X.misc/services.png\" alt=\"topics\" style=\"height: 490px;\"/></td>\n",
    "</tr></table> \n"
   ]
  },
  {
   "cell_type": "markdown",
   "id": "72f5d2b4-5c92-431f-bfbd-22ddbd947844",
   "metadata": {},
   "source": [
    "## Message Formats\n",
    "\n",
    "<table><tr>\n",
    "<td> <img src=\"./images/X.misc/message_format.png\" alt=\"message_format\" style=\"height: 490px;\"/></td>\n",
    "</tr></table> \n",
    "\n",
    "_List shown is non-comprehensive!_"
   ]
  },
  {
   "cell_type": "markdown",
   "id": "61c25b8f-83f7-40d4-b7fb-90da34a38937",
   "metadata": {},
   "source": [
    "### Standard Messages\n",
    "\n",
    "<table><tr>\n",
    "<td> <img src=\"./images/X.misc/standard_messages.png\" alt=\"standard_messages\" style=\"height: 490px;\"/></td>\n",
    "</tr></table> \n",
    "\n",
    "\n",
    "_List shown is non-comprehensive!_"
   ]
  },
  {
   "cell_type": "markdown",
   "id": "ec5ffe28-ec6f-45ff-bb32-7d238a156abd",
   "metadata": {},
   "source": [
    "## Communication Interfaces\n",
    "\n",
    "ROS nodes may communication using three methods:\n",
    "- Topics, Services, Actions\n",
    "\n",
    "<table><tr>\n",
    "<td> <img src=\"./images/X.misc/interfaces.png\" alt=\"interfaces\" style=\"height: 290px;\"/></td>\n",
    "</tr></table> \n"
   ]
  },
  {
   "cell_type": "code",
   "execution_count": null,
   "id": "d368fdd0-3996-4be5-b44e-184a99430877",
   "metadata": {},
   "outputs": [],
   "source": []
  }
 ],
 "metadata": {
  "kernelspec": {
   "display_name": "Python 3 (ipykernel)",
   "language": "python",
   "name": "python3"
  }
 },
 "nbformat": 4,
 "nbformat_minor": 5
}
