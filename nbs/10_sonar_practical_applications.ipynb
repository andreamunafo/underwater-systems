{
 "cells": [
  {
   "cell_type": "code",
   "execution_count": null,
   "id": "5b3ce457",
   "metadata": {},
   "outputs": [],
   "source": [
    "#| default_exp sonar_practical_applications"
   ]
  },
  {
   "cell_type": "markdown",
   "id": "84dcadd0",
   "metadata": {},
   "source": [
    "# SONAR Practical Applications"
   ]
  },
  {
   "cell_type": "markdown",
   "id": "3457b047",
   "metadata": {},
   "source": [
    "- Let's see how what we have seen works in practise with specific SONARS.\n",
    "- We will mostly focus on those that can be installed on robots\n",
    "- Deploying SONARS on robots amplified their usage\n",
    "\n",
    "Specific devices:\n",
    "- Multi-beam echosounders: used for bathymetric measurements\n",
    "- Side-scan sonars: sea-bed morphology"
   ]
  },
  {
   "cell_type": "markdown",
   "id": "c64fb8cb",
   "metadata": {},
   "source": [
    "## Multi-beam echosounders: an example\n",
    "\n",
    "<table>\n",
    "    <tr>\n",
    "        <td>\n",
    "            <img src=\"./images/10.sonar-practical-applications/1.multibeam-codemap.png\" alt=\"Multibeam codemap\" style=\"width: 550px\"/>\n",
    "        </td>\n",
    "    </tr>\n",
    "</table> \n",
    "\n",
    "<table>\n",
    "    <tr>\n",
    "    <td>\n",
    "    <figure>\n",
    "    <video controls src=\"./videos/41598_2017_9382_MOESM2_ESM.mp4\" width=\"600\" height=\"400\" frameborder=\"0\"></video> \n",
    "    <figcaption>Fly through the reconstructed Digital Terrain Model (CODEMAP Cruise, NOC)</figcaption>        \n",
    "    </figure>    \n",
    "    </td>    \n",
    "    </tr>\n",
    "</table>  \n",
    "\n",
    "_(a,c) ship-board EM120 downward-looking multibeam echosounder (MBES) (resolution 50 m), (b,d) sideways-looking AUV mounted MBES (b) resolution 0.5 m; (d) resolution 5 m and (e) ROV front-mounted MBES (resolution\n",
    "0.4 m). Whittard Canyon Acesta Wall (a,b,e) and Whittard Canyon Coral Wall (c,d).\n",
    "Figure from K. Roberts et al, New approaches to high-resolution mapping of marine vertical structures, 2017, Nature Scientific Reports_"
   ]
  },
  {
   "cell_type": "markdown",
   "id": "b9f3ce83",
   "metadata": {},
   "source": [
    "## Side Scan Sonars: an example\n",
    "\n",
    "- Comparable to photographic images\n",
    "- Relatively easy to intuitively read them (although can be very complicated when looking for specific details)\n",
    "\n",
    "<table>\n",
    "    <tr>\n",
    "        <td>\n",
    "            <img src=\"./images/10.sonar-practical-applications/2.sss-typo-hires.jpg\" alt=\"Side Scan Sonar NOAA\" style=\"width: 550px\"/>\n",
    "        </td>\n",
    "    </tr>\n",
    "</table> \n",
    "\n",
    "_Figure: Side-scan sonar image of schooner Typo, which collided with steamer W.P. Ketcham in October of 1899. The schooner, which was carrying a cargo of coal, was rammed in the stern. The sonar image shows the bow and upright foremast, cargo hatches across Typo’s deck, and the broken stern with a pile of spilled coal. Image Source: Michigan Technological University Great Lakes Research Center. Image courtesy of the Michigan Technological University Great Lakes Research Center. Downloaded from [NOAA's website](https://oceanexplorer.noaa.gov/technology/sonar/side-scan.html)_"
   ]
  },
  {
   "cell_type": "markdown",
   "id": "72075f96",
   "metadata": {},
   "source": [
    "-----"
   ]
  },
  {
   "cell_type": "markdown",
   "id": "fad18033",
   "metadata": {},
   "source": [
    "## Multi-beam echosounders\n",
    "\n",
    "- Bathymetric measurements done reading the time-of-flight of the tranmistted signal (two-way travel time)\n",
    "- Typically mounted on the keel of the ship\n",
    "- One transducer that tranmists and one that received. Typically collocated (Active Monostatic Sonar)\n"
   ]
  },
  {
   "cell_type": "markdown",
   "id": "f5d0d27b",
   "metadata": {},
   "source": [
    "#### A single-beam echosounder\n",
    "\n",
    "- Distance is measured by multiplying half the time from the signal's outgoing pulse to its return by the speed of sound in the water.\n",
    "- Measurements are repeated periodically to measure the depth of the seabed measuring the time of flight\n",
    "\n",
    "<table>\n",
    "    <tr>\n",
    "        <td>\n",
    "            <img src=\"./images/10.sonar-practical-applications/6.Principle_of_SBES.svg.png\" alt=\"single beam\" style=\"width: 550px\"/>\n",
    "        </td>\n",
    "    </tr>\n",
    "</table> "
   ]
  },
  {
   "cell_type": "markdown",
   "id": "748aac32",
   "metadata": {},
   "source": [
    "- Multibeam echosounders do the same thing (there is the beam perpendicular to the seabed), but emits a number of other beams that insonify neighbouring areas and calculate the time of flight of all the beams\n",
    "- Knowing the angle of each beam we can calculate the depth\n",
    "\n",
    "<table>\n",
    "    <tr>\n",
    "        <td>\n",
    "            <img src=\"./images/10.sonar-practical-applications/3.MultibeamSurvey.jpg\" alt=\"MultibeamSurvey\" style=\"width: 450px\"/>\n",
    "        </td>            \n",
    "        <td>\n",
    "            <img src=\"./images/10.sonar-practical-applications/4.multi-beam-1.png\" alt=\"4.multi-beam-1\" style=\"width: 450px\"/>            \n",
    "        </td>\n",
    "    </tr>\n",
    "</table> \n",
    "\n",
    "_Figures: Scanning with Multibeam Bathymetry. Credit: Wessex Archaeology (Left), Hydro International (Right)_\n",
    "\n"
   ]
  },
  {
   "cell_type": "markdown",
   "id": "c8c3068f",
   "metadata": {},
   "source": [
    "- MBES Represented a step change in measuring the ocean\n",
    "  \n",
    "- The purpose of a large-scale bathymetric survey is to produce accurate depth measurements for many neighboring points on the sea floor such that an accurate picture of the geography of the bottom can be established. \n",
    "- To do this efficiently, two things are required of the sonar used: \n",
    "   - it must produce accurate depth measurements that correspond to well-defined locations on the sea floor (that is, specific latitudes and longitudes); \n",
    "   - and it must be able to make large numbers of these measurements in a reasonable amount of time. \n",
    "   \n",
    "Single beams echosounders fall short in both areas.\n",
    "\n"
   ]
  },
  {
   "cell_type": "markdown",
   "id": "949e880a",
   "metadata": {},
   "source": [
    "### Echo Location Questions – Where is the Bottom?\n",
    "\n",
    "- Echo sounder is to measure the range to the ocean floor accurately.\n",
    "- In a bathymetric survey, a sonar is most useful if it measures the range to a specific location on the bottom, ideally at a point directly below the vessel doing the survey.\n",
    "\n",
    "- Using the single-beam echo sounder you might assume that the time of the first echo from a ping determines the range to the bottom directly below the survey vessel.\n",
    "  - Sometime that is the case and the earliest echo is from directly below the sonar, because that is where the ping first encounters the bottom. For example for ideal, flat bottoms. \n",
    "  \n",
    "However...  "
   ]
  },
  {
   "cell_type": "markdown",
   "id": "7d60f985",
   "metadata": {},
   "source": [
    "<table>\n",
    "    <tr>\n",
    "        <td>\n",
    "            <img src=\"./images/10.sonar-practical-applications/9.echo-sounder-limits.png\" alt=\"9.echo-sounder-limits.png\" style=\"width: 400px\"/>\n",
    "        </td>                    \n",
    "    </tr>\n",
    "</table> \n",
    "\n",
    "_Figure from Multibeam Sonar Theory of Operation_\n",
    "\n",
    "- In this case, a bottom feature behind the vessel is closer to the sonar than the bottom directly below. \n",
    "- Pings from the single-beam echo sounder, which spread out spherically from the sonar, equally in all directions, strike the bottom first at this point\n",
    "- Operators on the survey vessel do not know that the first return echo is not from the bottom directly below\n",
    "- We can partially deal with this problem introducing some directivity\n",
    "- In this case, the bulk of the acoustic energy in the ping is focused within a narrow solid angle (beam)\n",
    "- The ping ensonifies only a small patch of the bottom, and the first returned echo can be assumed to come from this area\n",
    "\n",
    "<table>\n",
    "    <tr>\n",
    "        <td>\n",
    "            <img src=\"./images/10.sonar-practical-applications/9.echo-sounder-limits-1.png\" alt=\"9.echo-sounder-limits-1.png\" style=\"width: 400px\"/>\n",
    "        </td>                    \n",
    "    </tr>\n",
    "</table> \n"
   ]
  },
  {
   "cell_type": "markdown",
   "id": "c688242b",
   "metadata": {},
   "source": [
    "#### Single beam: further problems\n",
    "\n",
    "- Unstabilised beams: the hull of the ship (and hence the sonar) moves with waves. The magnitude of this problem depends on the severity of the weather, but it can be quite large. Roll and pitch angles of tens of degrees in moderately heavy seas are not uncommon in the open ocean.\n",
    "\n",
    "- Beams are made narrower by making the transducer face larger. \n",
    "   - For example, a circular 12 kHz transducer with a 30°beam width has a diameter of roughly 25 cm, but requires a diameter of roughly 295 cm for a 2.5°beam. \n",
    "   - The larger the transducer the higher the cost to manufacture."
   ]
  },
  {
   "cell_type": "code",
   "execution_count": null,
   "id": "34cb8041",
   "metadata": {},
   "outputs": [
    {
     "name": "stdout",
     "output_type": "stream",
     "text": [
      "0.23885350318471338\n"
     ]
    }
   ],
   "source": [
    "# Using the relationship we saw for an array (delta_theta = lambda/L)\n",
    "delta_theta = (1500/12000)/(30*3.14/180) # 30deg\n",
    "print(delta_theta)"
   ]
  },
  {
   "cell_type": "code",
   "execution_count": null,
   "id": "cb669f15",
   "metadata": {},
   "outputs": [
    {
     "data": {
      "text/plain": [
       "2.8662420382165603"
      ]
     },
     "execution_count": null,
     "metadata": {},
     "output_type": "execute_result"
    }
   ],
   "source": [
    "# Using the relationship we saw for an array (delta_theta = lambda/L)\n",
    "(1500/12000)/(2.5*3.14/180) # 2.5deg"
   ]
  },
  {
   "cell_type": "markdown",
   "id": "2f409071",
   "metadata": {},
   "source": [
    "#### A further comment\n",
    "\n",
    "- The solid angle size of the beam determines how accurately a narrow beam sonar can determine the location of depths on the bottom. \n",
    "\n",
    "- An observer recording an echo from such a sonar can determine only that the bottom is located somewhere within that angle at the computed range. \n",
    "\n",
    "- The size of the beam solid angle determines the resolution of a sonar.\n",
    "\n",
    "- The term resolution may apply to the angle itself, or to the physical size of the area on the bottom the beam ensonifies.\n",
    "- When resolution applies to the size of the ensonified area, it is not fixed and it depends on depth.\n",
    "\n",
    "- The deeper a ping goes, the larger an area its fixed solid angle will intersect.\n",
    "- The area of the ensonified bottom is proportional to the beam solid angle and to the square of the depth.\n",
    "\n",
    "<table>\n",
    "    <tr>\n",
    "        <td>\n",
    "            <img src=\"./images/10.sonar-practical-applications/9.echo-sounder-resolution.png\" alt=\"9.echo-sounder-resolution\" style=\"width: 400px\"/>\n",
    "        </td>                    \n",
    "    </tr>\n",
    "</table> \n"
   ]
  },
  {
   "cell_type": "markdown",
   "id": "18f5e820",
   "metadata": {},
   "source": [
    "### Survey Speed\n",
    "\n",
    "- With single beam echosounder nautical charts very highly approximated using sparse measurements: extremely high errors\n",
    "  - inappropriate instrument for large-scale bathymetric survey work\n",
    "  \n",
    "- With multi-beam echosounders this problem is reduced: we measure a swathe of seabed. Interpolation is still needed by we have much more measurements (typically less than 1m)\n",
    "- Highly accurate and deep coverage of the sea bed\n",
    "- Multibeams are only available since 1990s\n",
    "\n",
    "<table>\n",
    "    <tr>\n",
    "        <td>\n",
    "            <img src=\"./images/10.sonar-practical-applications/7.single-beam-maps.png\" alt=\"7.single-beam-maps.png\" style=\"width: 350px\"/>\n",
    "        </td>            \n",
    "        <td>\n",
    "            <img src=\"./images/10.sonar-practical-applications/8.multi-beam-maps.png\" alt=\"8.multi-beam-maps\" style=\"width: 350px\"/>            \n",
    "        </td>\n",
    "    </tr>\n",
    "</table> "
   ]
  },
  {
   "cell_type": "markdown",
   "id": "a1eb8394",
   "metadata": {},
   "source": [
    "- GPS is also available since the 1990s (accuracy of a few meters). \n",
    "- Before we used radio beacons, which at sea had a 100m accuracy. \n",
    "- Before Multibeams and GPS we had the uncertainty of the interpolatin and of the navigation \n",
    "\n",
    "- More in general multibeams require knowledge of sound speed profile and ship motion (roll, pitch and heave)"
   ]
  },
  {
   "cell_type": "markdown",
   "id": "83ec593a",
   "metadata": {},
   "source": [
    "- Can be installed on ship or smaller versions are available for ROV/AUVs/UxVs\n",
    "<table>\n",
    "    <tr>\n",
    "        <td>\n",
    "            <img src=\"./images/10.sonar-practical-applications/5.multi-beam-1.jpg\" alt=\"Multi Beam RSS SDA\" style=\"width: 250px\"/>\n",
    "        </td>\n",
    "    </tr>\n",
    "</table> "
   ]
  },
  {
   "cell_type": "markdown",
   "id": "57874108",
   "metadata": {},
   "source": [
    "## MBES, Operating Principle\n",
    "\n",
    "### The Mills Cross Technique\n",
    "\n",
    "- Remember that given an array, the true beam pattern can be seen by rotating the figure about the axis of the line array\n",
    "\n",
    "<table>\n",
    "    <tr>\n",
    "        <td>\n",
    "            <img src=\"./images/10.sonar-practical-applications/11.line-array-cylindrical-beampatter-simplified.png\" alt=\"Multi Beam RSS SDA\" style=\"width: 250px\"/>\n",
    "        </td>\n",
    "    </tr>\n",
    "</table> \n",
    "\n",
    "- A projector line array transmits sound preferentially in all directions perpendicular to the axis of the array, ensonifying a strip of the ocean bottom\n",
    "\n",
    "<table>\n",
    "    <tr>\n",
    "        <td>\n",
    "            <img src=\"./images/10.sonar-practical-applications/12.ensonified-bottom-1.png\" alt=\"12.ensonified-bottom\" style=\"width: 450px\"/>\n",
    "        </td>\n",
    "    </tr>\n",
    "</table> \n",
    "\n",
    "\n",
    "- A hydrophone array aligned parallel to the projector array receives echoes from all locations along a similar strip of the ocean floor. \n",
    "- If you want to accurately locate echoes on the ocean floor, this is not very useful.\n",
    "- The projector array will cause echoes all along the ensonified strip, and the hydrophone array will pick up echoes from a similar strip. \n",
    "- There will be no way of telling where the echoes are occurring along these strips\n",
    "\n",
    "- If the projector and hydrophone arrays are perpendicular to each other, the strip of the ocean floor ensonified by the projectors will intersect with the strip of the ocean floor observed by the hydrophones\n",
    "- This occurs in only a small area with dimensions that correspond approximately to the projector and hydrophone array beamwidths\n",
    "- Echoes occur along the entire ensonified area, \n",
    "- Sound may be received from the entire observed area, \n",
    "- However only a small part of the bottom is both ensonified by the projector array and observed by the hydrophone array beam, i.e., where the two strips overlap.\n",
    "- This is called, Mills Cross arrangement (named after a pioneering radio astronomy instrument built in New South Wales, Australia)"
   ]
  },
  {
   "cell_type": "markdown",
   "id": "21e8b80e",
   "metadata": {},
   "source": [
    "<table>\n",
    "    <tr>\n",
    "        <td>\n",
    "            <img src=\"./images/10.sonar-practical-applications/13.intersection.png\" alt=\"13.intersection\" style=\"width: 450px\"/>\n",
    "        </td>\n",
    "    </tr>\n",
    "</table> \n",
    "\n"
   ]
  },
  {
   "cell_type": "markdown",
   "id": "9b0f1d92",
   "metadata": {},
   "source": [
    "- We can now leverage beamforming\n",
    "- Beam steering can be used to observe echoes generated from multiple angles with the hydrophone array\n",
    "- Different angles observe parallel strips of the bottom, which will intersect with the ensonified area in a series of small patches\n",
    "- Multiple steered beams can be used to receive the echoes from discrete locations all along the ensonified area, allowing the sonar to determine ranges to a strip of locations with each ping."
   ]
  },
  {
   "cell_type": "markdown",
   "id": "a0f0a8f7",
   "metadata": {},
   "source": [
    "<table>\n",
    "    <tr>\n",
    "        <td>\n",
    "            <img src=\"./images/10.sonar-practical-applications/10.T-configuration-of-linear-transducer-arrays-and-the-resulting-beam-patterns-2.png\" alt=\"10.T-configuration-of-linear-transducer-arrays-and-the-resulting-beam-patterns\" style=\"width: 550px\"/>            \n",
    "        </td>\n",
    "    </tr>\n",
    "</table>    "
   ]
  },
  {
   "cell_type": "markdown",
   "id": "eae072d9",
   "metadata": {},
   "source": [
    "- Since we know the beam steering angle\n",
    "- For each patch we measure the two way travel time \n",
    "- We calculate the depth of the sea bed from the sea surface\n"
   ]
  },
  {
   "cell_type": "markdown",
   "id": "b232dd77",
   "metadata": {},
   "source": [
    "Comments:\n",
    "- With a Multibeam, sound speed plays a bigger role than with the single beam echosounder (where we only go straight)\n",
    "- When we transmit with a slant angle, if the sound speep profile is not constant with depth (and it is not), we have refraction\n",
    "\n",
    "<table>\n",
    "    <tr>\n",
    "        <td>\n",
    "            <img src=\"./images/10.sonar-practical-applications/14.ray-bending-mbes-1.png\" alt=\"14.ray-bending-mbes\" style=\"width: 550px\"/>            \n",
    "        </td>\n",
    "    </tr>\n",
    "</table>    \n",
    "\n",
    "- It is important to know the sound speed profile and keep into account how rays might bend (e.g., impact on footprint on the seabed)\n",
    "\n",
    "- This is important in MBES and not in single beam echosounder (where we are insterested only in the ship-to-bottom straight path)\n"
   ]
  },
  {
   "cell_type": "markdown",
   "id": "1776a1e3",
   "metadata": {},
   "source": [
    "### MBES and backscattering\n",
    "- Works measuring the backscatter\n",
    "- Wavelength must be comparable to the bottom roughness\n",
    "- Since we want to measure bathymetry everywhere, even when it is centimeters\n",
    "- Frequency needs to be high enough\n",
    "\n",
    "If bottom roughness is $\\sigma = 10cm$, then wavelength should be $\\lambda\\approx10cm$\n",
    "\n",
    "$$\\lambda = \\frac{c}{f} = \\frac{1500}{f} \\Rightarrow 0.1 = \\frac{1500}{f} $$\n",
    "\n",
    "$$ f = \\frac{1500}{0.1} = 15kHz $$\n",
    "\n",
    "- $\\sigma$ can be easily smaller than $10cm$ (e.g., clay) and MBES frequencies can often go >100kHz\n",
    "- Limits to their range\n",
    "- Decreasing frequency to increase range MBES constraint their maximum resolution\n",
    "\n",
    "- Remember that $\\Delta \\theta$ (amplitude of the beam) depends on the frequency and we have a larger patch on the seabed (and the resolution decreases accordingly)\n",
    "\n",
    "<table>\n",
    "    <tr>\n",
    "        <td>\n",
    "            <img src=\"./images/10.sonar-practical-applications/15.decrease-f.png\" alt=\"15.decrease-f\" style=\"width: 550px\"/>            \n",
    "        </td>\n",
    "    </tr>\n",
    "</table>   \n",
    "\n",
    "- Some MBES can use multiple frequencies simultaneously. \n",
    "- All the previous limitations still hold, using multiple frequencies can reduce the amount of noise encountered. \n",
    "- Rather than not having some (high frequency) depths, these data points can be filled in using lower frequency data (although with a larger footprint and thus showing less detail)."
   ]
  },
  {
   "cell_type": "markdown",
   "id": "85e2d299",
   "metadata": {},
   "source": [
    "- The final data density is defined by the number of beams (depths) and the ping rate, or the number of swathes that the MBES can measure per second. \n",
    "- The ping rate depends on the water depth, and can be as high as 60 pings per second in shallow water."
   ]
  },
  {
   "cell_type": "markdown",
   "id": "7e44b78f",
   "metadata": {},
   "source": [
    "### Water Column Data\n",
    "\n",
    "- A traditional MBES measures a single depth per beam per ping. \n",
    "- In general, the ‘first depth strong enough to be detected’ will result in the depth displayed. \n",
    "- Less strong depths that may be closer to the multibeam are not detected. \n",
    "- Also, a strong reflector close to the transducer may give a depth rather than the weaker bottom below it.\n",
    "\n",
    "\n",
    "- Modern MBES systems reads water column data. \n",
    "- The water column of each beam is divided into a number of ‘bins’. \n",
    "- The MBES now looks for a return within each bin for each beam for each ping. \n",
    "- MBES to measure multiple reflections and thus create 3D images of objects in the water column (or to see the bottom through, for example, vegetation). \n",
    "\n",
    "- Many beams, multi-frequency and a high ping rate make the amount of data gathered enormous.\n",
    "- Time spent processing is not negligible"
   ]
  },
  {
   "cell_type": "markdown",
   "id": "cad78901",
   "metadata": {},
   "source": [
    "<table>\n",
    "    <tr>\n",
    "        <td>\n",
    "            <img src=\"./images/10.sonar-practical-applications/18.mbes-3d.png\" alt=\"18.mbes-3d.png\" style=\"width: 750px\"/>            \n",
    "        </td>\n",
    "    </tr>\n",
    "</table>  "
   ]
  },
  {
   "cell_type": "markdown",
   "id": "dd587bf4",
   "metadata": {},
   "source": [
    "### Transmitted signals\n",
    "- Where in the past the transmitted signal was a ‘continuous wave’ (CW), \n",
    "- Today MBES often also transmit what is called an FM or CHIRP (Compressed High Intensity Radar Pulse) signal.    - Main advantage of the CHIRP is a longer range with better range resolution.\n",
    "\n",
    "- For a CW type MBES, the range resolution is defined by the pulse length of the signal, \n",
    "- For a CHIRP type MBES the range resolution is defined by the bandwidth of the signal,\n",
    "- This makes it possible to transmit longer pulses and therefore to have more power in water. "
   ]
  },
  {
   "cell_type": "markdown",
   "id": "9cf29a32",
   "metadata": {},
   "source": [
    "### Movement of source and receiver\n",
    "\n",
    "- Movement is always present\n",
    "- MBES has always an angle (roll, pitch and heave in particular) with respect to the sea surface\n",
    "- Measure movement of the ship and use it during the calculation of the depth\n",
    "\n",
    "- MBES are complex and cost much more than single beam echosounder (1k-1M USD)"
   ]
  },
  {
   "cell_type": "markdown",
   "id": "77eed956",
   "metadata": {},
   "source": [
    "<table>\n",
    "    <tr>\n",
    "        <td>\n",
    "            <img src=\"./images/10.sonar-practical-applications/16.kongsberg.png\" alt=\"16.kongsberg\" style=\"width: 550px\"/>            \n",
    "        </td>\n",
    "    </tr>\n",
    "</table>  \n"
   ]
  },
  {
   "cell_type": "markdown",
   "id": "264dab3a",
   "metadata": {},
   "source": [
    "<table>\n",
    "    <tr>\n",
    "    <td>\n",
    "    <figure>\n",
    "    <video controls src=\"./videos/EV Nautilus - Multibeam Mapping Teaching Animation.mp4\" width=\"600\" height=\"400\" frameborder=\"0\"></video> \n",
    "    <figcaption>Courtesy of Ocean Exploration Trust/ Nautilus Live.</figcaption>        \n",
    "    </figure>    \n",
    "    </td>    \n",
    "    </tr>\n",
    "</table>  "
   ]
  },
  {
   "cell_type": "markdown",
   "id": "6db9c5e0",
   "metadata": {},
   "source": [
    "\n",
    "<table>\n",
    "    <tr>\n",
    "        <td>\n",
    "            <img src=\"./images/10.sonar-practical-applications/20.mbes-1.png\" alt=\"20.mbes-1\" style=\"width: 550px\"/>            \n",
    "        </td>\n",
    "    </tr>\n",
    "</table> \n",
    "\n",
    "<table>\n",
    "    <tr>\n",
    "        <td>\n",
    "            <img src=\"./images/10.sonar-practical-applications/20.mbes-2.png\" alt=\"20.mbes-1\" style=\"width: 550px\"/>            \n",
    "        </td>\n",
    "    </tr>\n",
    "</table> \n"
   ]
  },
  {
   "cell_type": "markdown",
   "id": "df97d249",
   "metadata": {},
   "source": [
    "## MBES on a Robot\n",
    "\n",
    "<table>\n",
    "    <tr>\n",
    "        <td>\n",
    "            <img src=\"./images/10.sonar-practical-applications/17.remus-and-mbes.png\" alt=\"17.remus-and-mbes\" style=\"width: 550px\"/>            \n",
    "        </td>\n",
    "    </tr>\n",
    "</table> \n",
    "\n",
    "- Small size, high frequency systems can be installed  on AUVs\n",
    "- Navigating close to the seabed, high resolution bathymetry can be obtained also in deep water\n",
    "\n",
    "<table>\n",
    "    <tr>\n",
    "        <td>\n",
    "            <img src=\"./images/10.sonar-practical-applications/19.mbes-autosub.png\" alt=\"19.mbes-autosub\" style=\"width: 650px\"/>            \n",
    "        </td>\n",
    "    </tr>\n",
    "</table> \n",
    "\n",
    "\n",
    "\n",
    "\n"
   ]
  },
  {
   "cell_type": "markdown",
   "id": "0fa6c2df",
   "metadata": {},
   "source": [
    "### Some examples\n",
    "\n",
    "#### Whittard Canyon\n",
    "<table>\n",
    "    <tr>\n",
    "    <td>\n",
    "    <figure>\n",
    "    <video controls src=\"./videos/CODEMAP Project - 017 - AUV seabed mapping.mp4\" width=\"600\" height=\"400\" frameborder=\"0\"></video> \n",
    "    <figcaption>Courtesy of The National Oceanography Centre, CODEMAP project.</figcaption>        \n",
    "    </figure>    \n",
    "    </td>    \n",
    "    </tr>\n",
    "</table>  "
   ]
  },
  {
   "cell_type": "markdown",
   "id": "7f6666f6",
   "metadata": {},
   "source": [
    "#### Pianosa, Archaeological site\n",
    "\n",
    "- 30m Depth\n",
    "- Survey from a ship\n",
    "- Reason MBES 445 kHz\n",
    "- Colors are due to image processing only (e.g., shadows are artefacts from the Graphical Rendering)\n",
    "- Top-Left part of the area is Posidonia (30m is the typical growth limit)\n",
    "   - Posidonia produces high scattering through its length, and this implies that measured time is more uncertain (see zommed area)\n",
    "\n",
    "<table>\n",
    "    <tr>\n",
    "        <td>\n",
    "            <img src=\"./images/10.sonar-practical-applications/21.mbes-example-pianosa.png\" alt=\"21.mbes-example-pianosa\" style=\"width: 650px\"/>            \n",
    "        </td>\n",
    "         <td>\n",
    "            <img src=\"./images/10.sonar-practical-applications/21.mbes-example-pianosa-zoomed-2.png\" alt=\"21.mbes-example-pianosa-zoomed\" style=\"width: 650px\"/>            \n",
    "        </td>        \n",
    "    </tr>\n",
    "</table> \n",
    "\n",
    "_Figure: A multibeam-sonar image of the underwater archaeological site near the island of Pianosa, off the west coast of Italy. The site contains approximately 100 amphorae of different origins and epochs_"
   ]
  },
  {
   "cell_type": "markdown",
   "id": "4504bb4b",
   "metadata": {},
   "source": [
    "## Side-Scan Sonars\n",
    "\n",
    "- Sidescan sonars are primarily designed to provide “acoustic images” of the seafloor, with high resolution\n",
    "- A  sidescan  sonar system consists of a recording device, an underwater sensor (a towfish with a transducer on the port and starboard side, respectively), and a tow cable to connect the two\n",
    "\n",
    "- Side-scan sonar does not (with the exception of interferometrics) have the capacity to incorporate information about the bottom topography, \n",
    "- If the bottom is not flat it requires additional bathymetric data on which to base processing corrections.\n",
    "- Without taking these factors into account, the intensity of the backscatter return is significantly affected by bathymetric variation, to the point that it is of limited usefulness for quantitative analysis.\n",
    "- Traditional analysis of SSS is primarily image-based, using the constructed sonograph for visual interpretation."
   ]
  },
  {
   "cell_type": "markdown",
   "id": "aeb79269",
   "metadata": {},
   "source": [
    "- Records the backscatter signal from the bottom\n",
    "\n",
    "- Leverage Tx beamforming\n",
    "    - Wide beam on the _across track_ direction\n",
    "    - Narrow beam on the _along track_ direction\n",
    "- Measures the return signal\n",
    "  - Proportional (there is propagation loss) to the backscatter intensity\n",
    "  - Return signals have a temporal sequencing (first return from the closest point of the bottom, etc.)\n",
    "- For each Tx we have a return signal as a function of time and with an intensity that is proportional to the received intensity\n",
    "  - Pixel color is correlated to the backscatter amplitude (e.g., black no signal, white high backscatter, etc)\n",
    "  - Pixel are aligned on a strip\n",
    "  - Aligning strips form an image of the bottom\n",
    "  \n",
    "- Frequency of operations: 100-700 kHz (typically between 300-400 kHz)\n",
    "   - 100 kHz: low resolution\n",
    "   - 700 kHz: high resolution\n",
    "   \n",
    "- For this reason, side scans where towed systems rather than being installed on the ship's keel\n",
    "  - Need to have the system close to the bottom\n",
    "\n",
    "<table>\n",
    "    <tr>\n",
    "        <td>\n",
    "            <img src=\"./images/10.sonar-practical-applications/23.sidescan_sonar_lge.jpg\" alt=\"23.sidescan_sonar_lge.jpg\" style=\"width: 650px\"/>            \n",
    "        </td>           \n",
    "    </tr>\n",
    "</table> \n",
    "\n",
    "<!--table>\n",
    "    <tr>\n",
    "        <td>\n",
    "            <img src=\"./images/10.sonar-practical-applications/24.sidescan-2.png\" alt=\"24.sidescan-1.png\" style=\"width: 650px\"/>       \n",
    "        </td>           \n",
    "    </tr>\n",
    "</table--> \n"
   ]
  },
  {
   "cell_type": "markdown",
   "id": "3a1e3d80",
   "metadata": {},
   "source": [
    "- Two transmit/receive arrays positioned on the side of the body of the tow fish (side scan)"
   ]
  },
  {
   "cell_type": "markdown",
   "id": "331859b0",
   "metadata": {},
   "source": [
    "### Side scan parameters and beam pattern\n",
    "\n",
    "<table>\n",
    "    <tr>\n",
    "        <td>\n",
    "            <img src=\"./images/10.sonar-practical-applications/24.sidescan-1.png\" alt=\"24.sidescan-1.png\" style=\"width: 650px\"/>     \n",
    "        </td>\n",
    "        <td>\n",
    "            <img src=\"./images/10.sonar-practical-applications/24.sidescan-3.png\" alt=\"24.sidescan-1.png\" style=\"width: 650px\"/> \n",
    "        </td>           \n",
    "    </tr>\n",
    "</table> \n",
    "\n",
    "- Sidelobes look behind the main transmit direction\n",
    "\n",
    "- Range: The maximum distance from the transducers that the SONAR signal can detect usable signals.\n",
    "- Slant range: The straight-line distance from the tow fish to an object at any given location\n",
    "- Range delay: The distance (or range) that the sonar device is told to wait after pinging before it starts recording acoustic returns. The most common use for range delay is to not record the water column – i.e. the time for the ping to reach the seafloor in a straight line (first return)"
   ]
  },
  {
   "cell_type": "markdown",
   "id": "6f024b0e",
   "metadata": {},
   "source": [
    "### Main beam\n",
    "<table>\n",
    "    <tr>        \n",
    "        <td>\n",
    "            <img src=\"./images/10.sonar-practical-applications/24.sidescan-4.png\" alt=\"24.sidescan.png\" style=\"width: 650px\"/> \n",
    "        </td>           \n",
    "    </tr>\n",
    "</table>\n",
    "\n",
    "- The main signal moves within the angles of the main beam (remember the 3dB rule we used)\n",
    "- Note the shadow part after the object: waves do not progate through it and no backscatter signals are received for a while"
   ]
  },
  {
   "cell_type": "markdown",
   "id": "840984b2",
   "metadata": {},
   "source": [
    "### Side Scan Sonars on an AUV\n",
    "\n",
    "<table>\n",
    "    <tr>\n",
    "        <td>\n",
    "            <img src=\"./images/10.sonar-practical-applications/17.remus-and-mbes.png\" alt=\"17.remus-and-mbes\" style=\"width: 550px\"/>            \n",
    "        </td>\n",
    "    </tr>\n",
    "</table> \n",
    "\n",
    "- Need for careful attitude of the vehicle\n",
    "- Attitude compensation possible to correct data"
   ]
  },
  {
   "cell_type": "markdown",
   "id": "bb486a0c",
   "metadata": {},
   "source": [
    "## Side Scan Sonar Imagery"
   ]
  },
  {
   "cell_type": "markdown",
   "id": "35b17c2d",
   "metadata": {},
   "source": [
    "<table>\n",
    "    <tr>\n",
    "        <td>\n",
    "            <img src=\"./images/10.sonar-practical-applications/24.sidescan-sources-1.png\" alt=\"24.sidescan-sources\" style=\"width: 550px\"/>            \n",
    "        </td>\n",
    "    </tr>\n",
    "</table> "
   ]
  },
  {
   "cell_type": "markdown",
   "id": "220591e2",
   "metadata": {},
   "source": [
    "- side lobes might pick up bottom and surface returns\n",
    "- presence of fish (in the middle of the water column) generates volume scattering. Returns might come in-between bottom returns. Generate shadows."
   ]
  },
  {
   "cell_type": "markdown",
   "id": "002dd760",
   "metadata": {},
   "source": [
    "<table>\n",
    "    <tr>\n",
    "        <td>\n",
    "            <img src=\"./images/10.sonar-practical-applications/25.sss-1.png\" alt=\"25.sss-1\" style=\"width: 550px\"/>            \n",
    "        </td>\n",
    "        <td>\n",
    "            <img src=\"./images/10.sonar-practical-applications/25.sss-2.png\" alt=\"25.sss-1\" style=\"width: 550px\"/>            \n",
    "        </td>\n",
    "    </tr>\n",
    "</table> \n"
   ]
  },
  {
   "cell_type": "markdown",
   "id": "00f0fe09",
   "metadata": {},
   "source": [
    "### What are we looking at?\n",
    "\n",
    "<table>\n",
    "    <tr>\n",
    "        <td>\n",
    "            <img src=\"./images/10.sonar-practical-applications/26.sss-3.png\" alt=\"25.sss-1\" style=\"width: 550px\"/>            \n",
    "        </td>\n",
    "    </tr>\n",
    "</table> \n",
    "\n",
    "- Waterfall: A term used to describe a display that puts the newest data at the top and scrolls the data down like a waterfall\n",
    "- Water column: The water length between the sensor and the seafloor.\n",
    "- Swath: The total side-to-side coverage of the SONAR signal on each sweep of the seabed\n",
    "- Nadir: no return area from the water column\n",
    "- Note the transmit signal as first few pings of the image (strong yellow intensity at the centre), which is also received "
   ]
  },
  {
   "cell_type": "markdown",
   "id": "c673e7fd",
   "metadata": {},
   "source": [
    "<table>\n",
    "    <tr>\n",
    "        <td>\n",
    "            <img src=\"./images/10.sonar-practical-applications/27.sss-41.png\" alt=\"25.sss-1\" style=\"width: 550px\"/>            \n",
    "        </td>\n",
    "    </tr>\n",
    "</table> "
   ]
  },
  {
   "cell_type": "markdown",
   "id": "5cea72f0",
   "metadata": {},
   "source": [
    "A more complex example\n",
    "\n",
    "<table>\n",
    "    <tr>\n",
    "        <td>\n",
    "            <img src=\"./images/10.sonar-practical-applications/28.sss-5.png\" alt=\"28.sss-5.png\" style=\"width: 550px\"/>            \n",
    "        </td>\n",
    "    </tr>\n",
    "</table> \n",
    "\n",
    "_Figure: Courtesy of Hydroid, 2010_\n",
    "\n",
    "- Surface and bottom returns might be due to sidelobes\n",
    "    - They tend do be constantly present in the image\n",
    "- High backscatter lines (close to nadir) due to surface and bottom returns (left and right).\n",
    "    - The difference in intensity between left and right channel might indicate that there is a left-right slope (we are farther away from the bottom) or a rolled vehicle.\n",
    "    - Surface or bottom returns (their order) depend on which one is the closest\n",
    "- Note the presence of fish (volume scattering)\n",
    "    - shadows make it possible to say that it is fish"
   ]
  },
  {
   "cell_type": "markdown",
   "id": "ad83aea6",
   "metadata": {},
   "source": [
    "Given the specific geometric mounting of the sidescan sonar\n",
    "- We do not see very well right below the sonar\n",
    "   - Shadows are compressed and small\n",
    "- And far away from it\n",
    "   - Shadows of objects at the edge are cut off\n",
    "- Ideal range is mid-range\n",
    "\n",
    "<table>\n",
    "    <tr>\n",
    "        <td>\n",
    "            <img src=\"./images/10.sonar-practical-applications/29.sss-6a.png\" alt=\"28.sss-5.png\" style=\"width: 550px\"/>            \n",
    "        </td>\n",
    "        <td>\n",
    "            <img src=\"./images/10.sonar-practical-applications/29.sss-61.png\" alt=\"28.sss-5.png\" style=\"width: 550px\"/>            \n",
    "        </td>\n",
    "    </tr>\n",
    "</table> \n"
   ]
  },
  {
   "cell_type": "markdown",
   "id": "7907d66c",
   "metadata": {},
   "source": [
    "### Impact of object location in the sonar range\n",
    "\n",
    "- Some object in two different side scan areas\n",
    "\n",
    "\n",
    "<table>\n",
    "    <tr>        \n",
    "        <td>\n",
    "            <img src=\"./images/10.sonar-practical-applications/30.sss-7right.png\" alt=\"28.sss-5.png\" style=\"width: 550px\"/>    \n",
    "        </td>        \n",
    "        <td>\n",
    "            <img src=\"./images/10.sonar-practical-applications/30.sss-7left.png\" alt=\"28.sss-5.png\" style=\"width: 550px\"/>            \n",
    "        </td> \n",
    "    </tr>\n",
    "     <tr>\n",
    "        <td>\n",
    "            Near Nadir: high backscatter, short shadow\n",
    "        </td> \n",
    "         <td>\n",
    "            Sweet Area: high backscatter, longer shadow\n",
    "        </td> \n",
    "    </tr>\n",
    "</table> \n",
    "\n",
    "- Looking at the sweet area is easier to see: a cylindrical weight, a cable and something attached to it."
   ]
  },
  {
   "cell_type": "markdown",
   "id": "7920c63d",
   "metadata": {},
   "source": [
    "<table>\n",
    "    <tr>\n",
    "        <td>\n",
    "            <img src=\"./images/10.sonar-practical-applications/31.sss-8.png\" alt=\"31.sss-8.png\" style=\"width: 550px\"/>            \n",
    "        </td>        \n",
    "    </tr>\n",
    "</table> "
   ]
  },
  {
   "cell_type": "markdown",
   "id": "469bc75c",
   "metadata": {},
   "source": [
    "### Flat sand bottom and Flat mud bottom\n",
    "\n",
    "<table>\n",
    "    <tr>\n",
    "        <td>\n",
    "            <img src=\"./images/10.sonar-practical-applications/32.sss-flat-sand.png\" alt=\"32.sss-flat-sand.png\" style=\"width: 450px\"/>            \n",
    "        </td>  \n",
    "        <td>\n",
    "            <img src=\"./images/10.sonar-practical-applications/33.sss-mud-1.png\" alt=\"33.sss-mud\" style=\"width: 450px\"/>            \n",
    "        </td>  \n",
    "    </tr>\n",
    "</table> \n",
    "\n",
    "\n",
    "Note:\n",
    "- difference in texture between the two types of bottom\n",
    "- color change in the right image. This is due to change of gain of the received signal (no natural surface would produce this change in reflectivity) \n"
   ]
  },
  {
   "cell_type": "markdown",
   "id": "9d31f479",
   "metadata": {},
   "source": [
    "### Large and small sand ridges\n",
    "\n",
    "<table>\n",
    "    <tr>\n",
    "        <td>\n",
    "            <img src=\"./images/10.sonar-practical-applications/34.sss-large-sand-1.png\" alt=\"34.sss-large-sand\" style=\"width: 250px\"/>            \n",
    "        </td>  \n",
    "        <td>\n",
    "            <img src=\"./images/10.sonar-practical-applications/35.sss-small-sand-1.png\" alt=\"33.sss-small-sand\" style=\"width: 450px\"/>            \n",
    "        </td>  \n",
    "    </tr>\n",
    "</table> "
   ]
  },
  {
   "cell_type": "markdown",
   "id": "cc8067be",
   "metadata": {},
   "source": [
    "<table>\n",
    "    <tr>\n",
    "        <td>\n",
    "            <img src=\"./images/10.sonar-practical-applications/36.sss-rocks-and-sand-1.png\" alt=\"34.sss-rocks and-sand\" style=\"width: 450px\"/>            \n",
    "        </td>          \n",
    "    </tr>\n",
    "</table> "
   ]
  },
  {
   "cell_type": "markdown",
   "id": "0ef2bbbb",
   "metadata": {},
   "source": [
    "- Yellow lines are due to acoustic interference from another device"
   ]
  },
  {
   "cell_type": "markdown",
   "id": "2427e617",
   "metadata": {},
   "source": [
    "## Objects\n",
    "\n",
    "<table>\n",
    "    <tr>\n",
    "    <td>\n",
    "        <img src=\"./images/10.sonar-practical-applications/37.object-1-1.png\" alt=\"object\" style=\"width: 450px\"/>            \n",
    "    </td> \n",
    "    </tr>       \n",
    "    <tr>\n",
    "    <td>\n",
    "       <img src=\"./images/10.sonar-practical-applications/37.object-2-1.png\" alt=\"object\" style=\"width: 450px\"/>            \n",
    "    </td> \n",
    "    </tr>\n",
    "    <tr>\n",
    "    <td>\n",
    "       <img src=\"./images/10.sonar-practical-applications/37.object-3-1.png\" alt=\"object\" style=\"width: 550px\"/>            \n",
    "    </td>  \n",
    "    </tr>\n",
    "</table> \n",
    "\n",
    "- Top image: Bottom object, sweet area (note how clearly is visible and how regular it is - possibly manmade)\n",
    "- Middle image: Bottom object, near nadir (limited shadow - difficult to detect)\n",
    "- Bottom image: Object with clear shadows: weight, cable and buoy\n",
    "    - Something that reflets in the water column (visible in the nadir region)\n",
    "    - Note the long shadow. This is a buoy with a cable (which also produces backscatter)"
   ]
  },
  {
   "cell_type": "markdown",
   "id": "7fbeb21d",
   "metadata": {},
   "source": [
    "### Vehicle turns\n",
    "\n",
    "<table>\n",
    "    <tr>\n",
    "        <td>\n",
    "            <img src=\"./images/10.sonar-practical-applications/38.vehicle-turns.png\" alt=\"38-vehicle-turns\" style=\"width: 450px\"/>            \n",
    "        </td>          \n",
    "    </tr>\n",
    "</table> \n",
    "\n",
    "- vehicle turns means rolling, and returns from the bottom are not straight anymore."
   ]
  },
  {
   "cell_type": "markdown",
   "id": "0540c9ce",
   "metadata": {},
   "source": [
    "### Man made debries near rocks and kelps\n",
    "\n",
    "<table>\n",
    "    <tr>\n",
    "        <td>\n",
    "            <img src=\"./images/10.sonar-practical-applications/39.man-made-objects.png\" alt=\"39-man-made-objects\" style=\"width: 550px\"/>            \n",
    "        </td>          \n",
    "        <td>\n",
    "            <img src=\"./images/10.sonar-practical-applications/39.kelp.jpg\" alt=\"Kelp\" style=\"width: 250px\"/>            \n",
    "        </td>\n",
    "    </tr>\n",
    "</table> \n",
    "\n",
    "\n",
    "- Muddy bottom with rocks\n",
    "- Objects in the water column with long shadows: kelp\n",
    "- Man made debries also present"
   ]
  },
  {
   "cell_type": "markdown",
   "id": "efe6f0b9",
   "metadata": {},
   "source": [
    "## Advanced Systems\n",
    "\n",
    "- We can combine SSS and multibeam (e.g, install on the same vehicle)\n",
    "- Careful with frequency choice or through time division (mission scheduling)\n",
    "\n",
    "- Some SSS can operate at multiple frequencies\n",
    "  - Lower frequency (longer range) is used for identification: \"I saw something\"\n",
    "  - Higher frequency (shorter range) is used for classification: \"I know what it is\"\n",
    "  - Typically done through two different mission phases\n",
    "  \n",
    "- Interferometric SSS\n",
    "  - Use not one, but two RX arrays per side are used to measure the phase difference of the received signal and determine the bathymetry. \n",
    "  - Only one TX ping.\n",
    "  - Geometry of the receivers well known (e.g., location on the vehicle).\n",
    "   "
   ]
  },
  {
   "cell_type": "markdown",
   "id": "86c45fda",
   "metadata": {},
   "source": [
    "### Synthetic Aperture Sonar (SAS)\n",
    "  - Newer development (10-15Y)\n",
    "  - Simple concept but difficult to engineer\n",
    "  \n",
    "- The same point is ensonified by a number of different pings from different locations\n",
    "- Identifing the time of arrivals of each point "
   ]
  },
  {
   "cell_type": "markdown",
   "id": "7b5e9409",
   "metadata": {},
   "source": [
    "<table>\n",
    "    <tr>\n",
    "        <td>\n",
    "            <img src=\"./images/10.sonar-practical-applications/40.sas.png\" alt=\"40.sas\" style=\"width: 550px\"/>            \n",
    "        </td>  \n",
    "        <td>\n",
    "            <img src=\"./images/10.sonar-practical-applications/41.sas-1.png\" alt=\"41.sas-1\" style=\"width: 550px\"/>            \n",
    "        </td>          \n",
    "    </tr>\n",
    "</table> \n"
   ]
  },
  {
   "cell_type": "markdown",
   "id": "307cddd3",
   "metadata": {},
   "source": [
    "Backscatter from a single ping, at time $t_1$:\n",
    "$$\n",
    "b_{1} = b_{true} + n_1\n",
    "$$\n",
    "\n",
    "Having multiple pings:\n",
    "$$\n",
    "b_{HD} = b_{1} + b_{2} + b_{3}\n",
    "$$\n",
    "\n",
    "Since the point is the same, \n",
    "\n",
    "$$\n",
    "b_{HD} = 3b_{true} + n_1 + n_2 + n_3\n",
    "$$"
   ]
  },
  {
   "cell_type": "markdown",
   "id": "f124dbe6",
   "metadata": {},
   "source": [
    "if the noise has zero mean, we have a gain in the true backscatter value and a decrease (we are averaging) of the noise associated to different ping.\n",
    "\n",
    "The identification of the reception times ($t_1$, $t_2$, $t_3$) is critical. If I use wrong times, I am summing up backscatters from different points of the bottom and results are wrong.\n",
    "\n",
    "The association of time to spatial coordinates is difficult and depends on the vehicle navigation.\n",
    "In this case the relative navigation across the pings is important and we often talk of micronavigation.\n",
    "\n",
    "Only a minor numer of systems are able to do it (e.g., Kongsberg).\n",
    "\n",
    "Called Synthetic Aperture, because it is equivalent to build an antenna of sidescan sonars (receivers)\n",
    "\n",
    "\n",
    "\n",
    "Terminology\n",
    "- Length of antenna: aperture\n",
    "- Length of array of sidescans is synthetic because it is built through digital processing"
   ]
  },
  {
   "cell_type": "markdown",
   "id": "d9fd367d",
   "metadata": {},
   "source": [
    "\n",
    "<table>\n",
    "    <tr>\n",
    "        <td>\n",
    "            <img src=\"./images/10.sonar-practical-applications/42.side-scan-sas.png\" alt=\"42.side-scan-sas\" style=\"width: 550px\"/>            \n",
    "        </td>   \n",
    "        <td>\n",
    "            <img src=\"./images/10.sonar-practical-applications/43.dolias.png\" alt=\"43.dolias\" style=\"width: 150px\"/>            \n",
    "        </td>   \n",
    "    </tr>\n",
    "    <tr>\n",
    "        <td>SSS 384kHz (left) and SAS 300 kHz (middle)</td>\n",
    "        <td></td>\n",
    "        <td></td>\n",
    "    </tr>    \n",
    "</table> \n",
    "\n",
    "\n",
    "\n",
    "- Inverted colorscale for left SSS image: shadows are white\n",
    "- SSS is high frequency of SAS but has lower resolution\n",
    "\n",
    "- Roman Dolias\n",
    "- Off the coast of Isola d'Elba\n",
    "- 60m depth"
   ]
  },
  {
   "cell_type": "markdown",
   "id": "e6cb4abd",
   "metadata": {},
   "source": [
    "## Sonars and Navigation\n",
    "\n",
    "- Side Scan Sonar is often payload for Self Localisation and Mapping (SLAM)\n",
    "- Multi-beam is often payload for Terrain-based navigation and can be useful for SLAM as well.\n"
   ]
  },
  {
   "cell_type": "markdown",
   "id": "272efac2",
   "metadata": {},
   "source": [
    "## Terrain-aided Navigation\n",
    "\n",
    "\n",
    "<table>\n",
    "    <tr>\n",
    "        <td>\n",
    "            <img src=\"./images/10.sonar-practical-applications/44.tan-1.png\" alt=\"TAN\" style=\"width: 650px\"/>            \n",
    "        </td>           \n",
    "    </tr>\n",
    "    <tr>\n",
    "        <td>DYNOPO Cruise, NOC</td>\n",
    "    </tr>    \n",
    "</table> \n",
    "\n",
    "\n",
    "<table>\n",
    "    <tr>\n",
    "        <td>\n",
    "            <img src=\"./images/10.sonar-practical-applications/44.tan-2.png\" alt=\"TAN\" style=\"width: 650px\"/>            \n",
    "        </td>           \n",
    "    </tr>     \n",
    "</table> \n",
    "\n",
    "<table>\n",
    "    <tr>\n",
    "        <td>\n",
    "            <img src=\"./images/10.sonar-practical-applications/44.tan-3.png\" alt=\"TAN\" style=\"width: 650px\"/>            \n",
    "        </td>           \n",
    "    </tr>     \n",
    "</table> \n",
    "<table>\n",
    "    <tr>\n",
    "        <td>\n",
    "            <img src=\"./images/10.sonar-practical-applications/44.tan-4.png\" alt=\"TAN\" style=\"width: 650px\"/>            \n",
    "        </td>           \n",
    "    </tr>     \n",
    "</table> \n",
    "<table>\n",
    "    <tr>\n",
    "        <td>\n",
    "            <img src=\"./images/10.sonar-practical-applications/44.tan-5.png\" alt=\"TAN\" style=\"width: 650px\"/>            \n",
    "        </td>           \n",
    "    </tr>     \n",
    "</table> \n",
    "\n",
    "\n",
    "\n",
    "\n",
    "_Salavasidis et al, \"Terrain‐aided navigation for long‐range AUVs in dynamic under‐mapped environments\", Journal of Field Robotics_\n",
    "\n"
   ]
  },
  {
   "cell_type": "markdown",
   "id": "6eb1b0f4",
   "metadata": {},
   "source": [
    "## Sub-bottom profilers\n",
    "\n",
    "- So far we have focused on exploring the surface of the bottom\n",
    "- Often we would like to understand what is behing the surface (e.g., oil and gas exploration)\n",
    "\n",
    "- To produce maps not only of the surface of the bottom but also of the layers underneath we use sub-bottom profilers\n",
    "- Similar to echosounders (ping right below) but at lower frequencies\n",
    "- Typical frequency: 1kHz-7kHz (most often 3.5kHz)\n",
    "- Normal incident reflections from seabed and substrata\n",
    "- Frequencies are low enough that some of the energy is transmitted through the seabed\n",
    "  - We receive as many pulses back as the number of interfaces (change in the medium)\n",
    "     - This is when some energy is reflected back to the receiver\n",
    "- Coloring pixels based on the backscattering strength of received pulses we obtain layering maps similar to what is shown below\n",
    "\n",
    "<table>\n",
    "    <tr>\n",
    "        <td>\n",
    "            <img src=\"./images/10.sonar-practical-applications/45.sub-bottom-ex.png\" alt=\"46.sub-bottom-ex\" style=\"width: 450px\"/>            \n",
    "        </td>  \n",
    "        <td>\n",
    "            <img src=\"./images/10.sonar-practical-applications/46.sub-bottom-concept.png\" alt=\"46.sub-bottom-concept\" style=\"width: 350px\"/>            \n",
    "        </td>           \n",
    "    </tr>     \n",
    "</table> \n",
    "\n",
    "- Sediments are soft and we have lower reflections\n",
    "- Hard bottoms have higher reflections\n",
    "\n",
    "- Low frequency and hence low resolution\n",
    "\n",
    "_Figure: from www.geoviewing.com and Lurton 2002_"
   ]
  },
  {
   "cell_type": "markdown",
   "id": "152501c7",
   "metadata": {},
   "source": [
    "## Ocean bottom seismometers (OBS)\n",
    "\n",
    "- When OBS sensors are deployed on the sea bottom and locked on the bottom, it is possible to investigate the structure of the bottom in more details\n",
    "- This makes it possible to read S-Waves as well as P-Waves and to obtain directionality\n",
    "\n",
    "- Refractions arrive at the different sensors in different ways\n",
    "    - Is the equivalent of seismic tomography\n",
    "    - Not acoustics but seismic because it uses elastic waves.\n",
    "\n",
    "<table>\n",
    "    <tr>\n",
    "        <td>\n",
    "            <img src=\"./images/10.sonar-practical-applications/47.obs.png\" alt=\"47.obs\" style=\"width: 450px\"/>\n",
    "        </td>    \n",
    "        <td>\n",
    "            <img src=\"./images/10.sonar-practical-applications/47.obs-1.png\" alt=\"47.obs-1\" style=\"width: 450px\"/>\n",
    "        </td>    \n",
    "    </tr>     \n",
    "</table> \n",
    "\n",
    "_Figure: from geology.gsapubs.org and seismo.berkeley.edu_\n",
    "\n",
    "- Deploying OBS is complex, they need to lock to the bottom \n",
    "- Usage of robots attempted for:\n",
    "  - Deploying sensors \n",
    "  - Directly use the robots as OBS\n",
    "  - Depending on the type of bottom robots might struggle to leave the bottom to come back\n"
   ]
  },
  {
   "cell_type": "markdown",
   "id": "43333ce5",
   "metadata": {},
   "source": [
    "## Seismic  exploration\n",
    "\n",
    "- Seismic reflection\n",
    "- More deep than sub-bottom profilers, less deep than OBS\n",
    "- Perform a seismic tomography but using linear arrays\n",
    "- This makes it possible to read P-Waves only (loss of directionality)\n",
    "\n",
    "<table>\n",
    "    <tr>\n",
    "        <td>\n",
    "            <img src=\"./images/10.sonar-practical-applications/48.seismic-reflection.png\" alt=\"48.seismic-reflection\" style=\"width: 450px\"/>\n",
    "        </td>            \n",
    "    </tr>     \n",
    "</table> \n",
    "\n",
    "- Sources with frequency < 200Hz\n",
    "- Large aperture arrays > 1km \n",
    "- Wavelength is long so large apertures are needed ($\\Delta\\theta = \\frac{\\lambda}{L}$)\n"
   ]
  },
  {
   "cell_type": "markdown",
   "id": "98e387e9",
   "metadata": {},
   "source": [
    "## Seismic Sources\n",
    "\n",
    "- Explosives (TNT): 10Hz-1kHz\n",
    "- Air-guns: < 100Hz\n",
    "- Air-guns array: < 100Hz\n",
    "- Water-guns: 50Hz-1kHz \n",
    "- Sparkers: 100Hz-3kHz\n",
    "\n",
    "- Source Levels are very high, and given that they have low frequency, signals are mostly geometrically attenuated and propagate for extremely long ranges.\n",
    "\n",
    "- Acoustic and environmental assessments are mandatory to avoid affecting marine life (e.g., marine mammals)\n",
    "  - Sonar equations are used for this, together with tables that codify marine mammals pain levels, etc.\n",
    "  \n"
   ]
  },
  {
   "cell_type": "markdown",
   "id": "69267e73",
   "metadata": {},
   "source": [
    "## Receiving Arrays\n",
    "\n",
    "\n",
    "<table>\n",
    "    <tr>\n",
    "        <td>\n",
    "            <img src=\"./images/10.sonar-practical-applications/49.receiveing-arrays.png\" alt=\"49.receiveing-arrays\" style=\"width: 350px\"/>\n",
    "        </td>            \n",
    "    </tr>     \n",
    "</table> \n",
    "\n",
    "- Electronics and hydrophones are immersed in oil to balance pressure\n"
   ]
  },
  {
   "cell_type": "markdown",
   "id": "3eb859f0",
   "metadata": {},
   "source": [
    "## Air-Guns\n",
    "\n",
    "<table>\n",
    "    <tr>\n",
    "        <td>\n",
    "            <img src=\"./images/10.sonar-practical-applications/50.air-guns.png\" alt=\"50.air-guns\" style=\"width: 750px\"/>\n",
    "        </td>            \n",
    "    </tr>     \n",
    "</table> \n",
    "\n",
    "- Large and complex systems, large ships needed to deploy\n",
    "\n",
    "- Tx signals: sequence of signals (Figure Airgun Waveform, dashed line) that have multiple peaks  \n",
    "   - Signals might not be simple to signal process (due to multiple peaks)\n",
    "   - We would like to have a delta function\n",
    "   \n",
    "- Arrays of airguns can be used to coordinate their firing and attenuate the problem above\n",
    "  - First peak is obtained as constructive interference of the signals \n",
    "  - Other peaks are obtained as destructive interference and hence attenuated\n",
    "  - See Figure Airgun Waveform, blue line and the blue line in the Airgun Spectrum where the low frequency spectrum is much cleaner (no resonant frequencies)\n"
   ]
  },
  {
   "cell_type": "code",
   "execution_count": null,
   "id": "e23b09f9",
   "metadata": {},
   "outputs": [],
   "source": []
  }
 ],
 "metadata": {
  "kernelspec": {
   "display_name": "Python 3 (ipykernel)",
   "language": "python",
   "name": "python3"
  }
 },
 "nbformat": 4,
 "nbformat_minor": 5
}
