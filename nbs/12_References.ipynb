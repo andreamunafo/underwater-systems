{
 "cells": [
  {
   "cell_type": "markdown",
   "id": "ba4e2ae4",
   "metadata": {},
   "source": [
    "# References\n",
    "\n",
    "This page contains links to books, webpages, notebooks, etc that have been directly or indirectly instrumental to the material presented in this course.\n",
    "\n",
    "I want to express to all the authors my hearthful gratitude for making all this available."
   ]
  },
  {
   "cell_type": "markdown",
   "id": "29161a01",
   "metadata": {},
   "source": [
    "_J.M. Hovem, Marine Acoustics, Peninsula Pub., 2013_\n",
    "\n",
    "_X. Lurton, Introduction to Underwater Acoustics, Praxis, 2002_\n",
    "\n",
    "_D.L. Bradley, R. Stern, Underwater Sound and the Marine Mammals Acoustic Environment, prepared for the US Marine Mammals Commission, 2008_\n",
    "\n",
    "_J.M. Hovem, \"Underwater Acoustics: Propagation, devices and systems\", J. Electroceramics, 19, 339 - 347, 2007_\n",
    "\n",
    "_F.B. Jensen, W.A. Kuperman, M.B. Porter, H. Schmidt, Computational Ocean Acoustics, Springer, 2011_\n",
    "\n",
    "_The Ocean Acoustic Library (acoustic modeling, data processing software and data): http://oalib.hisresearch.com/_\n"
   ]
  },
  {
   "cell_type": "markdown",
   "id": "c4e2ed49",
   "metadata": {},
   "source": [
    "## Ocean Acoustics\n",
    "\n",
    "\n",
    "- Underwater acoustic propagation modeling with arlpy and Bellhop. The underwater acoustic propagation modeling toolbox (uwapm) in [arlpy](https://github.com/org-arl/arlpy) is integrated with the popular Bellhop ray tracer distributed as part of the acoustics toolbox. Install Bellhop from this [link](https://arlpy.readthedocs.io/en/latest/_static/bellhop.html).\n",
    "- An alternative python package is [TritonOA](https://github.com/NeptuneProjects/TritonOA) which includes useful information on how to install the Acoustic Toolbox [here](https://github.com/NeptuneProjects/TritonOA/blob/master/docs/install_AT_MacOS.md). For Mac OSX we might need a [workaround](https://oalib-acoustics.org/mac-os-workaround/)\n",
    "\n",
    "- [Dr. Daniel A. Russell, PSU | Wave superposition](https://www.acs.psu.edu/drussell/demos/superposition/superposition.html)\n",
    "- [Dr. Daniel A. Russell, PSU | Wave demos and animation](https://www.acs.psu.edu/drussell/demos.html)\n",
    "\n",
    "- [Waves](https://dpotoyan.github.io/Chem324/Lec2-1)\n",
    "\n",
    "- [An introduction to underwater acoustics](\n",
    "https://scholar.google.it/scholar_url?url=https://link.springer.com/book/9783540784807&hl=en&sa=X&ei=evepY_3MKMaSy9YPyI6P8AY&scisig=AAGBfm2e3bWoW3oYvZM1b4yWcPvHqcZKQg&oi=scholarr)\n",
    "\n",
    "- [Acoustics | NOAA](https://oceanexplorer.noaa.gov/explorations/sound01/background/acoustics/acoustics.html)\n",
    "- [Acoustics](http://stream1.cmatc.cn/pub/comet/MarineMeteorologyOceans/IntroductiontoOceanAcoustics/comet/oceans/acoustics/print.htm)\n",
    "- [The-Basics-of-waves](https://pythonnumericalmethods.berkeley.edu/notebooks/chapter24.01-The-Basics-of-waves.html)\n",
    "\n",
    "- [The First Studies of Underwater Acoustics: The 1800s](https://dosits.org/people-and-sound/history-of-underwater-acoustics/the-first-studies-of-underwater-acoustics-the-1800s/)\n",
    "\n",
    "- [Introduction to Oceanography](https://rwu.pressbooks.pub/webboceanography/)\n",
    "\n",
    "- [Temperature below 1000m](https://earthscience.stackexchange.com/questions/8306/the-temperature-of-the-ocean-below-1000-m)\n",
    "\n",
    "- [Ray Tracing in Python](https://brentonmallen.com/posts/ray_trace/ray_tracing/)\n",
    "- [Salinity sensors](http://www.coastalwiki.org/wiki/Salinity_sensors)\n",
    "- [Electrodeless Conductivity Probes](https://instrumentationtools.com/electrodeless-conductivity-probes-principle/)\n",
    "- [VASA Stockholm](https://www.google.com/search?client=safari&rls=en&q=museo+vasa+stoccolma&ie=UTF-8&oe=UTF-8)\n",
    "\n",
    "- [Superposition](https://www.acs.psu.edu/drussell/demos/superposition/superposition.html) and [Superposition demos](https://www.acs.psu.edu/drussell/demos.html)\n",
    "\n",
    "- [SOFAR | Applied Underwater Acoustics, page 22, 22.01]()\n",
    "\n"
   ]
  },
  {
   "cell_type": "markdown",
   "id": "3f0115c7",
   "metadata": {},
   "source": [
    "## The Acoustic Channel\n",
    "\n",
    "- Underwater acoustic propagation modeling with arlpy and Bellhop. The underwater acoustic propagation modeling toolbox (uwapm) in [arlpy](https://github.com/org-arl/arlpy) is integrated with the popular Bellhop ray tracer distributed as part of the acoustics toolbox. Install Bellhop from this [link](https://arlpy.readthedocs.io/en/latest/_static/bellhop.html).\n",
    "- An alternative python package is [TritonOA](https://github.com/NeptuneProjects/TritonOA) which includes useful information on how to install the Acoustic Toolbox [here](https://github.com/NeptuneProjects/TritonOA/blob/master/docs/install_AT_MacOS.md). For Mac OSX we might need a [workaround](https://oalib-acoustics.org/mac-os-workaround/)\n",
    "- [Introduction to Ocean Acoustics](http://stream1.cmatc.cn/pub/comet/MarineMeteorologyOceans/IntroductiontoOceanAcoustics/comet/oceans/acoustics/print.htm)\n",
    "\n",
    "- [Acoustics | NOAA](https://oceanexplorer.noaa.gov/explorations/sound01/background/acoustics/acoustics.html)\n",
    "\n",
    "- [Public Technical Reports | Jasco](https://www.jasco.com/public-reports)\n",
    "\n",
    "- [Computational Ocean Acoustics](https://link.springer.com/book/10.1007/978-1-4419-8678-8)\n",
    "\n",
    "- [Good Practice Guide No. 133 Underwater Noise Measurement](https://www.researchgate.net/publication/263229365_Good_Practice_Guide_No_133_Underwater_Noise_Measurement/figures?lo=1)\n",
    "\n",
    "- [Underwater Acoustics](https://www.researchgate.net/publication/234472513_Underwater_Acoustics)\n",
    "\n"
   ]
  },
  {
   "cell_type": "markdown",
   "id": "9c6c4e78",
   "metadata": {},
   "source": [
    "## Ray Tracing\n",
    "\n",
    "- [Jens M. Hovem, Ray Trace Modeling of Underwater Sound Propagation, 2011](https://www.intechopen.com/chapters/45578)\n",
    "\n",
    "- [School of Marine Sciences](https://misclab.umeoce.maine.edu/education.php). Hands on Oceanography, examples.\n",
    "Includes course [SMS 491: Sound in the Ocean](https://misclab.umeoce.maine.edu/boss/classes/SMS_491Acoustics/Syllabus_Sound_in_Ocean_SMS491.html)\n",
    "\n",
    "- [How To Hear Halfway Around The World](https://www.youtube.com/watch?v=uLM7HDxtYsA)\n",
    "\n",
    "- [Whale Sounds Lab](https://mrvanarsdale.com/marine-science/online-textbook/chapter-2-cetaceans/whale-sounds-lab/). Has examples of sounds recorded in water.\n",
    "\n",
    "- [Introduction to Ocean Acoustics](http://stream1.cmatc.cn/pub/comet/MarineMeteorologyOceans/IntroductiontoOceanAcoustics/comet/oceans/acoustics/print.htm). Short descriptions of ocean acoustics. Includes interesting pictures and animations (in Flash)."
   ]
  },
  {
   "cell_type": "markdown",
   "id": "761f4a04",
   "metadata": {},
   "source": [
    "## SONAR Practical Applications\n",
    "\n",
    "- [Acoustic Instruments on the RSS Sir David Atteanborough](https://www.bas.ac.uk/polar-operations/sites-and-facilities/facility/rrs-sir-david-attenborough/science-facilities/acoustic-instruments/)\n",
    "\n",
    "- [Mulitbeam echosounder | NOAA](https://oceanexplorer.noaa.gov/technology/sonar/multibeam.html)\n",
    "\n",
    "- [Side Scan Sonar | NOAA](https://oceanexplorer.noaa.gov/technology/sonar/side-scan.html)\n",
    "\n",
    "- [State of the art in multibeam-echosounders](https://www.hydro-international.com/content/article/state-of-the-art-in-multibeam-echosounders)\n",
    "\n",
    "- [GEBCO](https://www.gebco.net)\n",
    "\n",
    "- [Ocean Mapping: an Essential Part of Ocean Exploration](https://oceanexplorer.noaa.gov/okeanos/explorations/ex1703/logs/mar11/welcome.html)"
   ]
  }
 ],
 "metadata": {
  "kernelspec": {
   "display_name": "Python 3 (ipykernel)",
   "language": "python",
   "name": "python3"
  }
 },
 "nbformat": 4,
 "nbformat_minor": 5
}
