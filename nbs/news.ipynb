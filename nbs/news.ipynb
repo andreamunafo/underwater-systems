{
 "cells": [
  {
   "cell_type": "raw",
   "metadata": {},
   "source": [
    "<div style=\"page-break-before: always;\"></div>"
   ]
  },
  {
   "cell_type": "markdown",
   "id": "c2d01fe3",
   "metadata": {},
   "source": [
    "<table>\n",
    "    <tr>\n",
    "    <td>\n",
    "    <figure>\n",
    "    <img src=\"./images/X.misc/wsj-03032023.jpeg\" alt=\"WSJ 03032023\" style=\"width: 600px;\"/> \n",
    "    </figure>    \n",
    "    </td>       \n",
    "    </tr>\n",
    "</table>  "
   ]
  },
  {
   "cell_type": "markdown",
   "id": "fd20de05",
   "metadata": {},
   "source": [
    "<table>\n",
    "    <tr>\n",
    "    <td>\n",
    "    <figure>\n",
    "    <img src=\"./images/X.misc/theobserver-0503023.jpeg\" alt=\"The Observer 0503023\" style=\"width: 600px;\"/> \n",
    "    </figure>    \n",
    "    </td>       \n",
    "    </tr>\n",
    "</table>  "
   ]
  },
  {
   "cell_type": "markdown",
   "id": "de0bd3d7",
   "metadata": {},
   "source": [
    "<table>\n",
    "    <tr>\n",
    "    <td>\n",
    "    <figure>\n",
    "    <img src=\"./images/X.misc/theguardian-06032023.jpeg\" alt=\"The Guardian 06032023\" style=\"width: 600px;\"/> \n",
    "    </figure>    \n",
    "    </td>       \n",
    "    </tr>\n",
    "</table>  "
   ]
  },
  {
   "cell_type": "markdown",
   "id": "49712339",
   "metadata": {},
   "source": [
    "<table>\n",
    "    <tr>\n",
    "    <td>\n",
    "    <figure>\n",
    "    <img src=\"./images/X.misc/fields.png\" alt=\"Fields\" style=\"width: 800px;\"/> \n",
    "    </figure>    \n",
    "    </td>       \n",
    "    </tr>\n",
    "</table>  "
   ]
  },
  {
   "cell_type": "markdown",
   "id": "e8ff23b2",
   "metadata": {},
   "source": [
    "<table>\n",
    "    <tr>\n",
    "    <td>\n",
    "    <figure>\n",
    "    <img src=\"./images/X.misc/saildrone.png\" alt=\"saildrone\" style=\"width: 800px;\"/> \n",
    "    </figure>    \n",
    "    </td>       \n",
    "    </tr>\n",
    "</table>  \n",
    "\n"
   ]
  },
  {
   "cell_type": "markdown",
   "id": "27031ec0",
   "metadata": {},
   "source": [
    "<table>\n",
    "    <tr>\n",
    "    <td>\n",
    "    <figure>\n",
    "    <img src=\"./images/X.misc/US.EEZ_Pacific_centered_NOAA_map.png\" alt=\"US.EEZ_Pacific_centered_NOAA_map\" style=\"width: 800px;\"/> \n",
    "    </figure>    \n",
    "    </td>       \n",
    "    </tr>\n",
    "</table>  \n"
   ]
  },
  {
   "cell_type": "markdown",
   "id": "ff282582",
   "metadata": {},
   "source": [
    "<table>\n",
    "    <tr>\n",
    "    <td>\n",
    "    <figure>\n",
    "    <video controls src=\"./videos/Underwater_robot_helps_explain_Antarctic_glacier’s_retreat.mp4\" width=\"600\" height=\"400\"  frameborder=\"0\" ></video>           \n",
    "    </figure>    \n",
    "    </td>\n",
    "    </tr>\n",
    "</table>  "
   ]
  },
  {
   "cell_type": "code",
   "execution_count": null,
   "id": "483cce4b",
   "metadata": {},
   "outputs": [],
   "source": []
  }
 ],
 "metadata": {
  "kernelspec": {
   "display_name": "Python 3 (ipykernel)",
   "language": "python",
   "name": "python3"
  }
 },
 "nbformat": 4,
 "nbformat_minor": 5
}
