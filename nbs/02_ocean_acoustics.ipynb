{
 "cells": [
  {
   "cell_type": "markdown",
   "id": "da6909f9",
   "metadata": {},
   "source": [
    "<div style=\"page-break-before: always;\"></div>"
   ]
  },
  {
   "cell_type": "code",
   "execution_count": null,
   "id": "e461c00a",
   "metadata": {},
   "outputs": [],
   "source": [
    "#| default_exp ocean_acoustics"
   ]
  },
  {
   "cell_type": "markdown",
   "id": "0d284f07",
   "metadata": {},
   "source": [
    "# Ocean Acoustics"
   ]
  },
  {
   "cell_type": "markdown",
   "id": "26d8239a",
   "metadata": {},
   "source": [
    "This notebook covers the following topics:\n",
    "\n",
    "### Acoustic Propagation in the Ocean\n",
    "\n",
    "- Understand fundamental quantities and definitions related to acoustic propagation in the ocean.\n",
    "- Explore concepts of attenuation and propagation of acoustic waves.\n",
    "- Analyze the effects of oceanographic quantities, including daily and seasonal variations, on acoustic propagation.\n",
    "  - Perform simulations and make predictions based on oceanographic data.\n",
    "\n",
    "### Acoustic Directionality\n",
    "\n",
    "- Study the principles of acoustic directionality, particularly in the context of arrays.\n",
    "- Examine beam patterns and understand their significance in acoustic directionality.\n",
    "- Calculate the directivity index and explore its implications.\n",
    "- Learn about beamforming techniques for directional acoustic sensing.\n",
    "\n",
    "### Sonar System\n",
    "\n",
    "- Differentiate between resolution, range, and frequency content in sonar systems.\n",
    "- Explore sonar equations and understand their applications in underwater sensing.\n",
    "\n",
    "### Reflections at the Water-Bottom Interface\n",
    "\n",
    "- Investigate coherent reflections at the water-bottom interface.\n",
    "- Understand the Rayleigh coefficient and its role in underwater reflections.\n",
    "- Analyze backscatter phenomena and its implications in underwater sensing.\n",
    "\n",
    "### Propagation in Sediments and Rocks\n",
    "\n",
    "- Explore the propagation of acoustic waves in sediments and rocks.\n",
    "- Understand the characteristics of P waves, S waves, and interface waves in underwater environments."
   ]
  },
  {
   "cell_type": "markdown",
   "id": "06b7eae3",
   "metadata": {},
   "source": [
    "## History of Ocean Acoustics\n",
    "\n",
    "- In 1490 Leonardo da Vinci first proposed detecting ships by listening to the noise they radiate into water. \n",
    "    \n",
    "    <div class=\"alert alert-block alert-warning\">\n",
    "    \"If you cause your ship to stop and place the head of a long tube in the water and place the other extremity to your ear, you will hear ships at great distances.\" From Leonardo Da Vinci's Notebook.\n",
    "    </div>\n",
    "\n",
    "\n",
    "- The first successful measurements of the speed of sound in water was made in 1826. \n",
    "- Using a long tube to listen underwater, as suggested by da Vinci, Colladon and Sturm recorded how fast the sound of a submerged bell traveled across Lake Geneva."
   ]
  },
  {
   "cell_type": "markdown",
   "id": "4e303732",
   "metadata": {},
   "source": [
    "<table><tr>\n",
    "<td> <img src=\"./images/2.ocean-acoustics/3.collodon_sound_speed_measurement.jpeg\" alt=\"ssp-measurement\" style=\"width: 550px;\"/>\n",
    "</tr></table>  "
   ]
  },
  {
   "cell_type": "markdown",
   "id": "4e929af6",
   "metadata": {},
   "source": [
    "## The First Recorded Attempt to Determine the Speed of Sound in Water\n",
    "\n",
    "- In 1826 on Lake Geneva, Switzerland, physicist Jean-Daniel Colladon and mathematician Charles-Francois Sturm made the first recorded attempt to determine the speed of sound in water.\n",
    "- They struck an underwater bell simultaneously with ignition of gunpowder on the first boat.\n",
    "- The sound of the bell and flash from the gunpowder were observed 10 miles away on the second boat.\n",
    "- The time between the gunpowder flash and the sound reaching the second boat was used to calculate the speed of sound in water.\n",
    "- Colladon and Sturm measured the water temperature in the lake to be 8° centigrade.\n",
    "- At this temperature, they determined the speed of sound in fresh water to be 1435 meters per second, which differs from the currently accepted value by only 3 meters per second.\n",
    "- Their published results also reported earlier measurements in sea water made in 1820 near Marseilles by physicist François Sulpice Beudant.\n",
    "- The value they determined was remarkably accurate."
   ]
  },
  {
   "cell_type": "markdown",
   "id": "238f7ae3",
   "metadata": {},
   "source": [
    "- WWI and the advent of the submarine drove the development of sonar and the science of ocean acoustic/acoustical oceanography.\n",
    "- Maurice Ewing (see also Marie Tharp and Lamont Geological Observatory) was convinced that it would be possible to propagate sound over hundredsd possibly thousands of kilometers through the ocean if both source and receiver were appropriately placed.\n",
    "- In 1945 he propagated sound from a small explosion over a distance of more than 3000 km from Eleuthera in the Bahamas to Dakar in West Africa. "
   ]
  },
  {
   "cell_type": "markdown",
   "id": "f4460564",
   "metadata": {},
   "source": [
    "<table><tr>\n",
    "<td> <img src=\"./images/2.ocean-acoustics/3b.sofar.png\" alt=\"Ewing-experiment\" style=\"width: 550px;\"/>    </td>\n",
    "</tr></table>  "
   ]
  },
  {
   "cell_type": "markdown",
   "id": "6e7c29bd",
   "metadata": {},
   "source": [
    "- The sound propagation took place in a ubiquitous permanent sound channel of the deep ocean. \n",
    "- Ewing called the channel the **SOFAR (SOund Fixing And Ranging) channel**.\n",
    "- First application was downed-at-sea airmen: From his inflated rubber boat, the airman should drop small cartridges over the side set to explode on the axis of the SOFAR channel situated at about 1200 m depth in the North Atlantic.\n",
    "\n",
    "<table><tr>\n",
    "    <td> \n",
    "        <img src=\"./images/2.ocean-acoustics/3b.sofar-1.png\" alt=\"SOFAR\" style=\"width: 350px;\"/>\n",
    "        From Applied Underwater Acoustics.\n",
    "    </td>\n",
    "</tr></table>  "
   ]
  },
  {
   "cell_type": "markdown",
   "id": "39bebec6",
   "metadata": {},
   "source": [
    "- Today, acoustics is used to detect and locate objects and targets; to measure the characteristics of the environment or the velocity and location of moving underwater objects; and to transmit signals.\n",
    "\n",
    "<table><tr>\n",
    "<td> <img src=\"./images/2.ocean-acoustics/4.3D_echogram.jpg\" alt=\"noaa-example\" style=\"width: 550px;\"/>    </td>\n",
    "</tr></table>  "
   ]
  },
  {
   "cell_type": "markdown",
   "id": "f30d8a8c",
   "metadata": {},
   "source": [
    "## Understanding Ocean Acoustics"
   ]
  },
  {
   "cell_type": "markdown",
   "id": "cb4e6a8d",
   "metadata": {},
   "source": [
    "### Sound as a Pressure Wave\n",
    "\n",
    "- Ocean acoustics is the study of sound and its behavior in the sea. \n",
    "- When underwater objects vibrate, they create sound-pressure waves that alternately compress and decompress the water molecules as the sound wave travels through the sea. \n",
    "- Sound waves radiate in all directions away from the source like ripples on the surface of a pond. \n",
    "- The compressions and decompressions associated with sound waves are detected as changes in pressure by the structures in our ears and most man-made sound receptors such as a hydrophone, or underwater microphone.\n",
    "\n",
    "The basic components of a sound wave are _frequency_, _wavelength_ and _amplitude_."
   ]
  },
  {
   "cell_type": "markdown",
   "id": "648ab766",
   "metadata": {},
   "source": [
    "### Waves\n",
    "\n",
    "- A wave is a self-propagating disturbance in a medium.    \n",
    "- The wavefront of a wave field is the set (locus) of all points having the same phase\n",
    "  - Intuitively: Points reached by the perturbation at the same time\n",
    "- In an _isotropic_ medium, which has the same properties in all directions, wavefronts are spherical:\n",
    "    - For example, if we consider a sound wave emanating from a point source, the wavefront at any given instant would be a spherical surface centered on the source. All the points on the surface of the sphere would be reached by the wave at the same instant and would have the same phase. As the wave propagates outward from the source, the wavefront continues to expand and move further away from the source.\n",
    "\n",
    "\n",
    "- Waves carry energy, momentum, information, but not matter!\n"
   ]
  },
  {
   "cell_type": "markdown",
   "id": "893f8da5",
   "metadata": {},
   "source": [
    "### Acoustic waves in the ocean\n",
    "\n",
    "- Hydrostatic pressure is the pressure exerted by a stationary fluid (i.e., water in our case), at a particular point within the fluid (e.g., at a particular depth). It is the pressure that is created by the weight of the fluid above the point in question ($P = \\rho gh)$.\n",
    "- Acoustic pressure (or sound pressure) is the **local pressure deviation** from the ambient or average hydrostatic pressure caused by a sound wave\n",
    "\n",
    "- Acoustic waves in water (and more specifially in salt water) are pressure waves\n",
    "    - Called _compressional waves_\n",
    "    - Perturbation of the local pressure (of equilibrium) of the medium"
   ]
  },
  {
   "cell_type": "markdown",
   "id": "d151eed1",
   "metadata": {},
   "source": [
    "### Compressional waves\n",
    "- Compressional waves, also known as longitudinal waves or primary (P) waves, are a type of mechanical wave that propagate through a medium by causing compressions and rarefactions in the medium (think of the medium as composed of elementary elements)\n",
    "- In compressional waves, the particles in the medium vibrate parallel to the direction of wave propagation, creating regions of high pressure and high particle density (compressions) and regions of low pressure and low particle density (rarefactions).\n",
    "- The compression and dilation is transmitted to the neighbouring elements and the wave propagates"
   ]
  },
  {
   "cell_type": "markdown",
   "id": "70905118",
   "metadata": {},
   "source": [
    "<table><tr>\n",
    "<td> <img src=\"./images/2.ocean-acoustics/P-wave_animation.gif\" alt=\"p-wave\" style=\"width: 550px;\"/>\n",
    "</tr></table>  \n",
    "Figure from University of Alicante, Spain (https://web.ua.es/en/urs/disclosure/seismic-wave-propagation.html)\n",
    "\n",
    "- The wave can be thought as created by the Y-Z plane pressing on the particles of the medium\n",
    "- This is a planar wave: wavefronts are planes"
   ]
  },
  {
   "cell_type": "markdown",
   "id": "ba8e5145",
   "metadata": {},
   "source": [
    "### Some comments\n",
    "- Sound is often illustrated with a sine wave but is actually a pressure wave\n",
    "   - The peak in the sine wave indicating compaction of the medium and the trough indicating rarefaction (spreading out—thinning) of the medium.\n",
    "\n",
    "- The speed of sound depends on the distance between molecules and the strength of the intermolecular interactions. \n",
    "- Consequently sound speed increases with density and temperature.\n",
    "\n",
    "\n",
    "<div class=\"alert alert-block alert-warning\">\n",
    "In a gas, the molecules are widely spaced with very low intermolecular forces. As a result, the speed of sound tends to be slower in gasses than liquids or solids. The speed of sound tends to be highest in solids: the molecules are relatively close together and the bonds and structure between them are stable.\n",
    "</div>    "
   ]
  },
  {
   "cell_type": "markdown",
   "id": "a966c18e",
   "metadata": {},
   "source": [
    "### Characteristics of Sound Waves\n",
    "\n",
    "- Sound waves are characterized by their **amplitude, intensity, frequency, speed, wavelength, and phase**.\n",
    "\n",
    "- If the pressure perturbation, wrt the equilibrium, is sinusoidal, then the pressure variation is also sinusoidal (in time and space):\n",
    "\n",
    "$$\n",
    "p(x, t) = Asin(kx-\\omega t + \\phi)\n",
    "$$\n",
    "\n",
    "where \n",
    "- $p(x, t)$ is the value of the wave at position $x$ and time $t$\n",
    "- $A$ is the amplitude of the wave, which determines its maximum displacement from its equilibrium position\n",
    "- $k$ is the **wave number**, which is related to the wavelength of the wave by the equation $k = 2\\pi/\\lambda$ (spatial frequency of the wave given a point in time).\n",
    "- $x$ is the position along the wave\n",
    "- $w$ is called **radian frquenecy**, the angular frequency of the wave, which is related to its frequency by the equation $\\omega = 2\\pi f$ (temporal frequency of the wave given a point in space).\n",
    "- $\\phi$ is the phase of the wave"
   ]
  },
  {
   "cell_type": "markdown",
   "id": "b30c2432",
   "metadata": {},
   "source": [
    "- Note: the argument of the `sin` has two terms: one dependant from time (Angular frequency), and one from space (Wave number)"
   ]
  },
  {
   "cell_type": "markdown",
   "id": "97f2640a",
   "metadata": {},
   "source": [
    "### Angular Frequency\n",
    "\n",
    "- The angular frequency, denoted by the symbol $\\omega$, is a measure of how rapidly a wave oscillates in time.\n",
    "- Also called Radian Frequency\n",
    "- It is defined as the rate of change of the phase of the wave with respect to time and is related to the frequency of the wave through the equation: \n",
    "\n",
    "$$\\omega = \\frac{2\\pi c}{\\lambda} = 2\\pi f$$\n",
    "\n",
    "- The speed of sound in a medium is related to its frequency and wavelength through the equation: $c = f\\lambda$"
   ]
  },
  {
   "cell_type": "markdown",
   "id": "5386ddcf",
   "metadata": {},
   "source": [
    "### Wave Number\n",
    "\n",
    "- The wave number, denoted by the symbol $k$, is a measure of how rapidly a wave oscillates in space.\n",
    "- It is defined as the spatial frequency of a wave and is related to the wavelength of the wave through the equation: \n",
    "\n",
    "$$k = \\frac{2\\pi}{\\lambda} = \\frac{\\omega}{c}$$\n",
    "\n",
    "- The wave number is inversely proportional to the wavelength: waves with shorter wavelengths have larger wave numbers, while waves with longer wavelengths have smaller wave numbers.\n",
    "- The wave number is influenced by the properties of the medium and can affect the behavior of the wave as it propagates through the medium."
   ]
  },
  {
   "cell_type": "markdown",
   "id": "09050714",
   "metadata": {},
   "source": [
    "### Waves in phasor form\n",
    "\n",
    "The equation for a sinusoidal wave can be written in phasor form as:\n",
    "\n",
    "$$y(x,t) = A\\sin(kx - \\omega t + \\phi) = \\operatorname{Re}(Y e^{j(kx - \\omega t)})$$\n",
    "\n",
    "where $\\operatorname{Re}()$ denotes the real part of the expression, and $Y$ is the phasor amplitude given by:\n",
    "\n",
    "$$Y = A e^{j\\phi}$$\n",
    "\n",
    "The phasor amplitude $Y$ is a complex number that captures both the amplitude and phase information of the wave in a single quantity. The real part of the product $Y e^{j(kx - \\omega t)}$ gives the actual value of the wave at position $x$ and time $t$."
   ]
  },
  {
   "cell_type": "markdown",
   "id": "ee3ccdc2",
   "metadata": {},
   "source": [
    "To obtain the phasor amplitude $Y$, we first express the original equation in complex exponential form, which is given by:\n",
    "\n",
    "$$y(x,t) = A\\sin(kx - \\omega t + \\phi) = \\frac{A}{2j}(e^{j(kx - \\omega t + \\phi)} - e^{-j(kx - \\omega t + \\phi)})$$\n",
    "\n",
    "We can recover the time domain function, $y(x, t)$, by taking the real part of this rotating vector.\n",
    "\n",
    "$$y(x,t) = \\operatorname{Re}\\left(\\frac{A}{2}e^{j(kx - \\omega t + \\phi)} - \\frac{A}{2}e^{-j(kx - \\omega t + \\phi)}\\right)$$\n",
    "\n",
    "Now we can see that the expression in parentheses is a phasor amplitude $Y$, which has a magnitude of $A/2$ and a phase angle of $\\phi$, multiplied by a complex exponential term that depends on $x$ and $t$.\n",
    "\n",
    "By expressing the wave in phasor form, we can more easily manipulate its amplitude and phase properties, and we can use complex arithmetic to analyze the wave's behavior."
   ]
  },
  {
   "cell_type": "markdown",
   "id": "a51501f3",
   "metadata": {},
   "source": [
    "Let's see some of this in Python"
   ]
  },
  {
   "cell_type": "markdown",
   "id": "ead98cf2",
   "metadata": {},
   "source": [
    "- We can think of the sine wave as a change both in time and space. \n",
    "- If we plot the changes at various locations, each time snapshot will be a sine wave that changes in space. \n",
    "\n",
    "- See the following figure with a fix point at $x=2.5$ showing as a red dot."
   ]
  },
  {
   "cell_type": "code",
   "execution_count": null,
   "id": "6e67853b",
   "metadata": {},
   "outputs": [],
   "source": [
    "import matplotlib.pyplot as plt\n",
    "import numpy as np\n",
    "\n",
    "plt.style.use('seaborn-v0_8')\n",
    "# %matplotlib inline"
   ]
  },
  {
   "cell_type": "code",
   "execution_count": null,
   "id": "a22ce841",
   "metadata": {},
   "outputs": [
    {
     "data": {
      "image/png": "[encoded data removed]",
      "text/plain": [
       "<Figure size 800x800 with 5 Axes>"
      ]
     },
     "metadata": {},
     "output_type": "display_data"
    }
   ],
   "source": [
    "fig = plt.figure(figsize = (8,8))\n",
    "\n",
    "times = np.arange(5)\n",
    "\n",
    "n = len(times)\n",
    "x = np.linspace(0, 20, 201)\n",
    "y = np.sin(x)\n",
    "\n",
    "for t in times:\n",
    "    plt.subplot(n, 1, t+1)\n",
    "    y = np.sin(x + t)\n",
    "    plt.plot(x, y, 'b')\n",
    "    plt.plot(x[25], y [25], 'ro')\n",
    "    plt.ylim(-1.1, 1.1)\n",
    "    plt.ylabel('y')\n",
    "    plt.title(f't = {t}')\n",
    "\n",
    "plt.xlabel('location (x)')\n",
    "plt.tight_layout()\n",
    "plt.show()"
   ]
  },
  {
   "cell_type": "markdown",
   "id": "6f465045",
   "metadata": {},
   "source": [
    "Of course, you can see the changes over time at specific location as well, you can plot this by yourself."
   ]
  },
  {
   "cell_type": "markdown",
   "id": "8057fb92",
   "metadata": {},
   "source": [
    "### Superposition of waves\n",
    "\n",
    "- When two or more waves are present in the same medium, the resulting disturbance at any point is the algebraic sum of the individual disturbances caused by each wave.\n",
    "- The waves pass through each other without being disturbed.\n",
    "- The net displacement of the medium at any point in space or time, is simply the sum of the individual wave displacements.\n",
    "- This is true of waves which are finite in length (wave pulses) or which are continuous sine waves.\n",
    "\n",
    "- When two waves of the same frequency and amplitude are in phase (i.e., their crests and troughs coincide), their amplitudes add up, resulting in a wave with twice the amplitude. This is called **constructive interference**.\n",
    "- When two waves of the same frequency and amplitude are out of phase (i.e., their crests and troughs do not coincide), their amplitudes cancel out, resulting in zero amplitude. This is called **destructive interference**.\n",
    "- Fundamental concept in wave physics and enables us to predict the behavior of complex wave systems, such as interference patterns\n",
    "\n"
   ]
  },
  {
   "cell_type": "code",
   "execution_count": null,
   "id": "e4d2cb2f",
   "metadata": {},
   "outputs": [],
   "source": [
    "import numpy as np\n",
    "import matplotlib.pyplot as plt\n",
    "import matplotlib.animation as animation"
   ]
  },
  {
   "cell_type": "code",
   "execution_count": null,
   "id": "dfc70d0c",
   "metadata": {},
   "outputs": [],
   "source": [
    "# Wave parameters\n",
    "A = 0.5  # Amplitude\n",
    "k = 2 * np.pi / 10  # Wave number\n",
    "omega = 2 * np.pi / 2  # Angular frequency\n",
    "\n",
    "# Time and space parameters\n",
    "t = np.linspace(0, 10, 200)  # Time vector\n",
    "x = np.linspace(0, 20, 400)  # Space vector\n",
    "X, T = np.meshgrid(x, t)\n",
    "\n",
    "# Individual wave functions\n",
    "y1 = A * np.sin(k * X - omega * T)\n",
    "y2 = A * np.sin(-k * X - omega * T)\n",
    "\n",
    "# Resulting wave function (superposition of individual waves)\n",
    "y = y1 + y2\n",
    "\n",
    "# Plot individual waves and resulting wave\n",
    "fig, ax = plt.subplots()\n",
    "ax.set_xlim(0, 20)\n",
    "ax.set_ylim(-1, 1)\n",
    "line1, = ax.plot([], [], lw=2, label='Wave 1')\n",
    "line2, = ax.plot([], [], lw=2, label='Wave 2')\n",
    "line3, = ax.plot([], [], lw=2, label='Resulting wave')\n",
    "ax.legend()\n",
    "\n",
    "def init():\n",
    "    line1.set_data([], [])\n",
    "    line2.set_data([], [])\n",
    "    line3.set_data([], [])\n",
    "    return line1, line2, line3\n",
    "\n",
    "def animate(i):\n",
    "    line1.set_data(x, y1[i, :])\n",
    "    line2.set_data(x, y2[i, :])\n",
    "    line3.set_data(x, y[i, :])\n",
    "    return line1, line2, line3\n",
    "\n",
    "ani = animation.FuncAnimation(fig, animate, frames=len(t), init_func=init, blit=True)\n",
    "plt.close()  # Prevents duplicate display of animation"
   ]
  },
  {
   "cell_type": "markdown",
   "id": "6ff92334",
   "metadata": {},
   "source": [
    "Uncomment the next cell to show the animation (it does not render correctly in quarto)."
   ]
  },
  {
   "cell_type": "code",
   "execution_count": null,
   "id": "b0f6773f",
   "metadata": {},
   "outputs": [],
   "source": [
    "# ## Display animation\n",
    "# from IPython.display import HTML\n",
    "# HTML(ani.to_jshtml())"
   ]
  },
  {
   "cell_type": "markdown",
   "id": "91642fec",
   "metadata": {},
   "source": [
    "### Wave characteristics in one slide\n",
    "\n",
    "- A single wave has different characteristics:\n",
    "\n",
    "\n",
    "<table><tr>\n",
    "    <td> <img src=\"./images/2.ocean-acoustics/5.wave-period_amplitude.jpg\" alt=\"Wave Period Amplitude\" style=\"width: 350px;\"/>\n",
    "    </td>\n",
    "    <td> <img src=\"./images/2.ocean-acoustics/6.wave-wavelength_amplitude.jpg\" alt=\"Wave Wavelength Amplitude\" style=\"width: 350px;\"/>\n",
    "    </td>\n",
    "</tr></table>  \n",
    "\n",
    "- **Amplitude** (A), is used to describe the difference between the maximum values to the baseline value. Amplitude describes the height of the sound pressure wave or the “loudness” of a sound and is often measured using the decibel (dB) scale. Small variations in amplitude (“short” pressure waves) produce weak or quiet sounds, while large variations (“tall” pressure waves) produce strong or loud sounds.\n",
    "\n",
    "- **Period** (T), A sine wave is a periodic signal, which means it repeats itself after certain time. The period of a wave is time it takes to finish the complete cycle, in the figure, we can see that the period can be measured from the two adjacent peaks. \n",
    "- **Wavelength** ($\\lambda$), measures the distance between two successive crests or troughs of a wave.\n",
    "- **Frequency** (f) describes the number of waves that pass a fixed place in a given amount of time. Frequency can be measured by how many cycles pass within 1 second. Therefore, the unit of frequency is cycles/second, or more commonly used **Hertz** (abbreviated **Hz**). \n",
    "\n",
    "$$T = \\frac{1}{f}$$\n",
    "\n",
    "Let's go back to our representation of a sine wave:\n",
    "\n",
    "$$ y(t) = Asin(\\omega{t}+\\phi)$$\n",
    "\n",
    "where $A$ is the amplitude of the wave, $\\omega$ is the **angular frequency**, which specifies how many cycles occur in a second, in radians per second. $\\phi$ is the **phase** of the signal. If $T$ is the period of the wave, and $f$ is the frequency of the wave, then $\\omega$ has the following relationship to them:\n",
    "\n",
    "$$\\omega = \\frac{2\\pi}{T} = 2\\pi{f}$$"
   ]
  },
  {
   "cell_type": "markdown",
   "id": "890dd254",
   "metadata": {},
   "source": [
    "### Acoustic Rays\n",
    "\n",
    "- An acoustic ray is a line that represents the path traveled by sound waves as they propagate through a medium. \n",
    "- It is a trajectory that shows the direction of propagation of sound waves in a particular medium, such as air, water, or solid materials.\n",
    "- Given a wavefront, the ray associated to the wavefront is perpendicular to the wavefront in every point.\n",
    "- Connecting the rays (perpendicular to the wavefronts in every point) we obtain a trajectory that is called _ray path_.\n",
    "\n",
    "- These are the same concepts we find in optics.\n",
    "- Acoustic Rays will be useful to obtain an intuitive understanding of acoustic propagation\n",
    "- We will see when this approximation is valid using the wave equation"
   ]
  },
  {
   "cell_type": "markdown",
   "id": "c9768650",
   "metadata": {},
   "source": [
    "-------"
   ]
  },
  {
   "cell_type": "markdown",
   "id": "3a4b4279",
   "metadata": {},
   "source": [
    "## Ocean acoustics: quantities and jargon"
   ]
  },
  {
   "cell_type": "markdown",
   "id": "9dbc710f",
   "metadata": {},
   "source": [
    "### Acoustic Intensity\n",
    "\n",
    "- Acoustic intensity is the power per unit area carried by a sound wave. \n",
    "- It is typically measured in units of watts per square meter (W/m²)\n",
    "\n",
    "- Acoustic Intensity is proportional to the square of the RMS (Root Mean Square) pressure\n",
    "\n",
    "$$ I = \\frac{1}{\\rho c}p_{rms}^2$$\n",
    "\n",
    "where:\n",
    "  - $\\rho$ is the water density\n",
    "  - $c$ is the speed of sound: speed of propagation of the pertubation\n",
    "  - $Z=\\rho c$ is called acoustic impedence\n",
    "  "
   ]
  },
  {
   "cell_type": "markdown",
   "id": "47ef7d53",
   "metadata": {},
   "source": [
    "### Acoustic Impedence\n",
    "\n",
    "- Property of a medium and describes how much resistance the medium offers to the propagation of a sound wave. - It is a measure of the ratio of sound pressure to the particle velocity of the medium. \n",
    "- Close analogy with electrical impedance\n",
    "   - where the RMS pressure is analogous to voltage and the acoustic impedance is analogous to the electric resistance R.\n",
    "  "
   ]
  },
  {
   "cell_type": "markdown",
   "id": "32ae3429",
   "metadata": {},
   "source": [
    "- Why RMS pressure?\n",
    "If we have a sinusoidal wave, the pressure will oscillate between a positive and negative number with zero mean. It has however a RMS value:\n",
    "$$ rms = \\sqrt{\\frac{1}{n}\\sum_{i}{x^2_i}} $$"
   ]
  },
  {
   "cell_type": "markdown",
   "id": "1630cdaa",
   "metadata": {},
   "source": [
    "### Decibel\n",
    "\n",
    "- In the analysis of sound propagation, it is customary to use the decibel (dB) notation to represent the level of various quantities relative to a chosen reference value of the quantity. \n",
    "- This is a convenient way to handle the wide dynamic range involved in acoustic problems.\n",
    "- It also simplifies many system calculations by replacing multiplications with additions of decibel quantities.\n",
    "\n",
    "\n",
    "- Decibels (dB) are a logarithmic unit that express the ratio between two quantities, usually some form of power or intensity.\n",
    "- In the case of sound, decibels are often used to express the relative loudness of a sound compared to some reference level."
   ]
  },
  {
   "cell_type": "markdown",
   "id": "121e3a42",
   "metadata": {},
   "source": [
    "#### Definition\n",
    "- The decibel is 1/10 of a bel, which is a logarithmic unit of a power or an energy ratio.\n",
    "- The decibel (dB) corresponds to 10 times the base-10 logarithm of the ratio of two powers or energies.\n",
    "\n",
    "\n",
    "For example:\n",
    "\n",
    "$$\n",
    "\\text{Power Level} = \\text{WL}_{dB} = 10\\log_{10} \\frac{\\text{W}_1}{\\text{W}_2} \n",
    "$$\n",
    "\n",
    "where the unit is Watt.\n",
    "\n",
    "- If $\\text{WL}_{dB}$ is 10 dB, W1 is 10 times higher than W2. \n",
    "- If $\\text{W}_1$ is two times larger than $\\text{W}_2$, $\\text{WL}_{dB}$ = 3 dB."
   ]
  },
  {
   "cell_type": "markdown",
   "id": "b15335ad",
   "metadata": {},
   "source": [
    "### Acoustic intensity levels\n",
    "\n",
    "The intensity level $\\text{IL}$ in $dB$ in an acoustic field may be expressed by:\n",
    "\n",
    "$$\n",
    "\\text{IL}_{dB} = 10\\log_{10} \\frac{\\text{I}_1}{\\text{I}_2}\n",
    "$$\n",
    "\n",
    "Where $I_1$ and ${I_2}$ are acoustic intensities: power per unit area"
   ]
  },
  {
   "cell_type": "markdown",
   "id": "b2065247",
   "metadata": {},
   "source": [
    "- Since the acoustic intensity is proportional to the square of the effective acoustic pressure (unit: Pa)\n",
    "- The acoustic Sound Pressure Level (SPL) in dB may be expressed by:\n",
    "\n",
    "$$ \n",
    "\\text{SPL} = 20\\log_{10} \\frac{p_1}{p_2}\n",
    "$$"
   ]
  },
  {
   "cell_type": "markdown",
   "id": "d17f9f2d",
   "metadata": {},
   "source": [
    "#### Reference Quantities\n",
    "\n",
    "- All quantities with subscript _2_ are considered as reference quantities.\n",
    "- There are several units used to specify reference pressure in acoustics.\n",
    "- In air acoustics the reference quantity is $20\\mu$Pa (equivalent to the reference intensity of $10^{-12} W/m^2$). This is used so that $0$dB corresponds to the hearing threshold of an average person ($20 \\mu$Pa at 1m).\n",
    "- In underwater acoustics the reference quantity is $1\\mu$Pa (equivalent to the reference intensity of $6.67\\cdot10^{-19} W/m^2$)\n",
    "- Sometimes the reference quantity is also $1\\mu$bar ($10^5\\mu$Pa).\n",
    "\n",
    "- _In underwater acoustics is important to specify the reference quantity which is being used._\n",
    "\n",
    "For example:\n",
    "- Sound pressure level $\\text{SPL}=210$dB re $1\\mu$Pa. \n",
    "- This means that the acoustic pressure $p_1==10^{210/20}10^{-6} = 0.316\\cdot10^5$ Pa."
   ]
  },
  {
   "cell_type": "code",
   "execution_count": null,
   "id": "bd73437c",
   "metadata": {},
   "outputs": [
    {
     "data": {
      "text/plain": [
       "31622.776601683792"
      ]
     },
     "execution_count": null,
     "metadata": {},
     "output_type": "execute_result"
    }
   ],
   "source": [
    "10**(210/20)*1e-6"
   ]
  },
  {
   "cell_type": "markdown",
   "id": "9ada52bf",
   "metadata": {},
   "source": [
    "### Transmission Loss \n",
    "\n",
    "- Sound Pressure Level is also called Transmission Loss ($\\text{TL}$):\n",
    "\n",
    "$$\n",
    "\\text{TL}_{dB} = 10\\log_{10} \\frac{I}{I_0} = 20\\log_{10} \\frac{p}{p_0}\n",
    "$$\n",
    "\n",
    "- _ratio between the received intensity level ($I$) and the source intensity ($I_0$) in dB._\n",
    "\n",
    "\n",
    "- It is the decrease in sound intensity as sound travels through a medium\n",
    "- Loss occurs due to the absorption, reflection, and scattering of sound waves by the medium through which it travels.\n",
    "\n",
    "\n",
    "\n",
    "- It is a relative metric (wrt the source intensity).\n",
    "- Arguably the most important quantity with which we interprect acoustic propagation\n",
    "\n",
    "- $\\text{TL}$ does not make it possible to know how loud is the source, it only tells us how much we lose through propagation"
   ]
  },
  {
   "cell_type": "markdown",
   "id": "39cbed64",
   "metadata": {},
   "source": [
    "## Source Level and Reference Intensity\n",
    "\n",
    "### Source Level\n",
    "$\\text{SL}$, is the ratio between the intensity of the source @ 1m, from the source position and a reference intensity, in dB.\n",
    "  - Note: we never measure intensity. Sensors measure _pressure_, and for this reason we work with pressures (and hence with $20\\log$)."
   ]
  },
  {
   "cell_type": "markdown",
   "id": "01b8fe7d",
   "metadata": {},
   "source": [
    "### Reference intensity\n",
    "Because of its large range, sound amplitude is often described in logarithmic units, decibels (dB). \n",
    "\n",
    "Some small pressure is used as a reference pressure, and any other sound pressure is described as a level with respect to that reference pressure.\n",
    "\n",
    "- Researchers studying sound in water and air typically use a different reference pressure\n",
    "\n",
    "- **In ocean acoustics, the reference intensity is the intensity of a plane wave with RMS pressure of $1\\mu$Pa**\n",
    "\n",
    "- Air acoustics uses $20 \\mu$Pa as reference intensity: 0dB corresponds to the hearing threshold for a normal human listener for a sound frequency of 1,000 Hz.\n",
    "- These two references are, therefore, 26 dB apart (20 log 20 = 26)"
   ]
  },
  {
   "cell_type": "markdown",
   "id": "96a0a701",
   "metadata": {},
   "source": [
    "- This means that $20$ dB underwater and in air correspond to different intensities!\n",
    "- If I have a $20$ dB Sound Pressure Level, _underwater_ corresponds to $10 * 1 \\mu$Pa.\n",
    "- If I have a $20$ dB Sound Pressure Level, in _air_, corresponds to $10 \\cdot 20\\mu$Pa.\n",
    "- dB is not a unit of measurement! and we need a reference.\n",
    "        "
   ]
  },
  {
   "cell_type": "code",
   "execution_count": null,
   "id": "5549ba61",
   "metadata": {},
   "outputs": [
    {
     "data": {
      "text/plain": [
       "(20.0, 20.0)"
      ]
     },
     "execution_count": null,
     "metadata": {},
     "output_type": "execute_result"
    }
   ],
   "source": [
    "20*np.log10(10), 20*np.log10((10*20)/20)"
   ]
  },
  {
   "cell_type": "markdown",
   "id": "5f9de1cb",
   "metadata": {},
   "source": [
    "-----"
   ]
  },
  {
   "cell_type": "markdown",
   "id": "139b0a07",
   "metadata": {},
   "source": [
    "## Features of Oceanography"
   ]
  },
  {
   "cell_type": "markdown",
   "id": "0ff05f89",
   "metadata": {},
   "source": [
    "Oceanography is the study of the world's oceans and their physical, chemical, and biological processes. It is an interdisciplinary science that combines elements of physics, chemistry, geology, biology, and meteorology to understand the complex interactions that occur within the marine environment. "
   ]
  },
  {
   "cell_type": "markdown",
   "id": "58b293d1",
   "metadata": {},
   "source": [
    "Key features include\n",
    "\n",
    "- Ocean Circulation: The ocean is in constant motion, with currents flowing at different depths and speeds. These currents are driven by a variety of factors, including wind, temperature, and salinity differences, and play a crucial role in the distribution of heat and nutrients throughout the ocean.\n",
    "\n",
    "- Waves and Tides: Waves and tides are also important features of the ocean, affecting both the physical and biological aspects of the marine environment.\n",
    "\n",
    "- Ocean Chemistry: The chemical composition of the ocean is constantly changing, as it receives inputs from rivers, the atmosphere, and submarine vents. Oceanographers study how these inputs affect the ocean's pH, salinity, and nutrient levels, and how these changes impact marine life and global climate.\n",
    "\n",
    "- Marine Biology: The ocean is home to an incredibly diverse array of life, from microscopic plankton to massive whales. Oceanographers study the distribution and behavior of these organisms, as well as the complex interactions that occur within marine ecosystems.\n",
    "\n",
    "- Coastal Processes: The interactions between the ocean and the land are also an important focus of oceanography, as they affect both the physical and human environments. Coastal processes include erosion, sediment transport, and the formation of beaches and estuaries."
   ]
  },
  {
   "cell_type": "markdown",
   "id": "f62aa260",
   "metadata": {},
   "source": [
    "### Sound Speed Profiles (SSP)\n",
    "\n",
    "\n",
    "- In ocean acoustics, sound speed profile refers to the variation of the speed of sound in seawater as a function of depth, pressure, temperature, and salinity\n",
    "- The main factor affecting the propagation of acoustic waves in the ocean is the speed of sound\n",
    "- It has a nominal value of 1500 m/s in temperate and equatorial oceans\n",
    "\n",
    "- Small variations in the speed of sound have a profound effect on acoustic propagation in the ocean."
   ]
  },
  {
   "cell_type": "markdown",
   "id": "ec49bd86",
   "metadata": {},
   "source": [
    "- The speed of sound at any point in the ocean (non-linearly) depends on the local temperature, salinity, and hydrostatic pressure (or depth).\n",
    "\n",
    "- In a horizontally stratified ocean, the temperature and salinity are independent of horizontal range: they only vary with depth.\n",
    "   - Sound speed only vary with depth   \n",
    "   - This is roughly true in the deep oceans (away from features such as eddies or fronts).\n",
    "   "
   ]
  },
  {
   "cell_type": "markdown",
   "id": "4f437d71",
   "metadata": {},
   "source": [
    "<table><tr>\n",
    "<td> <img src=\"./images/2.ocean-acoustics/7.temperature-salinity-sound-speed.png\" alt=\"7.temperature-salinity-sound-speed\" style=\"width: 450px;\"/>Temperature, salinity, and sound speed profiles, Tonga Trench, South Pacific Ocean, September 2012 (Applied Underwater Acoustics).</td>\n",
    "<td> <img src=\"./images/2.ocean-acoustics/8.Tonga-trench.jpeg\" alt=\"8.Tonga-trench\" style=\"width: 250px;\"/>\n",
    "    Tonga Trench: it is the deepest trench in the Southern hemisphere and the second deepest on Earth after the Mariana Trench.\n",
    "    </td>    \n",
    "</tr></table>  "
   ]
  },
  {
   "cell_type": "markdown",
   "id": "974b91b4",
   "metadata": {},
   "source": [
    "- Over most of the ocean depth the salinity is essentially uniform\n",
    "    - Close to 34.85 parts per thousand \n",
    "    \n",
    "- Variations in the sound speed profile are driven by the temperature and the pressure. \n",
    "\n",
    "<table><tr>\n",
    "<td> <img src=\"./images/2.ocean-acoustics/8.sound-speed-tonga-trench.png\" alt=\"7.temperature-salinity-sound-speed\" style=\"width: 450px;\"/>Sound speed profile, Tonga Trench, South Pacific Ocean, September 2012 (Applied Underwater Acoustics).</td>\n",
    "</tr></table>  \n"
   ]
  },
  {
   "cell_type": "markdown",
   "id": "6228ca5c",
   "metadata": {},
   "source": [
    "## Chen-Millero Empirical Equation\n",
    "\n",
    "- Sound speed depends on salinity, temperature and depth\n",
    "- Sound speed equation identified based on multiple measurements of salinity, temperature and depth done across the seas and the oceans\n",
    "\n",
    "$$\n",
    "c = 1449.2 + 4.6T - 0.055T^2 + 0.000229T^3 + (1.34-0.01T)(S-35) + 0.016Z\n",
    "$$\n",
    "\n",
    "where\n",
    "- $c$ $m/s$, sound speed\n",
    "- $T$ $^oC$, temperature\n",
    "- $S$ $psu$, salinity (parts per thousand)\n",
    "- $Z$ $m$, depth\n",
    "\n",
    "It is an empirical equation (UNESCO certified)"
   ]
  },
  {
   "cell_type": "markdown",
   "id": "12e82b09",
   "metadata": {},
   "source": [
    "### Comments\n",
    "- Sound is faster with temperature (Warmer waters means sound is faster)\n",
    "- Sound is faster with depth (linearly)\n",
    "- Sound is also faster with salinity\n",
    "\n",
    "- In the same geographical place, sound speed varies as we go down in water column."
   ]
  },
  {
   "cell_type": "markdown",
   "id": "3a9b7994",
   "metadata": {},
   "source": [
    "### A typical profile\n",
    "\n",
    "<table><tr>\n",
    "<td> <img src=\"./images/2.ocean-acoustics/9.ssp-1.png\" alt=\"9.sound-speed-profile\" style=\"width: 450px;\"/></td>\n",
    "</tr></table> "
   ]
  },
  {
   "cell_type": "markdown",
   "id": "5548acd9",
   "metadata": {},
   "source": [
    "Very close to the surface:\n",
    "- Depth is small ($Z \\approx 0$). \n",
    "- Temperature and salinity drive the speed.\n",
    "- Temperature is strongly influenced by solar radiation. Sound speed depends from hourly variations.\n",
    "\n",
    "Close to the surface:\n",
    "- Seasonal variations in temperature (winter vs summer)\n",
    "- drops in temperature drive drops in speed\n",
    "- seasonal thermocline (i.e., seasonal temperature gradient).\n",
    "\n",
    "_For ex. in the Mediterranean Sea, temperature is approx constant in the first 10m, then it start decreasing. At what depth exactly depends on local conditions._\n",
    "\n",
    "Between 200/300m - 500m\n",
    "- Temperature decreases more or less in the same way everywhere\n",
    "- Atmospheric influence is not important anymore\n",
    "- Specific depth depends on geographic location\n",
    "- This is called _main thermocline_\n",
    "\n",
    "Below 1000m\n",
    "- Temperature does not vary anymore (deep isothermal layer)\n",
    "- Depth drives change in sound speed.\n",
    "\n",
    "\n",
    "See also [Technical Guides - Speed of sound in sea water](http://resource.npl.co.uk/acoustics/techguides/soundseawater/)"
   ]
  },
  {
   "cell_type": "markdown",
   "id": "dec793bf",
   "metadata": {},
   "source": [
    "### Munk Profiles\n",
    "\n",
    "- A canonical model of the sound speed profile in the deep ocean has been developed by Munk\n",
    "- Assumes specific properties of the ocean (i.e., exponential stratification: density of seawater exponentially increases with depth)\n",
    "- There is not a single Munk profile but they are representative of a behaviour\n",
    "\n",
    "see also: Munk, W. H., Sound channel in an exponentially stratified ocean, with application to SOFAR, J. Acoust. Soc. Am., 55, pp. 220e226 (1974)."
   ]
  },
  {
   "cell_type": "code",
   "execution_count": null,
   "id": "cfdd131c",
   "metadata": {},
   "outputs": [
    {
     "data": {
      "text/plain": [
       "Text(0, 0.5, 'depth (km)')"
      ]
     },
     "execution_count": null,
     "metadata": {},
     "output_type": "execute_result"
    },
    {
     "data": {
      "image/png": "[encoded data removed]",
      "text/plain": [
       "<Figure size 500x600 with 1 Axes>"
      ]
     },
     "metadata": {},
     "output_type": "display_data"
    }
   ],
   "source": [
    "# z is in km\n",
    "z_1 = 1.2  # z1 is the depth of the sound channel axis\n",
    "c_1 = 1500 # c1 is the speed of sound at the axis\n",
    "B = 1.3    # km\n",
    "\n",
    "epsilon = 0.0074\n",
    "\n",
    "z_vector = np.linspace(0, 5, 60)\n",
    "c_z = []\n",
    "for z in z_vector:\n",
    "    eta = 2*(z-z_1)/B    \n",
    "    c_z.append(c_1*(1 + epsilon*(eta+np.e**-eta-1)))\n",
    "\n",
    "    \n",
    "conjugate_speed = c_z[np.where(c_z>c_z[0])[0][0]]\n",
    "conjugate_depth = z_vector[np.where(c_z>c_z[0])[0][0]]\n",
    "    \n",
    "plt.figure(figsize=(5, 6))\n",
    "plt.plot([min(c_z), max(c_z)], [z_1, z_1], color='black', linestyle='--')\n",
    "plt.plot([c_z[0], c_z[0]], [z_vector[0], z_vector[-1]], color='black', linestyle='--')\n",
    "\n",
    "plt.plot([conjugate_speed-10, conjugate_speed+10], [conjugate_depth, conjugate_depth], color='black', linestyle='--')\n",
    "plt.text( 1540, 1, 'sound channel axis')\n",
    "plt.text( 1540, conjugate_depth, 'conjugate depth')\n",
    "plt.text( 1510, conjugate_depth+0.5, 'depth excess')\n",
    "\n",
    "plt.plot(c_z, z_vector)   \n",
    "plt.gca().invert_yaxis()\n",
    "plt.xlabel('sound speed (m/s)')\n",
    "plt.ylabel('depth (km)')"
   ]
  },
  {
   "cell_type": "markdown",
   "id": "89a49ebd",
   "metadata": {},
   "source": [
    "Comments:\n",
    "- At the conjugate depth, sometimes referred to as the critical depth, the sound speed is equal to that at the sea surface, and in the region labeled “depth excess,” it is greater than the speed of sound at the sea surface. \n",
    "- Any profile showing a depth excess supports convergence zone propagation, whereby steep rays follow deep, upward refracted paths and regions of high intensity known as convergence zones, or caustics are formed near the surface at regular intervals in range\n",
    "- Typically, the range interval between convergence zones in the Atlantic Ocean is of the order of 60 km."
   ]
  },
  {
   "cell_type": "markdown",
   "id": "585aa54d",
   "metadata": {},
   "source": [
    "## Influence of Temperature, Salinity and Depth on the SSP\n",
    "\n",
    "<table><tr>\n",
    "<td> <img src=\"./images/2.ocean-acoustics/10.influcence-on-ssp.png\" alt=\"10.influcence-on-ssp\" style=\"height: 390px;\"/></td>\n",
    "<td> <img src=\"./images/2.ocean-acoustics/10.influcence-on-ssp-1.png\" alt=\"10.influcence-on-ssp\" style=\"height: 350px;\"/></td>\n",
    "</tr></table> "
   ]
  },
  {
   "cell_type": "markdown",
   "id": "085ae887",
   "metadata": {},
   "source": [
    "Temperature\n",
    "- $\\text{T}$ is a typical profile. \n",
    "- The shallower part migth have daily or seasonal variations.\n",
    "- Main thermocline when temperature decreases.\n",
    "- At deeper depths, is constant between 1 and 3 degrees.\n",
    "- Typical profile is representative of the behaviour.\n",
    "\n",
    "Salinity\n",
    "- $\\text{S}$ is a typical profile\n",
    "- Minimum at a certain depth (around 1000m)\n",
    "- At deep depths, it is almost constant\n",
    "\n",
    "Speed corrections in the Chen-Millero equations due to each separate contribution are reported in the middle graph above:\n",
    "- The speed correction $\\Delta C_T$ follows closely the temperature profile.\n",
    "- Change in speed is about $60-70$ m/s\n",
    "- $\\Delta C_P$ is the change in speed due to change in depth\n",
    "- $\\Delta C_S$ is the change in speed due to change in salinity. Salinity only contributes a few m/s. \n",
    "\n",
    "- At shallow depths, sound speed mostly depends on temperature\n",
    "- At deep depths, sound speed mostly depends on depth.\n",
    "\n",
    "(see right most plot)."
   ]
  },
  {
   "cell_type": "markdown",
   "id": "472bb1d1",
   "metadata": {},
   "source": [
    "### Temperature at sea surface\n",
    "\n",
    "\n",
    "#### Monthly average\n",
    "<table>\n",
    "    <tr>\n",
    "    <td>\n",
    "    <figure>\n",
    "    <video controls src=\"./videos/Sea-surface-temperature-MYD28M.mov\" width=\"600\" height=\"400\" frameborder=\"0\"></video> \n",
    "    <figcaption>Sea Surface Temperature, NASA Earth Oservatory. Satellite measurements.</figcaption>        \n",
    "    </figure>    \n",
    "    </td>    \n",
    "    </tr>\n",
    "</table> \n",
    "\n",
    "- Maps based on observations by the Moderate Resolution Imaging Spectroradiometer (MODIS) on NASA’s Aqua satellite. \n",
    "- The satellite measures the temperature of the top millimeter of the ocean surface. \n",
    "- In this map, the coolest waters appear in blue (approximately -2 degrees Celsius), and the warmest temperatures appear in pink-yellow (35 degrees Celsius).\n",
    "\n",
    "The most obvious pattern shown in the time series is the year-round difference in sea surface temperatures between equatorial regions and the poles. \n",
    "Various warm and cool currents stand out even in monthly averages of sea surface temperature. \n",
    "A band of warm waters snakes up the East Coast of the United States and veers across the North Atlantic the Gulf Stream.\n",
    "\n",
    "Data is available from the [NASA website](https://neo.gsfc.nasa.gov/view.php?datasetId=MYD28M)"
   ]
  },
  {
   "cell_type": "markdown",
   "id": "7855ebba",
   "metadata": {},
   "source": [
    "#### Seasonal Average\n",
    "\n",
    "<table><tr>\n",
    "<td> <img src=\"./images/2.ocean-acoustics/11.sea-surface-temperature-sst.seasonal.gif\" alt=\"11.sea-surface-temperature-average\" style=\"height: 390px;\"/></td>\n",
    "</tr></table> \n",
    "\n",
    "\n",
    "Notable features\n",
    "- Humboldt currents\n",
    "- Gulf stream\n",
    "\n",
    "\n",
    "Data from [NOAA](https://psl.noaa.gov/map/clim/sst.shtml) and [its interactive website](https://psl.noaa.gov/mddb2/makePlot.html?variableID=2705&fileID=118911)"
   ]
  },
  {
   "cell_type": "markdown",
   "id": "d789a56e",
   "metadata": {},
   "source": [
    "\n",
    "<table><tr>\n",
    "<td> <img src=\"./images/2.ocean-acoustics/12.sst-january.png\" alt=\"11.sea-surface-temperature-average\" style=\"height: 350px;\"/></td>\n",
    "<td> \n",
    "    <img src=\"./images/2.ocean-acoustics/12.sst-july.png\" alt=\"11.sea-surface-temperature-average\" style=\"height: 350px;\"/>\n",
    "    </td>\n",
    "</tr></table> \n"
   ]
  },
  {
   "cell_type": "markdown",
   "id": "a997dfcd",
   "metadata": {},
   "source": [
    "## Temperature vs depth"
   ]
  },
  {
   "cell_type": "markdown",
   "id": "7b3710b7",
   "metadata": {},
   "source": [
    "<table><tr>\n",
    "<td> <img src=\"./images/2.ocean-acoustics/13.temperature-vs-depth-1.png\" alt=\"113.temperature-vs-depth-1\" style=\"height: 400px;\"/></td>\n",
    "<td> \n",
    "    <img src=\"./images/2.ocean-acoustics/14.temperature-vs-depth-2.png\" alt=\"13.temperature-vs-depth-1\" style=\"height: 400px;\"/>\n",
    "    </td>\n",
    "</tr></table> "
   ]
  },
  {
   "cell_type": "markdown",
   "id": "6dc1061d",
   "metadata": {},
   "source": [
    "- Depths are indicatives (they might change depending on latitude/longitudes)\n",
    "- Note the difference between high latitudes and mid-latitudes\n",
    "- First layer: Mixed layer where temperature depends on the thermal exchange with the atmosphere\n",
    "    - presence of seasonal thermoclines (right picture)\n",
    "- Main permanent thermocline\n",
    "- Isothermal deep layer\n",
    "- Tropics have less seasonal difference, and have a much steeper permanent thermocline due to warmer waters at the surface (see also Montly and seasonal average plots above).\n",
    "- At High latitudes, surface water is 1 or 2 degrees (e.g. due to ice meltings and salty waters), and there is no (or almost no) thermocline.\n",
    "    "
   ]
  },
  {
   "cell_type": "markdown",
   "id": "1e2ced73",
   "metadata": {},
   "source": [
    "## Depth and Temperature Distribution across the Atlantic\n",
    "\n",
    "- Water physical properties (temperatude, salinity, etc) changes with depth and latitude/longitude\n",
    "- The picture below shows what happens when we travel across the Atlantic\n",
    "- Data from [EWOCE](https://www.ewoce.org/gallery/Map_Atlantic.html)\n",
    "\n",
    "- Note how the main thermocline moves deeper as we travel from high latitudes to mid-latitudes, to the equator\n",
    "- SSP would still resemble a Munk profile but their key points would be different\n",
    "- Note also the difference between same latitudes in the North and South Atlantic due to presence of the Gulf Stream in the North Altantic.\n",
    "- See also [Metoffice | The Atlantic Meridional Overturning Circulation](https://www.metoffice.gov.uk/weather/learn-about/weather/oceans/amoc)\n",
    "<table><tr>\n",
    "<td> <img src=\"./images/2.ocean-acoustics/15.temperatude-depth-atlantic.png\" alt=\"15.temperatude-depth-atlantic\" style=\"height: 600px;\"/></td>\n",
    "<td> \n",
    "</tr></table> "
   ]
  },
  {
   "cell_type": "markdown",
   "id": "ef0d3ecf",
   "metadata": {},
   "source": [
    "<table><tr>\n",
    "<td> <img src=\"./images/2.ocean-acoustics/16.temperature-depth-atlantic-2.png\" alt=\"16.temperature-depth-atlantic-2\" style=\"height: 600px;\"/></td>\n",
    "<td> \n",
    "</tr></table> "
   ]
  },
  {
   "cell_type": "markdown",
   "id": "43d861ac",
   "metadata": {},
   "source": [
    "## Measuring Temperature"
   ]
  },
  {
   "cell_type": "markdown",
   "id": "f1f43793",
   "metadata": {},
   "source": [
    "- Rather than being measured directly, the sound speed profile is commonly computed from temperature and salinity data recovered from a conductivity, temperature and depth (CTD) probe or from temperature data acquired with a bathy-thermograph (BT)\n",
    "\n",
    "- In the case of the latter, the salinity, which is not returned by the BT, is often estimated for the purpose of computing the sound speed profile from archival salinity data\n",
    "\n",
    "- A direct measure of the sound speed profile may be obtained using a sound velocity sensor (SVX) based on the “sing-around” principle. An ultrasonic pulse is transmitted over a fixed path between a source and a receiver. When the pulse arrives at the receiver, it triggers the transmission of another pulse from the projector. The repetition frequency of the pulses is mainly determined by the travel time over the path length, which is controlled by the speed of sound in the fluid (seawater in the case of ocean profiling) between the source and receiver."
   ]
  },
  {
   "cell_type": "markdown",
   "id": "de8a0f54",
   "metadata": {},
   "source": [
    "## Salinity\n",
    "\n",
    "Definition: _\"Total material amount in grams dissolved within 1kg of seawater\"_\n",
    "\n",
    "- Dissolved: pass through a 0.2$\\mu m$ filter\n",
    "\n",
    "- Adimensional quantity: grams over kilos, which is equivalent to say \"parts per thousands\" (ppt)\n",
    "\n",
    "\n",
    "- Operative definition: we can use it to measure salinity. Measuring salinity using the definition is not really practical..."
   ]
  },
  {
   "cell_type": "markdown",
   "id": "bb02e783",
   "metadata": {},
   "source": [
    "- Alternative: **Practical Salinity Scale (psu)**,\n",
    "    - The most practical method currently used is through electrical conductivity. \n",
    "    - This is an indirect method which needs an accurate relationship between the conductivity $C$ and the salinity $S$ as a function of temperature $T$ and pressure $p$.\n",
    "    - The salinity determined in this way is called the _practical salinity_    \n",
    "    - It is not exactly equivalent to measuring salinity in parts per thousands.\n",
    "    - Electrical conductivity is easy to measure"
   ]
  },
  {
   "cell_type": "markdown",
   "id": "7b84c80e",
   "metadata": {},
   "source": [
    "To reduce measurement errors, we measure the _relative conductivity $R$_:\n",
    "- The seawater conductivity $C(S,T)$ relative to the conductivity $C(35,15)$ of a standard saline solution at $15^o$C containing $32.4356 g$ Potassium chloride (KCl, or potassium salt) in a mass of $1$ kg (ppt) at 1 atm pressure (1 atm = 101325 Pa).\n",
    "\n",
    "- Relative conductivity: \n",
    "$$R=\\frac{C(S,T)}{C(35,15)}$$\n"
   ]
  },
  {
   "cell_type": "markdown",
   "id": "dfe4be28",
   "metadata": {},
   "source": [
    "The relationship between the salinity $S(T)$ and the relative conductivity $R=R(S,T)$:\n",
    "\n",
    "$$\n",
    "S(T) = S(15) + \\Delta S(T)\n",
    ",\\;\\;\n",
    "R=\\frac{C(S,T)}{C(35,15)}\n",
    "$$\n",
    "\n",
    "$$\n",
    "S(15) = 0.008 − 0.1692R^{1/2} + 25.3851 R + 14.0941 R^{3/2} − 7.0261 R^2 + 2.7081R^{5/2}\n",
    "$$\n",
    "\n",
    "$$\n",
    "ΔS(T) = \\frac{(T−15)}{1+0.0162(T−15)} + 0.0005 − 0.0056 R^{1/2} − 0.0066 R − 0.0375 R^{3/2} + 0.0636 R^2 − 0.0144 R^{5/2}\n",
    "$$\n",
    "\n",
    "for $2\\le S \\le42$. If $R=1$ we have $S=35$."
   ]
  },
  {
   "cell_type": "markdown",
   "id": "69c0afc8",
   "metadata": {},
   "source": [
    "### Salinity Sensors\n",
    "\n",
    "Salinity sensors measure the electrical conductivity of seawater, which is proportional to its salinity.\n",
    "\n",
    "#### Platinum Electrode Conductivity Sensor\n",
    "\n",
    "- Measure the electrical conductivity of seawater. \n",
    "- The sensor consists of two platinum electrodes that are immersed in the seawater. \n",
    "- An alternating current is passed through the electrodes, and the electrical resistance of the seawater between the electrodes is measured. \n",
    "- The electrical conductivity of the seawater is proportional to the concentration of dissolved salts in the water, including sodium, chloride, and other ions.\n",
    "\n",
    "- Platinum electrode conductivity sensors have the advantage of being relatively simple and robust\n",
    "- Provide accurate salinity measurements over a wide range of temperatures and salinities."
   ]
  },
  {
   "cell_type": "markdown",
   "id": "c5d117d3",
   "metadata": {},
   "source": [
    "Conductivity, $C$, is found as:\n",
    "\n",
    "$$\n",
    "C = G \\cdot k_c\n",
    "$$\n",
    "\n",
    "where $G$ is the conductance, and $k_c$ is the cell constant. \n",
    "\n",
    "- Conductance is defined as the reciprocal of resistance. When resistance is measured in ohms, conductance is measured using the SI unit, siemens (water samples are commonly measured in microsiemens, or µS - Siemens is a large unit).\n",
    "\n",
    "The cell constant is determined for a probe as:\n",
    "\n",
    "$$\n",
    "k_c = d/A\n",
    "$$\n",
    "\n",
    "where $d$ is the distance between the two electrodes, and $A$ is the area of the electrode surface.\n",
    "\n",
    "- A potential difference is applied to the two probe electrodes in the salinity sensor. \n",
    "- The resulting current is proportional to the conductivity of the solution. \n",
    "- This current is converted into a voltage.\n",
    "\n",
    "\n",
    "\n",
    "\n",
    "<table><tr>\n",
    "<td> <img src=\"./images/2.ocean-acoustics/17.Electrode_conductivity.JPG\" alt=\"17.Electrode_conductivity\" style=\"height: 200px;\"/></td>\n",
    "<td> \n",
    "    <img src=\"./images/2.ocean-acoustics/18.Conductivity_cell.JPG\" alt=\"18.Conductivity_cell.JPG\" style=\"height: 100px;\"/>\n",
    "    </td>\n",
    "</tr></table> "
   ]
  },
  {
   "cell_type": "markdown",
   "id": "6435362a",
   "metadata": {},
   "source": [
    "#### Electrodeless Conductivity Sensor (Inductive)\n",
    "\n",
    "- Use inductive coils. \n",
    "- The sensor consists of two coils which are incorporated next to one another in a polymer or ceramic body, and forming a current transformer. \n",
    "- The coupling between the two coils of a transformer depends on the conductivity of the medium (in our case sea water)\n",
    "\n",
    "The sensor is designed so part of the liquid media forms a closed conductive current path passing through the coils. Current is applied to the primary coil (generating coil), which induces an alternating voltage in the liquid loop. In liquids which conduct electricity, this causes a current flow captured by the second coil (receiving coil), which is proportional to the conductivity of the sample solution.\n",
    "\n",
    "<table><tr>\n",
    "<td> <img src=\"./images/2.ocean-acoustics/19.Inductive_Messung_eng.jpg\" alt=\"17.Electrode_conductivity\" style=\"height: 200px;\"/></td>\n",
    "<td> <img src=\"./images/2.ocean-acoustics/20.electrodeless-sensors.jpg\" alt=\"20.electrodeless-sensors\" style=\"height: 200px;\"/></td>        \n",
    "</tr></table> "
   ]
  },
  {
   "cell_type": "markdown",
   "id": "d55a26e6",
   "metadata": {},
   "source": [
    "### Salinity at sea surface\n",
    "\n",
    "\n",
    "<table>\n",
    "    <tr>\n",
    "        <td> <img src=\"./images/2.ocean-acoustics/21.smap_RSS_SSS_monthly_2022_05_v5.0.png\" alt=\"17.Electrode_conductivity\" style=\"height: 500px;\"/></td>\n",
    "        \n",
    "<!--td> <img src=\"./images/2.ocean-acoustics/21.OISSS_L4_multimission_global_monthly_v1.0_2022-02.png\" alt=\"17.Electrode_conductivity\" style=\"height: 500px;\"/></td-->\n",
    "</tr>\n",
    "    <tr>\n",
    "        <td> Global map of monthly sea surface salinity, May 2022. From https://salinity.oceansciences.org/data-maps.htm    </td>\n",
    "</tr></table> \n",
    "\n",
    "\n",
    "- On average, sea surface salinity is about 35 PSS.\n",
    "- Over the globe, sea surface salinity varies from 32 to 37 PSS.\n",
    "- Salinity variations are caused by precipitation, evaporation, runoff, and ice freezing and melting.\n",
    "- Seawater's density – mass per volume – is governed by temperature, salinity, and depth.\n",
    "    - Along with temperature, salinity is a major factor in contributing to changes in the density of seawater and therefore ocean circulation.\n",
    "- Ocean circulation below the wind-driven surface (tens to hundreds of meters in depth) is driven by changes in seawater density.\n"
   ]
  },
  {
   "cell_type": "markdown",
   "id": "71e17673",
   "metadata": {},
   "source": [
    "<table>\n",
    "    <tr>\n",
    "    <td>\n",
    "    <figure>\n",
    "    <video controls src=\"./videos/aquariustour-1280_youtube_hq.mp4\" width=\"600\" height=\"400\" frameborder=\"0\"></video> \n",
    "    <figcaption>NASA Salinity Ocean Sciences, https://salinity.oceansciences.org/overview.htm.</figcaption>        \n",
    "    </figure>    \n",
    "    </td>    \n",
    "    </tr>\n",
    "</table>  "
   ]
  },
  {
   "cell_type": "markdown",
   "id": "6fd6888f",
   "metadata": {},
   "source": [
    "### Salinity vs Depth\n",
    "\n",
    "<table>\n",
    "    <tr>\n",
    "        <td> <img src=\"./images/2.ocean-acoustics/22.salinity-profiles.png\" alt=\"22.salinity-profiles\" style=\"height: 500px;\"/></td>\n",
    "     </tr></table> \n",
    "     \n",
    "- High Laitudes: low salinity at the surface\n",
    "- Low Latitudes: high salinity at the surface\n",
    "- Halocline: salinity gradient"
   ]
  },
  {
   "cell_type": "markdown",
   "id": "3a37b0df",
   "metadata": {},
   "source": [
    "### Temperature, Salinity and Density\n",
    "\n",
    "<table>\n",
    "    <tr>\n",
    "        <td> <img src=\"./images/2.ocean-acoustics/23.temperature-salinity-and-density.png\" alt=\"23.temperature-salinity-and-density\" style=\"height: 500px;\"/></td>\n",
    "     </tr></table> "
   ]
  },
  {
   "cell_type": "markdown",
   "id": "31d98f40",
   "metadata": {},
   "source": [
    "- Density of Ocean is determined by temperature, the quantity of dissolved salts (also known as salinity), and the pressure to which a parcel of seawater is exposed\n",
    "- The density of seawater can be increased by reducing its temperature, increasing its salinity, or increasing the pressure\n",
    "- Pressure has the least impact on density as water is fairly incompressible, so pressure effects are not very significant except at extreme depths\n",
    "- Temperature and salinity are the primary factors determining density, and of these, temperature has the greatest impact\n",
    "- Density is lowest at the surface, where the water is the warmest. As depth increases, there is a region of rapidly increasing density with increasing depth\n",
    "\n",
    "- Density changes are important for robotics: buoyancy!\n",
    "- Affects vehicle balancing"
   ]
  },
  {
   "cell_type": "markdown",
   "id": "a70a8d77",
   "metadata": {},
   "source": [
    "### Sea surface density\n",
    "\n",
    "<table>\n",
    "    <tr>\n",
    "        <td> <img src=\"./images/2.ocean-acoustics/24.density-of-water.png\" alt=\"24.density-of-water.png\" style=\"height: 500px;\"/></td>\n",
    "     </tr></table> \n"
   ]
  },
  {
   "cell_type": "markdown",
   "id": "7571e136",
   "metadata": {},
   "source": [
    "## Back to Sound Speed\n",
    "\n",
    "<table>\n",
    "    <tr>\n",
    "        <td> <img src=\"./images/2.ocean-acoustics/25.back-to-ssp.png\" alt=\"25.back-to-ssp.png\" style=\"height: 500px;\"/></td>\n",
    "     </tr></table> \n",
    "     \n",
    "- Typical value: 1500 m/s   \n",
    "- Polar regions: sound speed is usually only increasing with depth.\n",
    "   - Temperature more or less constant (already low), and sound speed increases with depth\n",
    "      \n",
    "- Surface duct profile\n",
    "  - Surface waters has temperature lower (a few degrees) than that 5-10m below (e.g., summer nights cooling thin surface layers after very hot days)\n",
    "  - Sound speed slower than that of lower layers.\n",
    "  \n",
    "  "
   ]
  },
  {
   "cell_type": "code",
   "execution_count": null,
   "id": "4646aa15",
   "metadata": {},
   "outputs": [],
   "source": []
  }
 ],
 "metadata": {
  "kernelspec": {
   "display_name": "Python 3 (ipykernel)",
   "language": "python",
   "name": "python3"
  }
 },
 "nbformat": 4,
 "nbformat_minor": 5
}
