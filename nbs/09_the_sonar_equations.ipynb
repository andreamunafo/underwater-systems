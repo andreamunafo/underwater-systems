{
 "cells": [
  {
   "cell_type": "raw",
   "metadata": {},
   "source": [
    "<div style=\"page-break-before: always;\"></div>"
   ]
  },
  {
   "cell_type": "code",
   "execution_count": null,
   "id": "8b4763a6",
   "metadata": {},
   "outputs": [],
   "source": [
    "#| default_exp the_sonar_equations"
   ]
  },
  {
   "cell_type": "markdown",
   "id": "014f59f3",
   "metadata": {},
   "source": [
    "# The SONAR equations"
   ]
  },
  {
   "cell_type": "markdown",
   "id": "9aae3fb6",
   "metadata": {},
   "source": [
    "The “sonar equation” is a systematic way of estimating the expected signal-to-noise ratios for sonar (SOund Navigation And Ranging) systems. \n",
    "- The signal-to-noise ratio determines whether or not a sonar will be able to detect a signal in the presence of background noise in the ocean. \n",
    "- It takes into account the source level, sound spreading, sound absorption, reflection losses, ambient noise, and receiver characteristics. \n",
    "- The sonar equation is used to estimate the expected signal-to-noise ratios for all types of sonar systems.\n",
    "- Slightly different versions of the sonar equation are used for active (echo-ranging) and passive sonar systems."
   ]
  },
  {
   "cell_type": "markdown",
   "id": "b6836c4c",
   "metadata": {},
   "source": [
    "Fundamental equations through which we can measure the performance of an acoustic system (a SONAR).\n",
    "\n",
    "A sonar system can be influenced by a number of factors:\n",
    "- environmental conditions (ambient noise, acoustic loss, etc.)\n",
    "- how the sonar system is built (geometry, frequency, array length, etc.)\n",
    "\n",
    "The combination of these aspects give us the overall performance of a specific system in a specific environment\n",
    "\n",
    "For ex.\n",
    "- Bathymetric survey: the right sonar depends on the expected environment when I need to measure the bathymetry in the area of interest\n",
    "\n",
    "What this means is that the datasheet is usually not enough to characterise the operational performance of the sonar"
   ]
  },
  {
   "cell_type": "markdown",
   "id": "6a0445e6",
   "metadata": {},
   "source": [
    "- Sonar equations are relatively simple equations that express an intensity balance (in dB)\n",
    "- Through the SONAR equations we obtain the Signal-to-Noise (SNR) at the receiver\n",
    "- And hence the maximum range of the SONAR\n",
    "\n",
    "Note:\n",
    "- acoustic intensity depends on frequency, but we will see that in the sonar equations frequency is not explicit\n",
    "- what this means is that applying the same equations at different frequencies we obtain different results\n",
    "\n",
    "\n",
    "- The same system can have different operational performance in space and time because space and time change the environment\n",
    "- Changing the source-receiver geometry based on the operational environmental characteristics we can optimise the SONAR performance (we operate the system better)\n",
    "  - If our sonar is deployed on robots that can move through the water column this can make a big impact"
   ]
  },
  {
   "cell_type": "markdown",
   "id": "589836ba",
   "metadata": {},
   "source": [
    "## Passive SONAR equation\n",
    "\n",
    "\n",
    "<table>\n",
    "    <tr>\n",
    "        <td>\n",
    "            <img src=\"./images/9.sonar-equations/1.passive-sonar.png\" alt=\"passive sonar\" style=\"width: 550px\"/>\n",
    "        </td>\n",
    "    </tr>\n",
    "</table> \n",
    "\n",
    "\n",
    "- The SONAR is a receiver that listens for sound\n",
    "- A source is emitting a signal with intensity $SL$ (Source Level)\n",
    "  - Tonals (monofrequency components)\n",
    "     - Propulsion machinery (main motors, reductions, etc.)\n",
    "     - Auxiliary machinery (pumps, generators, etc)\n",
    "     - etc.\n",
    "     \n",
    "     $SL$: Level of acoustic intensity 1m from the source\n",
    "     \n",
    "  - Broadband noise\n",
    "     - Cavitation at or near the propeller\n",
    "     - Radiated flow noise\n",
    "     - etc\n",
    "     \n",
    "    $SL = SSL + 10\\log B$\n",
    "    \n",
    "    where:\n",
    "      - $SSL$ is the pressure spectrum level 1m from the source\n",
    "      - $B$ is the bandwidth of the system in Hz (if SSL is not contant over B, it needs to be split in smaller bands)\n",
    "    "
   ]
  },
  {
   "cell_type": "markdown",
   "id": "00713a91",
   "metadata": {},
   "source": [
    "- All the Ambient Noise present has an intensity $N$ (e.g., marine traffic, etc.)\n",
    "- The receiver receives a signal (echo level) with intensity\n",
    "\n",
    "$$\n",
    "EL = SL - TL\n",
    "$$\n",
    "\n",
    "- Transmission Loss (TL) includes intrinsic attenuation, geometric attenuation, interference (which are also due to the variation of the sound speed in the water column)\n",
    "  - TL is due to the environmental effects (except for the noise)\n",
    "  - There might be one loss that is predominant, for ex. at high freq. TL mostly due to intrinsic attenuation, at low frequency (and deep water) is geometric attenuation\n",
    "  \n",
    "- The equation depends on the frequency so is valid if all the quantities have the same frequencies\n",
    "  - Note that interference which depends on the phase is strongly dependent on the frequency and this has a direct effect on the TL\n",
    "  \n",
    "  \n",
    "The Signal-to-Noise ratio in dB:\n",
    "\n",
    "$$\n",
    "SNR = (SL - TL) - N\n",
    "$$"
   ]
  },
  {
   "cell_type": "markdown",
   "id": "69ea49da",
   "metadata": {},
   "source": [
    "### Detection Threshold and Signal Eccess\n",
    "\n",
    "- We are interested in listening to some signal (EL) which is due to the sound emitted by the source less than what is loss due to propagation.\n",
    "\n",
    "- Given that there is also Ambient noise, when can I detect the signal from the Ambient noise?\n",
    "- We define a Detection Threshold (DT) (typically DT=0, SNR > 0 dB)\n",
    "  - Choose the right DT value is complex\n",
    "  - Trade off between probability of detecting something but also having as little false alarms as possible\n",
    "  - Depends on the application"
   ]
  },
  {
   "cell_type": "markdown",
   "id": "9580b54d",
   "metadata": {},
   "source": [
    "- The detection process consists of designating a threshold which, when exceed, causes a detection to be recorded.\n",
    "\n",
    "- If the signal is much stronger than the noise, it is clear that a threshold can be defined that will allow valid signals to be recorded while ignoring the noise. \n",
    "\n",
    "- However, when the signal and noise are of comparable size, any threshold that will catch a reasonable number of valid signals will also record \"detections\" when a valid signal is absent.\n"
   ]
  },
  {
   "cell_type": "markdown",
   "id": "a31432b5",
   "metadata": {},
   "source": [
    "<table>\n",
    "    <tr>\n",
    "        <td>\n",
    "            <img src=\"./images/9.sonar-equations/2.detection-threshold-1.png\" alt=\"detection threshold\" style=\"width: 550px\"/>\n",
    "        </td>\n",
    "    </tr>\n",
    "</table> \n",
    "\n",
    "_Figure: Adapted from An introduction to the sonar equations with applications, 1976, pag. 81_\n"
   ]
  },
  {
   "cell_type": "markdown",
   "id": "e5827d0e",
   "metadata": {},
   "source": [
    "- We call Signal Eccess (SE)\n",
    "\n",
    "$$\n",
    "SE = SNR - DT\n",
    "$$\n",
    "\n",
    "- If $SE>0$ we \"see\" the signal, otherwise we do not see it."
   ]
  },
  {
   "cell_type": "markdown",
   "id": "fdd35047",
   "metadata": {},
   "source": [
    "## Active monostatic SONAR equation\n",
    "\n",
    "- Monostatic: source and receiver are **collocated**\n",
    "  - Might be the same transducer or different transducers\n",
    "  \n",
    "- Active SONAR:\n",
    "   - The system produces sound\n",
    "   - We have a source with a specific souce ($SL$)\n",
    "\n",
    "- If souce and receiver are collocated and given that the source has transmitted a signal and I expect to receive a signal \n",
    "  - the signal must be backscatter from something\n",
    "  - the signal must come back to the receiver (which is collocated with the source)\n",
    "  \n",
    "- For this reason we need to have a \"Target\"  in the area    \n",
    "  \n",
    "<table>\n",
    "    <tr>\n",
    "        <td>\n",
    "            <img src=\"./images/9.sonar-equations/3.active-monostatic-sonar.png\" alt=\"active monostatic sonar\" style=\"width: 550px\"/>\n",
    "        </td>\n",
    "    </tr>\n",
    "</table> \n",
    "  "
   ]
  },
  {
   "cell_type": "markdown",
   "id": "ce5f7c29",
   "metadata": {},
   "source": [
    "### Target\n",
    "\n",
    "- Terminology comes from military applications (active sonars developed to hunt for submarines)\n",
    "- For us, target is anything we would like to insonify\n",
    "\n",
    "- The backscatter signal depends on the target\n",
    "   - With respect to the wavelength of the signal\n",
    "   - The intensity of the signal reflected by the target is called Target Strength $TS$\n",
    "   - The Target Strength is typically negative!\n",
    "      - Provides information on how much signal is lost through scattering in every direction but the backscatting one\n",
    "   - The Target Strength of the target depends on the target shape and where the signal insonifies that specific shape (e.g. submarine)"
   ]
  },
  {
   "cell_type": "markdown",
   "id": "6d60b700",
   "metadata": {},
   "source": [
    "### Ambient Noise\n",
    "\n",
    "- We have the usual Ambient Noise ($N$)\n",
    "- We also have a different type of noise, called **Reverberation** ($RL$)\n",
    "   - Depends on the reflections off the boundaries (sea surface, seabed) and off anything that is present in the water column (e.g., schools of fish, etc.)\n",
    "   - We call reverberation the scatting coming from anything that is present in the environment except for the target.\n",
    "   - It can arrive from all directions\n",
    "   - Reverberation would not be present if sonar did not transmit\n",
    "   \n",
    "#### Signal-To-Noise Ratio\n",
    "\n",
    "$$\n",
    "SNR = EL - (N+RL)\n",
    "$$\n",
    "\n",
    "And the Signal Eccess is\n",
    "\n",
    "$$\n",
    "SE = SNR - DT\n",
    "$$"
   ]
  },
  {
   "cell_type": "markdown",
   "id": "8bca342a",
   "metadata": {},
   "source": [
    "A further comment on the Signal-to-Noise Ratio:\n",
    "\n",
    "- $N+RL$ means that the reverberation level is multiplied by the noise level (in dB we sum them up). This is not true, because the two signal physically sum up\n",
    "- $N+RL$ is not a sum even when we are in dB. \n",
    "- One of the two terms will be dominant and we reduce the equation to only use that term"
   ]
  },
  {
   "cell_type": "markdown",
   "id": "ff1e5633",
   "metadata": {},
   "source": [
    "This means:\n",
    "\n",
    "- Received signal $s$: \n",
    "  $$\n",
    "  S = 10\\log|s|\n",
    "  $$\n",
    "  \n",
    "- Ambient noise $n$: \n",
    "  $$\n",
    "  N = 10\\log|n|\n",
    "  $$\n",
    "  \n",
    "- Reverberation level $rl$: \n",
    "  $$\n",
    "  RL = 10\\log|rl|\n",
    "  $$  \n",
    "  \n",
    "- Signal to noise ratio\n",
    "    $$\n",
    "    snr = \\frac{|s|}{|n+rl|} \\Rightarrow SNR = 10\\log\\frac{|s|}{|n+rl|} \\Rightarrow S-10\\log(|n+rl|)\n",
    "    $$\n",
    "    "
   ]
  },
  {
   "cell_type": "markdown",
   "id": "6eb80b40",
   "metadata": {},
   "source": [
    "Let's analyse $10\\log(|n+rl|)$.\n",
    "\n",
    "$$\n",
    "10\\log(|n+rl|) \\le 10\\log(|n|+|rl|)\n",
    "$$\n",
    "    \n",
    "Let's consider now the case where the reverberation level is less than the noise (the other case would be the same):\n",
    "\n",
    "$$\n",
    "|rl| \\le |n| \\Rightarrow |rl| = k|n|\\;\\; k \\in [0,1]\n",
    "$$\n",
    "\n",
    "This means that \n",
    "\n",
    "$$\n",
    "10\\log(|n|+|rl|) = 10\\log((k+1)|n|) = N + 10\\log(k+1) \\;\\; k \\in [0,1]\n",
    "$$\n",
    "\n",
    "- if $k=0$ (no reverberation): we have the usual noise only equation\n",
    "- if $k=1$ (reverberation is as loud as the noise) and our expression becomes:\n",
    "\n",
    "$$\n",
    "N + 10\\log(k+1) = N+10\\log2 = N + 3 dB\n",
    "$$\n",
    "\n",
    "This means that $$10\\log(|n|+|rl|) \\in [N, N+3]$$\n",
    "\n",
    "- Note that if $|rl| > |n|$ we can repeat the same reasoning with noise as a fraction of the reverberation level and we would obtain: \n",
    "\n",
    "$$10\\log(|n|+|rl|) \\in [RL, RL+3]$$\n",
    "\n",
    "With respect to the larger between $N$ and $RL$, the intensity in dB of their sum, can only be 3dB more than the maximum between $N$ and $RL$ (which is when they both have the same value). Otherwise is less than 3dB.\n",
    "\n",
    "Three dB is the usual approximation level that we use. \n",
    "\n",
    "_In practise, in most cases we can neglect one of the two terms. In the worst case scenario where the two levels are comparable we add 3dB._\n"
   ]
  },
  {
   "cell_type": "markdown",
   "id": "9a5d0cd3",
   "metadata": {},
   "source": [
    "We talk about:\n",
    "- Noise limited environments when the ambient noise is prevalent $|rl| \\le |n|$. The SNR only depends on the ambient noise\n",
    "\n",
    "- Reverberation limited environments when the reverberation level is prevalent $|n| \\le |rl|$. The SNR only depends on the reverberation Level"
   ]
  },
  {
   "cell_type": "markdown",
   "id": "ace6ac0a",
   "metadata": {},
   "source": [
    "For example, consider the case where the noise and the reverberation level have the same intensity level:\n",
    "- $10\\log(N)=60dB$\n",
    "- $10\\log(RL)=60dB$\n",
    "\n",
    "In natural scale we need to sum them and they are equal: \n",
    "\n",
    "$$\n",
    "N_{tot} = N+RL=2N \\rightarrow 10\\log2N = 10\\log N + 10\\log2 \\approx 60 + 3 = 10\\log(|n|+|rl|)\n",
    "$$\n",
    "\n",
    "If, for example, $N>RL$, $N+RL$ will be less than $2N$, which means that the difference will be less than 3dB\n",
    "\n",
    "In the sonar equation $N+RL$ = 63 dB (not 120)\n",
    "\n",
    "- Often our systems are able to measure differences of 3dB..\n",
    "\n",
    "- This is a confusing way of representing $N$ and $RL$ in the sonar equation but it is standard terminology.\n",
    "\n",
    "\n",
    "If we had:\n",
    "$N=60dB$ and $RL=40dB$\n",
    "\n",
    "A difference of $20dB$ corresponds to two orders of magnitude, so $RL$ is negligible and in the sonar equation $N+RL$=60dB \n"
   ]
  },
  {
   "cell_type": "markdown",
   "id": "ac95bbdc",
   "metadata": {},
   "source": [
    "We are implicity assuming **Reciprocity**\n",
    " - Waves are linear\n",
    " - Environment does not change in time (it can change in space)\n",
    " - Propagation loss in both directions are the same"
   ]
  },
  {
   "cell_type": "markdown",
   "id": "70eac243",
   "metadata": {},
   "source": [
    "## Active bistatic SONAR equation\n",
    "\n",
    "- Active: there is a source of sound that transmits a signal\n",
    "- Bistatic: receiver is in a geomtric location that is different from the transmitter\n",
    "- Received signal: scattering from the target with some angle (there will be a scattering angle from the target to the receiver) \n",
    "\n",
    "- The receiver would receive also scattering from other surfaces or volumes present in the environment\n",
    "\n",
    "<table>\n",
    "    <tr>\n",
    "        <td>\n",
    "            <img src=\"./images/9.sonar-equations/4.active-bistatic-sonar-1.png\" alt=\"active bistatic sonar\" style=\"width: 550px\"/>\n",
    "        </td>\n",
    "    </tr>\n",
    "</table> "
   ]
  },
  {
   "cell_type": "markdown",
   "id": "b3105006",
   "metadata": {},
   "source": [
    "$$\n",
    "EL = SL - TL_1 - TL_2 + TS\n",
    "$$\n",
    "\n",
    "$$\n",
    "SNR = S - (N+RL)\n",
    "$$\n",
    "\n",
    "$$\n",
    "SE = SNR - DT\n",
    "$$"
   ]
  },
  {
   "cell_type": "markdown",
   "id": "da405380",
   "metadata": {},
   "source": [
    "## Determining SONAR performance\n",
    "\n",
    "- How can these equations determine the range of the system?\n",
    "\n",
    "- Let's focus on a _passive_ sonar (which is easier)\n",
    "- DT is fixed (chosen by the operator) and is the only parameter of the SONAR\n",
    "- SL is unknown"
   ]
  },
  {
   "cell_type": "markdown",
   "id": "c4051b54",
   "metadata": {},
   "source": [
    "Let's consider a specific example:\n",
    "\n",
    "- Deep waters, sound speed is a Munk profile, etc. (this means that we are in a specific area)\n",
    "\n",
    "- We want to listen to sound emitted by a marine mammal\n",
    "   - $SL=180$dB (this might come from previous experiments).\n",
    "   - $DT=20$dB \n",
    "\n",
    "<table>\n",
    "    <tr>\n",
    "        <td>\n",
    "            <img src=\"./images/9.sonar-equations/5.animal-sound.png\" alt=\"animal sound\" style=\"width: 550px\"/>\n",
    "        </td>\n",
    "    </tr>\n",
    "</table> \n",
    "\n",
    "- Ambient noise: depends on the frequency (e.g., 2-5kHz). Assuming that the sea state is 2 (no experiment if sea state is too rough), so $N\\approx60dB$.\n",
    "\n",
    "\n",
    "<table><tr>\n",
    "    <td> <img src=\"./images/8.acoustic-systems/14.Composite-of-ambient-noise-spectra-from-Wenz-1962.png\" alt=\"14.Composite-of-ambient-noise-spectra-from-Wenz-1962.png\" style=\"width: 600px\"/></td>        \n",
    "</tr>\n",
    "<tr>\n",
    "    <td>\n",
    "</td>\n",
    "    </tr>\n",
    "</table> \n",
    "\n",
    "\n",
    "- What is the maximum distance of the whale from the receiver at which the receiver can record the whale? \n",
    "- Assuming that we can neglect interference in this environment.\n",
    "- This means that for the TL we can consider the intrinsic attenuation and the geometric attenuation. We are between 2-5kHz and if we look at the attenuation vs frequency:\n",
    "\n",
    "<table>\n",
    "    <tr>\n",
    "        <td>\n",
    "            <img src=\"./images/2.ocean-acoustics/28.attenuation.png\" alt=\"attenuation vs frequency\" style=\"width: 350px\"/>\n",
    "        </td>\n",
    "    </tr>\n",
    "</table> \n",
    "\n",
    "At $5kHz$, intrinsic attenuation is $\\alpha \\approx 1 db/km$.\n",
    "\n",
    "The geometric attenuation is $GA \\approx 20\\log R$ where $R$ is in metres.\n",
    "- If $R=1000m$, $GA=60dB$\n",
    "\n",
    "In this scenario, the main attenuation is geometric.\n",
    "This means:\n",
    "\n",
    "$$\n",
    "TL = 20\\log R\n",
    "$$\n",
    "\n",
    "I have everything I need to use the SONAR equations:\n",
    "\n",
    "- $EL = SL - TL = 180 - 20\\log R$\n",
    "- $SNR = SL - TL - N = 180 - 20\\log R - 60 = 120 - 20\\log R$\n",
    "- $SE =SNR - DT= 120 -20\\log R - 20 = 100 -20\\log R$\n",
    "\n",
    "To have detection, we need $SE \\ge0$ and the maximum range where $SE = 0$, which means:\n",
    "\n",
    "$$\n",
    "20\\log_{10} R = 100 \\Rightarrow R = 10^5 m = 100 km\n",
    "$$\n",
    "\n",
    "At this point we could fine tune it using the intrinsic attenuation. With a 100km propagation a $5 dB/km$ ($5e^{-3} dB/m$) loss becomes important.\n",
    "\n",
    "$$\n",
    "TL = 20\\log R + 5e^{-3}R\n",
    "$$\n",
    "\n",
    "The equation becomes:\n",
    "\n",
    "$$\n",
    "20\\log_{10} R + 5e^{-3}R = 100\n",
    "$$\n",
    "\n",
    "This is a transcendental equation. We can solve it trying a few values to get a maximum range of about 5km.\n",
    "\n",
    "I can detect marine mammals up to 5km. I can change the DT to extend the maximum range, but I would increase the number of false alarms as well."
   ]
  },
  {
   "cell_type": "code",
   "execution_count": null,
   "id": "bdec014d",
   "metadata": {},
   "outputs": [
    {
     "name": "stdout",
     "output_type": "stream",
     "text": [
      "SE:-1.020599913279625, max range: 5000\n"
     ]
    }
   ],
   "source": [
    "import numpy as np\n",
    "\n",
    "for R in range(1000, 10000, 1000):\n",
    "    SE = 20*np.log10(R) + 5e-3*R - 100\n",
    "    if abs(SE) < 5: \n",
    "        print(f'SE:{SE}, max range: {R}')\n",
    "        break"
   ]
  },
  {
   "cell_type": "code",
   "execution_count": null,
   "id": "b7907f6e",
   "metadata": {},
   "outputs": [],
   "source": []
  }
 ],
 "metadata": {
  "kernelspec": {
   "display_name": "Python 3 (ipykernel)",
   "language": "python",
   "name": "python3"
  }
 },
 "nbformat": 4,
 "nbformat_minor": 5
}
