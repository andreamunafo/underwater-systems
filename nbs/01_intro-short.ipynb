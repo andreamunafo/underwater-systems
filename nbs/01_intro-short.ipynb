{
 "cells": [
  {
   "cell_type": "markdown",
   "id": "a28362c3",
   "metadata": {},
   "source": [
    "<div style=\"page-break-before: always;\"></div>"
   ]
  },
  {
   "cell_type": "markdown",
   "id": "6a121b19",
   "metadata": {},
   "source": [
    "# Underwater Systems (Short)"
   ]
  },
  {
   "cell_type": "markdown",
   "id": "6e3b817a",
   "metadata": {},
   "source": [
    "## Lab overview"
   ]
  },
  {
   "cell_type": "markdown",
   "id": "8f0e2111",
   "metadata": {},
   "source": [
    "### Robots and Platforms\n",
    "\n",
    "<table>\n",
    "    <tr>\n",
    "    <td>\n",
    "    <figure>\n",
    "    <img src=\"./images/1.introduction/0.robot-zeno.jpg\" alt=\"Zeno AUV\" style=\"width: 400px;\"/> \n",
    "    <figcaption>AUV Zeno</figcaption>        \n",
    "    </figure>    \n",
    "    </td>       \n",
    "    <td>\n",
    "    <figure>\n",
    "    <img src=\"./images/1.introduction/0.robot-x300.jpg\" alt=\"X300/Folaga\" style=\"width: 400px;\"/> \n",
    "    <figcaption>AUV X300</figcaption>        \n",
    "    </figure>    \n",
    "    </td>    \n",
    "    <td>\n",
    "    <figure>\n",
    "    <img src=\"./images/1.introduction/0.robot-bluerov.jpg\" alt=\"BlueRov\" style=\"width: 300px;\"/> \n",
    "    <figcaption>BlueROV</figcaption>        \n",
    "    </figure>    \n",
    "    </td>    \n",
    "    </tr>\n",
    "</table>  \n",
    "\n"
   ]
  },
  {
   "cell_type": "markdown",
   "id": "0f889d4e",
   "metadata": {},
   "source": [
    "### Locations"
   ]
  },
  {
   "cell_type": "markdown",
   "id": "fc2ea725",
   "metadata": {},
   "source": [
    "<table>    \n",
    "    <tr>\n",
    "    <td style=\"width=100px\">\n",
    "    <figure>\n",
    "    <img src=\"./images/1.introduction/dii.png\" alt=\"DII\" style=\"width: 450px;\"/> \n",
    "    <figcaption>Human-Machine Teaming For the Maritime Environment</figcaption>        \n",
    "    </figure>  \n",
    "    </td>           \n",
    "    </tr>\n",
    "</table>  "
   ]
  },
  {
   "cell_type": "markdown",
   "id": "6bb87e50",
   "metadata": {},
   "source": [
    "## Some Recent and Current Projects"
   ]
  },
  {
   "cell_type": "markdown",
   "id": "b166be24",
   "metadata": {},
   "source": [
    "### Human-Machine Teaming For the Maritime Environment\n",
    "<table>    \n",
    "    <tr>\n",
    "    <td style=\"width=100px\">\n",
    "    <figure>\n",
    "    <img src=\"./images/1.introduction/0.project-hume.png\" alt=\"Hume\" style=\"width: 350px;\"/> \n",
    "    <figcaption>Human-Machine Teaming For the Maritime Environment</figcaption>        \n",
    "    </figure>  \n",
    "    </td>           \n",
    "    </tr>\n",
    "</table>  "
   ]
  },
  {
   "cell_type": "markdown",
   "id": "b33f63a0",
   "metadata": {},
   "source": [
    "### Multiple Autonomies\n",
    "<table>    \n",
    "    <tr>\n",
    "    <td style=\"width=100px\">\n",
    "    <figure>\n",
    "    <img src=\"./images/1.introduction/0.project-onrmit.jpg\" alt=\"Multi-Autonomy\" style=\"width: 350px;\"/> \n",
    "    <figcaption>MOOS-IvP autonomy system and human-machine teaming put into practice at the MIT facilities. (Courtesy of MIT)</figcaption>        \n",
    "    </figure>  \n",
    "    </td>           \n",
    "    </tr>\n",
    "</table>  "
   ]
  },
  {
   "cell_type": "markdown",
   "id": "07521b2d",
   "metadata": {},
   "source": [
    "### Underwater acoustic source localization using a multi-robot system\n",
    "\n",
    "<table>    \n",
    "    <tr>\n",
    "    <td style=\"width=100px\">\n",
    "    <figure>\n",
    "    <img src=\"./images/1.introduction/0.project-damps.png\" alt=\"DAMPS\" style=\"width: 350px;\"/> \n",
    "    <figcaption>Underwater acoustic source localization using a multi-robot system</figcaption>        \n",
    "    </figure>  \n",
    "    </td>           \n",
    "    </tr>\n",
    "</table>  "
   ]
  },
  {
   "cell_type": "markdown",
   "id": "e305a7ee",
   "metadata": {},
   "source": [
    "------"
   ]
  },
  {
   "cell_type": "markdown",
   "id": "49bf8c80",
   "metadata": {},
   "source": [
    "## What's in this introduction?\n",
    "\n",
    "- Motivations\n",
    "- Why using robots to explore, monitor, inspect, etc. the sea?\n",
    "- A short and rough description of underwater systems\n",
    "- The Topics of the course"
   ]
  },
  {
   "cell_type": "markdown",
   "id": "02359f3b",
   "metadata": {},
   "source": [
    "## Motivations"
   ]
  },
  {
   "cell_type": "markdown",
   "id": "d5a4d97f",
   "metadata": {},
   "source": [
    "### Science Questions\n",
    " \n",
    " \n",
    "<!--table>\n",
    "    <tr>\n",
    "    <td>\n",
    "    <figure>\n",
    "    <video controls src=\"./videos/Using-AI-to-Explore-Oceans.mp4\" width=\"600\" height=\"400\" frameborder=\"0\"></video> \n",
    "    <figcaption>MIT 2.680 course - using AI to explore the ocean.</figcaption>        \n",
    "    </figure>    \n",
    "    </td>    \n",
    "    </tr>\n",
    "</table-->  \n",
    "\n",
    "\n",
    "<!--table>\n",
    "    <tr>\n",
    "    <td>\n",
    "    <iframe width=\"600\" height=\"400\" src=\"./videos/Using AI to Explore Oceans.mp4\" frameborder=\"0\" allowfullscreen></iframe>   \n",
    "    </td>    \n",
    "    </tr>\n",
    "</table-->  "
   ]
  },
  {
   "cell_type": "markdown",
   "id": "09d31ed4-15d1-4e15-abf0-081d59309975",
   "metadata": {},
   "source": [
    "### Climate Change\n",
    "\n",
    "Climate change, as we've seen in recent news and scientific reports, is a global phenomenon with far-reaching impacts on both terrestrial and aquatic ecosystems.\n",
    "\n",
    "#### Global Temperature Rise\n",
    "Climate change is fundamentally driven by the increase in global average temperatures year after year. This rise in temperature is not a uniform process but varies across different regions and timescales.\n",
    "\n",
    "\n",
    "\n",
    "\n",
    "<table><tr>\n",
    "<td> <img src=\"./images/1.introduction/1.avg_temp_change_chart-nc.png.webp\" alt=\"_129755832_avg_temp_change_chart-nc\" style=\"width: 550px;\"/> </td> \n",
    "</table>"
   ]
  },
  {
   "cell_type": "markdown",
   "id": "87f74e0f-670a-4a0f-8e65-edc21d8faa4b",
   "metadata": {},
   "source": [
    "The plot illustrating this is the global average temperature relative to the pre-industrial average (1850-1900) shown above and taken from [BBC | Global warming set to break key 1.5C limit for first time](https://www.bbc.com/news/science-environment-65602293)\n",
    "\n",
    "In this plot:\n",
    "- Zero on the Vertical Axis: This represents a 50-year average temperature leading up to the 20th century.\n",
    "- Red and Blue Bars: These bars show annual average temperatures relative to the zero point. Red bars indicate years warmer than the average, and blue bars indicate cooler years.\n",
    "\n",
    "It's important to note that a global temperature rise of about 1.1 degrees Celsius over the last century might seem small, but it signifies a substantial energy imbalance in the Earth's system. This energy imbalance is a key contributor to various climatic changes.\n",
    "\n",
    "The energy required to raise the temperature of the Earth by one degree Celsius is immense. \n",
    "\n",
    "### Effects of Temperature Rise\n",
    "\n",
    "The consequences of this temperature rise are diverse, including:\n",
    "\n",
    "- Extreme Weather Events: Such as droughts and floods.\n",
    "- Melting Glaciers and Polar Ice Caps: Leading to rising sea levels.\n",
    "- Impact on Marine Life: Changes in ocean temperatures and chemistry affect marine ecosystems."
   ]
  },
  {
   "cell_type": "markdown",
   "id": "f4e7058d-e628-46ab-9ef5-7ddc0f589a53",
   "metadata": {},
   "source": [
    "#### The Role of Human Activities\n",
    "\n",
    "Human activities, particularly the burning of fossil fuels like coal, oil, and gas, have been central to the rise in global temperatures.\n",
    "\n",
    "<table><tr>\n",
    "<td> <img src=\"./images/1.introduction/1.Global-energy-substitution.png\" alt=\"1.Global-energy-substitution\" style=\"width: 550px;\"/> </td> \n",
    "</table>\n"
   ]
  },
  {
   "cell_type": "markdown",
   "id": "90ca5f75-582d-4f17-8773-cd08b132d0f7",
   "metadata": {},
   "source": [
    "Burning fossil fuels releases greenhouse gases (GHGs) like carbon dioxide (CO2), methane (CH4), and others into the atmosphere. These gases trap heat from the sun, leading to a warming effect known as the greenhouse effect."
   ]
  },
  {
   "cell_type": "markdown",
   "id": "cbe23608-99cd-45b5-ae3d-5966cd9f684d",
   "metadata": {},
   "source": [
    "<table><tr>\n",
    "<td> <img src=\"./images/1.introduction/1.Co2-levels-800k.jpg\" alt=\"1.Co2-levels-800k\" style=\"width: 450px;\"/> </td> \n",
    "<td> <img src=\"./images/1.introduction/1.cO2.png\" alt=\"CO2\" style=\"width: 550px;\"/> </td>     \n",
    "</table>\n",
    "\n",
    "- Measurements of air in ice cores show that for the past 800,000 years up until the 20th century, the atmospheric CO2 concentration stayed within the range 170 to 300 parts per million (ppm), making the recent rapid rise to more than 400 ppm over 200 years particularly remarkable.\n",
    "\n",
    "see also [here](https://rateofchange.substack.com/p/the-rate-of-change-july-15-2019) and [here](https://www.bas.ac.uk/data/our-data/publication/ice-cores-and-climate-change/).\n",
    "\n",
    "\n",
    "\n",
    "The levels of CO2 in the atmosphere have been remarkably stable over millennia but have shown an unprecedented rise in the last century. Understanding this requires examining historical data:\n",
    "\n",
    "- Ice Core Data: Scientists analyze ice cores to measure historical CO2 levels. These cores contain air bubbles that serve as time capsules, preserving atmospheric samples from the past.\n",
    "- Trends Observed: Historical data shows a dramatic increase in CO2 levels, especially in recent decades. This rise is directly linked to human activities, particularly the burning of fossil fuels.\n",
    "- Acceleration of CO2 Increase: The rate of increase in CO2 levels is not constant but accelerating. This acceleration implies a continually increasing rate of heat trapping in the atmosphere.\n",
    "\n",
    "See also [NASA | Ice Cores](https://climate.nasa.gov/news/2616/core-questions-an-introduction-to-ice-cores/)"
   ]
  },
  {
   "cell_type": "markdown",
   "id": "d24cc898-4a52-414a-b475-9eaa3952a692",
   "metadata": {},
   "source": [
    "#### Global Temperature Anomalies"
   ]
  },
  {
   "cell_type": "markdown",
   "id": "58a21a6f-b0fe-4270-85d0-1810bd51f6ee",
   "metadata": {},
   "source": [
    "Lobal warming is not uniform across the Earth. Variations exist due to factors like geographical location, land-sea distribution, and atmospheric circulation patterns."
   ]
  },
  {
   "cell_type": "code",
   "execution_count": null,
   "id": "37296d20-6a48-4155-8d91-a0f89de215e0",
   "metadata": {},
   "outputs": [],
   "source": [
    "from IPython.display import YouTubeVideo\n",
    "\n",
    "YouTubeVideo('LwRTw_7NNJs', width=800, height=600)"
   ]
  },
  {
   "cell_type": "markdown",
   "id": "c39ee3d9-5237-4960-b717-1ef6ad1be7c9",
   "metadata": {},
   "source": [
    "#### [Oceans Are Absorbing Almost All of the Globe’s Excess Heat](https://www.nytimes.com/interactive/2016/09/12/science/earth/ocean-warming-climate-change.html)\n",
    "\n",
    "<table><tr>\n",
    "<td> <img src=\"./images/1.introduction/1.ocean-warming.webp\" alt=\"Ocean Warming\" style=\"width: 650px;\"/> </td> \n",
    "</table>\n",
    "\n",
    "- More than 90 percent of the excess heat retained by the Earth as a result of increased greenhouse gases has been absorbed by the oceans.\n",
    "- Ocean temperatures have been consistently rising for at least three decades."
   ]
  },
  {
   "cell_type": "markdown",
   "id": "4ea9f742-a9ed-4680-b7c0-90ca850bc7ce",
   "metadata": {},
   "source": [
    "**Marine Robotics and Underwater Systems are central to this problem**"
   ]
  },
  {
   "cell_type": "markdown",
   "id": "11a0afb7",
   "metadata": {},
   "source": [
    "### Celebrating Marie Tharp\n",
    "\n",
    "- American geologist and oceanographic cartographer who helped prove the theories of continental drift. \n",
    "- She co-published the first world map of the ocean floors. \n",
    "- On Nov 21, 1998, the Library of Congress named Tharp one of the greatest cartographers of the 20th century.\n"
   ]
  },
  {
   "cell_type": "markdown",
   "id": "90766ee9",
   "metadata": {},
   "source": [
    "<table>    \n",
    "    <tr>\n",
    "    <td style=\"width=100px\">\n",
    "    <figure>\n",
    "    <img src=\"./images/1.introduction/marie-tharp.png\" alt=\"marie-tharp\" style=\"width: 450px;\"/> \n",
    "    </figure>  \n",
    "    </td>           \n",
    "    </tr>\n",
    "</table>  \n"
   ]
  },
  {
   "cell_type": "markdown",
   "id": "c680f0a7",
   "metadata": {},
   "source": [
    "<table><tr>\n",
    "<td> <img src=\"./images/1.introduction/11.the-world-ocedan-floor-tharp.jpeg\" alt=\"World ocean floor\" style=\"width: 700px;\"/>\n",
    "</tr></table>  \n",
    "\n",
    "\n",
    "[Manuscript painting of Heezen-Tharp \"World ocean floor\" map by Berann (~1955)](https://www.loc.gov/item/2010586277/)"
   ]
  },
  {
   "cell_type": "markdown",
   "id": "d6d245d1",
   "metadata": {},
   "source": [
    "## Finding the Endurance\n",
    "\n",
    "The wreck of Sir Ernest Shackleton’s ship 'Endurance' has been found off the coast of Antarctica more than a century after it sank.\n",
    "\n",
    "_Historian Dan Snow, who is a member of the Endurance22 expedition team, said the discovery was 'like a miracle' and the ship is 'almost perfectly preserved'_"
   ]
  },
  {
   "cell_type": "markdown",
   "id": "863bdb5a",
   "metadata": {},
   "source": [
    "<table><tr>\n",
    "<td> <img src=\"./images/1.introduction/9.shackelton-expedition.webp\" alt=\"endurace\" style=\"width: 350px;\"/>\n",
    "<td> <img src=\"./images/1.introduction/8.endurance-vessel.webp\" alt=\"black-box\" style=\"width: 350px;\"/> </td>\n",
    "</tr></table>  \n",
    "\n",
    "<table><tr>\n",
    "<td> <img src=\"./images/1.introduction/7.endurance.webp\" alt=\"black-box\" style=\"width: 350px;\"/> </td> \n",
    "<td> <img src=\"./images/1.introduction/10.auv-endurance.webp\" alt=\"black-box\" style=\"width: 350px;\"/> </td> \n",
    "</table>"
   ]
  },
  {
   "cell_type": "markdown",
   "id": "f5b3b01f",
   "metadata": {},
   "source": [
    "see [this](https://www.bbc.com/news/science-environment-60662541) for more!"
   ]
  },
  {
   "cell_type": "markdown",
   "id": "4291ede5",
   "metadata": {},
   "source": [
    "## Blackbox recovery\n"
   ]
  },
  {
   "cell_type": "markdown",
   "id": "4a5de424",
   "metadata": {},
   "source": [
    "Air France 447 crash from Rio to Paris, June 1st, 2009\n",
    "\n",
    "\n",
    "<table>\n",
    "    <tr>\n",
    "    <td> \n",
    "    <img src=\"./images/1.introduction/3.bbc-flight.png\" alt=\"flight-bbc\" style=\"width: 650px;\"/>\n",
    "    </td>\n",
    "</table>  \n",
    "\n",
    "<table>\n",
    "    <tr>\n",
    "<td> <img src=\"./images/1.introduction/1.black-box.jpeg\" alt=\"black-box\" style=\"width: 250px;\"/> </td>\n",
    "<td> <img src=\"./images/1.introduction/2.image-website-of-Frances--007.webp\" alt=\"black-box\" style=\"width: 250px;\"/> \n",
    "    </td> \n",
    "    </tr>\n",
    "</table>"
   ]
  },
  {
   "cell_type": "markdown",
   "id": "e6a3bbd5",
   "metadata": {},
   "source": [
    "**Countries involved**\n",
    "- Origin\n",
    "- Destination\n",
    "- Airspace at accident location\n",
    "- Airline company\n",
    "- Engines manufactures\n",
    "- Insurance companies\n",
    "- Passengers citizenship"
   ]
  },
  {
   "cell_type": "markdown",
   "id": "fdfa8224",
   "metadata": {},
   "source": [
    "**Recovery**\n",
    "\n",
    "- 13 aircrafts and 2 helicopters (Brasil, France, USA, Spain)\n",
    "- 8 Ships (Brasil, France, USA)\n",
    "- 2 6000m Manned Submarine (the Nautile)\n",
    "- 1 Nuclear Submarine (France)\n",
    "- 3 Autonomous Underwater Vehicles (AUVs)\n",
    "- 1 Remotely Operated Vehicle (ROV)\n",
    "- 1 million $km^2$ of ocean explored\n",
    "   - According to Wikipedia, the continental United States of America (the 48 states between Canada and Mexico) is 8,080,464.4 square kilometers. \n",
    "- cost $\\approx 30$ MEuros (in 2009)\n",
    "- **completed 2Y after the crash**"
   ]
  },
  {
   "cell_type": "markdown",
   "id": "fb1cff53",
   "metadata": {},
   "source": [
    "<table>\n",
    "    <tr>\n",
    "    <td> <img src=\"./images/1.introduction/4.nautile.jpeg\" alt=\"flight-bbc\" style=\"height: 150px;\"/>\n",
    "    <td> <img src=\"./images/1.introduction/5.abyss.jpeg\" alt=\"black-box\" style=\"height: 150px;\"/> </td>\n",
    "    <td> <img src=\"./images/1.introduction/6.remora.png\" alt=\"black-box\" style=\"height: 150px;\"/> </td> \n",
    "    </tr>\n",
    "</table>  \n",
    "\n"
   ]
  },
  {
   "cell_type": "markdown",
   "id": "367bec94",
   "metadata": {},
   "source": [
    "## Installation of Procution Well Jumper"
   ]
  },
  {
   "cell_type": "markdown",
   "id": "a7f49b4e",
   "metadata": {},
   "source": [
    "## Operating ROVs\n",
    "\n",
    "- Remotely operated vehicles, or ROVs, allow us to explore the ocean without actually being in the ocean.\n",
    "\n",
    "- These underwater machines are controlled by a person typically on a surface vessel, using a joystick in a similar way that you would play a video game. A group of cables, or tether, connects the ROV to the ship, sending electrical signals back and forth between the operator and the vehicle.\n",
    "\n",
    "- Most ROVs are equipped with at least a still camera, video camera, and lights, meaning that they can transit images and video back to the ship. Additional equipment, such as a manipulator or cutting arm, water samplers, and instruments that measure parameters like water clarity and temperature, may also be added to vehicles to allow for sample collection.\n",
    "\n",
    "- First developed for industrial purposes, such as internal and external inspections of underwater pipelines and the structural testing of offshore platforms, ROVs are now used for many applications, many of them scientific. \n",
    "- They have proven extremely valuable in ocean exploration and are also used for educational programs at aquaria and to link to scientific expeditions live via the Internet.\n",
    "\n",
    "- ROVs range in size from that of a small computer to as large as a small truck. Larger ROVs are very heavy and need other equipment such as a winch to put them over the side of a ship and into the water.\n",
    "\n",
    "- While using ROVs eliminates the “human presence” in the water, in most cases, ROV operations are simpler and safer to conduct than any type of occupied-submersible or diving operation because operators can stay safe (and dry!) on ship decks. \n",
    "- ROVs allow us to investigate areas that are too deep for humans to safely dive themselves, and ROVs can stay underwater much longer than a human diver, expanding the time available for exploration."
   ]
  },
  {
   "cell_type": "markdown",
   "id": "dbccde8d",
   "metadata": {},
   "source": [
    "<table><tr>\n",
    "<td style=\"width:650px\">\n",
    "    <figure>\n",
    "    <img src=\"./images/1.introduction/12.rov-whoi-control-room.jpeg\" alt=\"WHOI Engineer Jared Schwartz pilots the remotely operated vehicle, Saab Seaeye Falcon to investigate an unrecovered mooring anchor. (Photo by Daniel Hentz, Woods Hole Oceanographic Institution)\" style=\"width: 650px;\"/>\n",
    "    <figcaption>WHOI Engineer Jared Schwartz pilots the remotely operated vehicle, Saab Seaeye Falcon to investigate an unrecovered mooring anchor. (Photo by Daniel Hentz, Woods Hole Oceanographic Institution). Ref.  https://www.whoi.edu/news-insights/content/flight-of-the-underwater-falcon/</figcaption>\n",
    "    </figure>\n",
    "</tr></table>  \n",
    "\n",
    "<table><tr>\n",
    "<td> <img src=\"./images/1.introduction/13.rov-control-full-view.png\" alt=\"13.rov-control-full-view\" style=\"width: 350px;\"/> </td>\n",
    "<td> <img src=\"./images/1.introduction/14.rov-control.png\" alt=\"black-box\" style=\"width: 350px;\"/> </td> \n",
    "</table>"
   ]
  },
  {
   "cell_type": "markdown",
   "id": "fac5b6b0",
   "metadata": {},
   "source": [
    "Old approach:\n",
    "\n",
    "- Off-shore operator acts on the vehicle\n",
    "- Off-shore operator controls the arm motors directly (typically limited number of joints)\n",
    "- Interactions between arm and vehicle's body\n",
    "- Voice coordination between the two\n",
    "- Manned Visual Feedback"
   ]
  },
  {
   "cell_type": "markdown",
   "id": "3e63fb2c",
   "metadata": {},
   "source": [
    "#### ROV More recently"
   ]
  },
  {
   "cell_type": "markdown",
   "id": "e7439524",
   "metadata": {},
   "source": [
    "- Structured environments\n",
    "    - Operators know how the environment looks like\n",
    "    - ROV have automatic controls for:\n",
    "       - station keeping (attitude and position) using up to 8 motors (depends on how many DoF they can control)\n",
    "    - Force feedback to control the arm\n",
    "    - Operator acts on a representation of the manipulator (task space)\n",
    "       "
   ]
  },
  {
   "cell_type": "markdown",
   "id": "cd3010a5",
   "metadata": {},
   "source": [
    "### Working with ROVs\n",
    "\n",
    "- 13 people / 24h\n",
    "    - 8 Pilot/Technicians (4h shift)\n",
    "    - 4 Supervisors (4h shift)\n",
    "    - 1 Superintendent (on call)\n",
    "\n",
    "- How long onboard?\n",
    "    - 4 to 6 weeks\n",
    "    - ROV crews work 6h 7/7"
   ]
  },
  {
   "cell_type": "markdown",
   "id": "1440559a",
   "metadata": {},
   "source": [
    "<table><tr>\n",
    "<td style=\"width:650px\">\n",
    "    <figure>\n",
    "    <img src=\"./images/1.introduction/15.ROV-Jason-dark-2048x1152.jpeg\" alt=\"ROV Jason helps recover two other underwater vehicles. (Photo by Woods Hole Oceanographic Institution)\" style=\"width: 650px;\"/>\n",
    "    <figcaption>Photo by Woods Hole Oceanographic Institution. \n",
    "        Ref. https://www.whoi.edu/press-room/news-release/whois-rov-jason-assists-with-the-successful-recovery-of-two-other-underwater-vehicles/</figcaption>\n",
    "    </figure>\n",
    "</tr></table>  \n",
    "\n",
    "_Ocean Exploration Trust’s ROV Hercules and Argus were stranded on the seafloor last week, but were recovered thanks to cooperation from several ocean science and exploration institutions\n",
    "Woods Hole, MA — On Thursday, September 2, 2021 the remotely operated vehicle (ROV) Jason succeeded in helping recover two other underwater vehicles, ROV Hercules and Argus, that were stranded on the seafloor off the coast of British Columbia last week when their tether to the surface broke. The operation came about as a result of close collaboration and mutual aid that are a hallmark of the ocean science and exploration community and the maritime community as a whole._\n"
   ]
  },
  {
   "cell_type": "markdown",
   "id": "c1c88e9d",
   "metadata": {},
   "source": [
    "## Renewable energy\n",
    "\n",
    "- Marine energy: Tidal stream and wave power"
   ]
  },
  {
   "cell_type": "markdown",
   "id": "42242e61",
   "metadata": {},
   "source": [
    "- Power/communication cables\n",
    "\n",
    "- Fisheries and aquaculture\n",
    "\n",
    "<table><tr>\n",
    "<td style=\"width:400px\">\n",
    "    <figure>\n",
    "    <img src=\"./images/1.introduction/16.fisheries.png\" alt=\"Fisheries\" style=\"width: 400px;\"/>\n",
    "    <figcaption>NTNU AMOS - Centre for Autonomous Marine Operations and Systems</figcaption>\n",
    "    </figure>\n",
    "</tr></table> \n",
    "\n",
    "- Food\n",
    "- Health\n",
    "- Security\n",
    "- Safe"
   ]
  },
  {
   "cell_type": "markdown",
   "id": "bff81172",
   "metadata": {},
   "source": [
    "## Marine Autonomy Trends\n",
    "\n",
    "(Adapted from [here](https://oceanai.mit.edu/2.680/pmwiki/pmwiki.php?n=Site.Lectures)) "
   ]
  },
  {
   "cell_type": "markdown",
   "id": "9c438421",
   "metadata": {},
   "source": [
    "<table>\n",
    "<img src=\"./images/1.introduction/17.autonomy-trends-11.png\" alt=\"Autonomy Trends\" style=\"width: 550px;\"/>\n",
    "</table> "
   ]
  },
  {
   "cell_type": "markdown",
   "id": "3d6f0061",
   "metadata": {},
   "source": [
    "<table>\n",
    "<img src=\"./images/1.introduction/17.autonomy-trends-21.png\" alt=\"Autonomy Trends\" style=\"width: 550px;\"/>\n",
    "</table> "
   ]
  },
  {
   "cell_type": "markdown",
   "id": "237e2c14",
   "metadata": {},
   "source": [
    "### Early commercial marine vehicles"
   ]
  },
  {
   "cell_type": "markdown",
   "id": "3a8d7183",
   "metadata": {},
   "source": [
    "At the turn of the century, there weren't many commercial marine vehicles for sale\n",
    "\n",
    "<figure>\n",
    "    <img src=\"./images/1.introduction/18.remus-and-bluefin.png\" alt=\"remus and bluefin\" style=\"width: 550px;\"/>\n",
    "</figure>\n",
    "\n",
    "<figure>\n",
    "    <img src=\"./images/1.introduction/19.hugin.png\" alt=\"hugin\" style=\"width: 550px;\"/>\n",
    "</figure>"
   ]
  },
  {
   "cell_type": "markdown",
   "id": "e32aa64b",
   "metadata": {},
   "source": [
    "## Early Autonomy\n",
    "\n",
    "<figure>\n",
    "    <img src=\"./images/1.introduction/20.payload-autonomy.png\" alt=\"hugin\" style=\"width: 550px;\"/>\n",
    "</figure>\n"
   ]
  },
  {
   "cell_type": "markdown",
   "id": "bbd4abf0",
   "metadata": {},
   "source": [
    "- Researcher/Scientists were not content to be limited to the vehicle manufacturer’s autonomy system.\n",
    "- How can they run the autonomy system from the payload computer, i.e., Payload Autonomy\n",
    "\n",
    "- **Do you see limitations or concerns with this?**"
   ]
  },
  {
   "cell_type": "markdown",
   "id": "9e94fa49",
   "metadata": {},
   "source": [
    "_Autonomy can be complex, sometime is data driven, might be not deterministic and might increase the risk of losing a vehicle. Losing an AUV might set a research group back many years._\n"
   ]
  },
  {
   "cell_type": "markdown",
   "id": "adc5a8f8",
   "metadata": {},
   "source": [
    "## Marine Autonomy Trends\n",
    "- Scripted to Adaptive to Human-Machine Systems\n",
    "\n",
    "<table>\n",
    "    <tr>\n",
    "    <td> <img src=\"./images/1.introduction/21.waypoints.png\" alt=\"waypoints\" style=\"height: 250px;\"/>\n",
    "    <td> <img src=\"./images/1.introduction/22.adaptive-autonomy.png\" alt=\"adaptive/collaborative\" style=\"height: 250px;\"/> </td>\n",
    "    </tr>\n",
    "</table>  \n",
    "\n",
    "- Scripted: trajectory largely determined before the\n",
    "vehicle is launched.\n",
    "- Sensing: Robot needs to know where it is.\n",
    "\n",
    "\n",
    "- Adaptive, collaborative: trajectory depends in part on what collaborative vehicles are doing \n",
    "- Sensing: Robot needs to know about others"
   ]
  },
  {
   "cell_type": "markdown",
   "id": "9a4e8b0c",
   "metadata": {},
   "source": [
    "### Scripted Missions\n",
    "- 20 years ago, marine autonomy was not a familiar term\n",
    "- Robots went from waypoint to waypoint and were retrieved. \n",
    "- Scientist then offloaded the data for analysis.\n",
    "- The control system, navigation system and all software, were part of what the vehicle manufacturer sold with the platform.\n",
    "\n",
    "<table>\n",
    "    <tr>\n",
    "    <td> <img src=\"./images/1.introduction/21.waypoints.png\" alt=\"waypoints\" style=\"height: 250px;\"/>    \n",
    "    </tr>\n",
    "</table>  \n",
    "\n",
    "- **Can you think of limitations? and of advantages?**"
   ]
  },
  {
   "cell_type": "markdown",
   "id": "0acce1c0",
   "metadata": {},
   "source": [
    "### Adaptive autonomy\n",
    "- 10 years later (10 years ago): the rise of adaptive autonomy.\n",
    "- Sensor data was no longer just retrieved, post-mission.\n",
    "- Robots processed sensor data during the mission and adapted their mission trajectories.\n",
    "- Unscripted, dynamic missions: the autonomy design space becomes huge.\n",
    "- Vehicle manafurers focused their supported missions based on core users.\n",
    "- Opened payload interface to allow third party autonomy (industry, academic labs, defense labs)"
   ]
  },
  {
   "cell_type": "markdown",
   "id": "070059c2",
   "metadata": {},
   "source": [
    "<table>\n",
    "    <tr>\n",
    "    <td> <img src=\"./images/1.introduction/23.adaptive-complexity.png\" alt=\"waypoints\" style=\"height: 350px;\"/>\n",
    "        <td></td>\n",
    "        <td></td>\n",
    "    <td> <img src=\"./images/1.introduction/22.adaptive-autonomy-reacquire.png\" alt=\"23.human-machine\" style=\"height: 350px;\"/> </td>\n",
    "    </tr>\n",
    "</table>  \n",
    "\n"
   ]
  },
  {
   "cell_type": "markdown",
   "id": "d4e46463",
   "metadata": {},
   "source": [
    "## Marine Autonomy Trends\n",
    "\n",
    "- MOOS-IvP: Increased level of adoption (original and highly recommended slide pack available [here](https://oceanai.mit.edu/2.680/pmwiki/pmwiki.php?n=Site.Lectures)\n",
    "\n",
    "<table>\n",
    "    <tr>\n",
    "    <td> <img src=\"./images/1.introduction/25.MOOS-vehicles.png\" alt=\"MOOS-IvP\" style=\"height: 350px;\"/>\n",
    "</td>\n",
    "    </tr>\n",
    "</table>  \n"
   ]
  },
  {
   "cell_type": "markdown",
   "id": "75d26574",
   "metadata": {},
   "source": [
    "### A tangible example\n",
    "\n",
    "And a blog post on the [World's first autonomous ferry](https://blog.geogarage.com/2018/12/rolls-royce-demonstrates-fully.html)"
   ]
  },
  {
   "cell_type": "markdown",
   "id": "9224be25",
   "metadata": {},
   "source": [
    "<table>\n",
    "<img src=\"./images/1.introduction/17.autonomy-trends-31.png\" alt=\"Autonomy Trends\" style=\"width: 550px;\"/>\n",
    "</table> "
   ]
  },
  {
   "cell_type": "markdown",
   "id": "d2a0a742",
   "metadata": {},
   "source": [
    "### Autonomy Trends\n",
    "\n",
    "- After more than a decade of software innovation in the payload, there are now many good options for specialized autonomy, sensing, navigation and communications\n",
    "- Many of these software solutions come from different developers/vendors.\n",
    "\n",
    "<table>\n",
    "<img src=\"./images/1.introduction/17.autonomy-trends-32.png\" alt=\"Autonomy Trends\" style=\"width: 750px;\"/>\n",
    "</table> \n",
    "\n",
    "- Great benefits for end-users when best-of-practice solutions can be combined\n",
    "- Key challenge: how to design system protocols/messages to develop systems of autonomy systems\n"
   ]
  },
  {
   "cell_type": "markdown",
   "id": "396a3540",
   "metadata": {},
   "source": [
    "<table>\n",
    "    <tr>\n",
    "    <td> <img src=\"./images/1.introduction/24.human-machine.png\" alt=\"23.human-machine\" style=\"height: 350px;\"/> </td>\n",
    "    </tr>\n",
    "</table>  "
   ]
  },
  {
   "cell_type": "markdown",
   "id": "18d17d74",
   "metadata": {},
   "source": [
    "## Autonomous Vehicles\n",
    "\n",
    "- ROV\n",
    "- AUV\n",
    "- Gliders\n",
    "- Surface vehicles"
   ]
  },
  {
   "cell_type": "markdown",
   "id": "25724069",
   "metadata": {},
   "source": [
    "## Next Challenges\n",
    "\n",
    "<table>\n",
    "    <tr>\n",
    "    <td> <img src=\"./images/1.introduction/27.roles-for-robots.png\" alt=\"Roles and next challenges\" style=\"height: 450px;\"/> </td>\n",
    "    </tr>\n",
    "</table>  \n",
    "\n"
   ]
  },
  {
   "cell_type": "markdown",
   "id": "869f9368",
   "metadata": {},
   "source": [
    "See <a href='00_Syllabus.ipynb' target='_blank' style='font-size: 16px;'>00_Syllabus.ipynb</a></li> for course structure."
   ]
  },
  {
   "cell_type": "code",
   "execution_count": null,
   "id": "e66d7950",
   "metadata": {},
   "outputs": [],
   "source": []
  }
 ],
 "metadata": {
  "kernelspec": {
   "display_name": "Python 3 (ipykernel)",
   "language": "python",
   "name": "python3"
  }
 },
 "nbformat": 4,
 "nbformat_minor": 5
}
