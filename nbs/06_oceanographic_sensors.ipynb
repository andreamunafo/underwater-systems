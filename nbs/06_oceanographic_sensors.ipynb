{
 "cells": [
  {
   "cell_type": "markdown",
   "id": "1e8f02ca",
   "metadata": {},
   "source": [
    "<div style=\"page-break-before: always;\"></div>"
   ]
  },
  {
   "cell_type": "code",
   "execution_count": null,
   "id": "1aaece93",
   "metadata": {},
   "outputs": [],
   "source": [
    "#| default_exp oceanographic_sensors"
   ]
  },
  {
   "cell_type": "markdown",
   "id": "cb9855f6",
   "metadata": {},
   "source": [
    "# Oceanographic Sensors"
   ]
  },
  {
   "cell_type": "markdown",
   "id": "059a4f57",
   "metadata": {},
   "source": [
    "## Conductivity, Temperature and Depth\n",
    "\n",
    "- Salinity and Temperature as a function of Depth are commonly measured by sensor probes called **CTD** (Conductivity-Temperature-Depth)\n",
    "- A CTD device’s primary function is to detect how the conductivity and temperature of the water column changes relative to depth.\n",
    "\n",
    "- Remember that Conductivity is a proxy for Salinity, which is then calculated using non-linear regression equations\n",
    "- Temperature: Thermometers\n",
    "- Depth: pressure sensors (strain gauge that measure deformations, or quartz-based sensors that measure vibration frequency)\n",
    "\n",
    "They have a settling time, typically between 0.2-0.6 s.\n",
    "This must be taken into account when installed as a payload on a robot.\n",
    "\n",
    "\n",
    "\n",
    "\n",
    "- Often, CTDs are attached to a much larger metal frame called a rosette, which may hold water-sampling bottles that are used to collect water at different depths, as well as other sensors that can measure additional physical or chemical properties.\n",
    "\n",
    "\n",
    "\n",
    "\n",
    "<table>\n",
    "    <tr>\n",
    "    <td>\n",
    "    <figure>\n",
    "    <video controls src=\"./videos/ctd_1280x720.mp4\" width=\"600\" height=\"400\" frameborder=\"0\"></video> \n",
    "    <figcaption></figcaption>        \n",
    "    </figure>    \n",
    "    </td>    \n",
    "    </tr>\n",
    "</table>  \n",
    "The CTD (standing for \"Conductivity, Temperature, and Depth\") is a vital instrument when conducting scientific research on ships. Learn more about the CTD and how it functions in this video from The Hidden Ocean 2016: Chukchi Borderlands expedition. Video courtesy of Caitlin Bailey, GFOE, The Hidden Ocean 2016: Chukchi Borderlands, Oceaneering-DSSI. Available at https://oceanexplorer.noaa.gov/facts/ctd.html.\n",
    "\n",
    "\n",
    "Knowledge obtained from CTD devices can provide a more detailed understanding of the ocean water’s characteristic through the entire water column, which is crucial for understanding the physics involved. The physics in turn allow biologists to understand why the biology is present or not present at different depths and why the chemical makeup of the water changes over depth. The CTD is the key to understanding the physics, chemistry, and biology of the water column."
   ]
  },
  {
   "cell_type": "markdown",
   "id": "a5296e56",
   "metadata": {},
   "source": [
    "<table><tr>\n",
    "<td> <img src=\"./images/6.oceanographic-sensors/1.dst-ctd.jpg\" alt=\"dst-ctd\" style=\"height: 300px;\"/></td>\n",
    "<td> <img src=\"./images/6.oceanographic-sensors/2.Remus_AUV.png\" alt=\"2.remus-ctd\" style=\"height: 300px;\"/></td>    \n",
    "</tr></table>    \n",
    "Left: [Star-Oddi mini CTD](https://www.star-oddi.com/products/submersible-water-sensors/salinity-logger-probe-CTD#gallery-2)\n",
    "Right: [Deployment of a Remus AUV, University of Hawaii at Manoa ](http://www.soest.hawaii.edu/UMC/cms/remus-auv/)\n",
    "\n",
    "\n",
    "- Smaller CTDs have limited computations and memory. Need to be carefully programmed depending on the mission length.\n",
    "- Installing it on a robot can overcome some of these limitations.\n"
   ]
  },
  {
   "cell_type": "markdown",
   "id": "03549c3d",
   "metadata": {},
   "source": [
    "## Multi-parameters probes\n",
    "\n",
    "- CTD plus water quality measurements\n",
    "- pH\n",
    "- Dissolverd Oxigen\n",
    "- Clorophyll\n",
    "- Turbidity\n",
    "- Nitrate/Nitrogen\n",
    "- Ammonium\n",
    "- Chloride\n",
    "- ...\n"
   ]
  },
  {
   "cell_type": "markdown",
   "id": "bda1d7b7",
   "metadata": {},
   "source": [
    "**Some examples**\n",
    "\n",
    "<table><tr>\n",
    "<td> <img src=\"./images/6.oceanographic-sensors/4.multi-parameters-probes.png\" alt=\"4.multi-parameters-probes\" style=\"height: 500px;\"/></td>    \n",
    "</tr></table> "
   ]
  },
  {
   "cell_type": "markdown",
   "id": "571190d3",
   "metadata": {},
   "source": [
    "**Multi-parameter probe on a robot**\n",
    "\n",
    "<table><tr>\n",
    "<td> <img src=\"./images/6.oceanographic-sensors/3.folaga-probes.png\" alt=\"3.folaga-probes\" style=\"height: 300px;\"/></td>\n",
    "</tr></table> "
   ]
  },
  {
   "cell_type": "markdown",
   "id": "4a0076b4",
   "metadata": {},
   "source": [
    "There are much more sensors!\n",
    "\n",
    "See for example this great page from [WHOI](https://www.whoi.edu/what-we-do/explore/instruments/instruments-sensors-samplers/)"
   ]
  },
  {
   "cell_type": "markdown",
   "id": "14960a0d",
   "metadata": {},
   "source": [
    "## Argo Floats\n",
    "\n",
    "- [ARGO material](https://argo.ucsd.edu/outreach/education-materials/)"
   ]
  },
  {
   "cell_type": "code",
   "execution_count": null,
   "id": "75f35e61",
   "metadata": {},
   "outputs": [],
   "source": []
  }
 ],
 "metadata": {
  "kernelspec": {
   "display_name": "Python 3 (ipykernel)",
   "language": "python",
   "name": "python3"
  }
 },
 "nbformat": 4,
 "nbformat_minor": 5
}
