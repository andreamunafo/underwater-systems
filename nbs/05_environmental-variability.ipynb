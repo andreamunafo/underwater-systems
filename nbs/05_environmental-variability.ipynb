{
 "cells": [
  {
   "cell_type": "code",
   "execution_count": null,
   "id": "0136d4cb",
   "metadata": {},
   "outputs": [],
   "source": [
    "#| default_exp environmental_variability"
   ]
  },
  {
   "cell_type": "markdown",
   "id": "58679c81",
   "metadata": {},
   "source": [
    "# Environmental Variability"
   ]
  },
  {
   "cell_type": "markdown",
   "id": "dd21d7d6",
   "metadata": {},
   "source": [
    "## Temperature changes\n",
    "\n",
    "<table><tr>\n",
    "<td> <img src=\"./images/5.environmental-variability/1.temperature-pianosa.png\" alt=\"temperature-pianosa\" style=\"height: 500px;\"/></td>\n",
    "</tr></table>    \n",
    "\n",
    "- Note the variation in temperature across the hours of the day, and across days.\n",
    "- Gradient of temperature between 30m and 50m.\n",
    "- Sept. 21: three measurements\n",
    "   - note how warming of surface temperature increases temperature of water with the thermocline that moves deeper and becomes steeper\n",
    "   - note the presence of a surface duct in the first measurement at 06:53h. Warmer water is at 2m depth: in the morning the water is warmer at 2m depth. \n",
    "- Sept. 22: similar behaviour to that of Sept 21 but at 10:25h thermocline is higher.\n",
    "- Note that different environments means different acoustic performance!\n",
    "\n",
    "- From Sept 22 to Sept 28 bad weather and water mixing (not completely) which meant cooler water in the first part of the water column and less steep gradients."
   ]
  },
  {
   "cell_type": "markdown",
   "id": "b4a2048a",
   "metadata": {},
   "source": [
    "## Time-varying thermocline\n",
    "\n",
    "Tranmission Loss - Source depth constant, SSP change\n",
    "\n",
    "<table><tr>\n",
    "<td> <img src=\"./videos/ACommsNet-TL-changes-1.gif\" alt=\"ACommsNet-TL-changes\" style=\"width: 850px;\"/>\n",
    "</tr></table>  \n",
    "Figure from John Potter, ACommsNet13.\n"
   ]
  },
  {
   "cell_type": "markdown",
   "id": "b33faf9c",
   "metadata": {},
   "source": [
    "## Source depth variation\n",
    "\n",
    "Tranmission Loss - source depth change, SSP constant.\n",
    "\n",
    "<table><tr>\n",
    "<td> <img src=\"./videos/ACommsNet-TL-changes-2.gif\" alt=\"ACommsNet-TL-changes\" style=\"width: 850px;\"/>\n",
    "</tr></table>  \n",
    "Figure from John Potter, ACommsNet13."
   ]
  },
  {
   "cell_type": "markdown",
   "id": "eecdd4c4",
   "metadata": {},
   "source": [
    "- Geometry and environmental variations are key to characterise acoustic propagation, even in the same geographical location!"
   ]
  },
  {
   "cell_type": "markdown",
   "id": "759506e6",
   "metadata": {},
   "source": [
    "- "
   ]
  }
 ],
 "metadata": {
  "kernelspec": {
   "display_name": "Python 3 (ipykernel)",
   "language": "python",
   "name": "python3"
  }
 },
 "nbformat": 4,
 "nbformat_minor": 5
}
