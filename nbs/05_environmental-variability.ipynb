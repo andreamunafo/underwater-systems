{
 "cells": [
  {
   "cell_type": "raw",
   "id": "e12e22be",
   "metadata": {},
   "source": [
    "<div style=\"page-break-before: always;\"></div>"
   ]
  },
  {
   "cell_type": "code",
   "execution_count": null,
   "id": "0136d4cb",
   "metadata": {},
   "outputs": [],
   "source": [
    "#| default_exp environmental_variability"
   ]
  },
  {
   "cell_type": "markdown",
   "id": "58679c81",
   "metadata": {},
   "source": [
    "# Environmental Variability"
   ]
  },
  {
   "cell_type": "markdown",
   "id": "dd21d7d6",
   "metadata": {},
   "source": [
    "## Temperature changes\n",
    "\n",
    "<table><tr>\n",
    "<td> <img src=\"./images/5.environmental-variability/1.temperature-pianosa.png\" alt=\"temperature-pianosa\" style=\"height: 500px;\"/></td>\n",
    "</tr></table>    \n",
    "\n",
    "- Note the variation in temperature across the hours of the day, and across days.\n",
    "- Gradient of temperature between 30m and 50m.\n",
    "- Sept. 21: three measurements\n",
    "   - note how warming of surface temperature increases temperature of water with the thermocline that moves deeper and becomes steeper\n",
    "   - note the presence of a surface duct in the first measurement at 06:53h. Warmer water is at 2m depth: in the morning the water is warmer at 2m depth. \n",
    "- Sept. 22: similar behaviour to that of Sept 21 but at 10:25h thermocline is higher.\n",
    "- Note that different environments means different acoustic performance!\n",
    "\n",
    "- From Sept 22 to Sept 28 bad weather and water mixing (not completely) which meant cooler water in the first part of the water column and less steep gradients."
   ]
  },
  {
   "cell_type": "markdown",
   "id": "b4a2048a",
   "metadata": {},
   "source": [
    "## Time-varying thermocline\n",
    "\n",
    "Tranmission Loss - Source depth constant, SSP change\n",
    "\n",
    "<table><tr>\n",
    "<td> <img src=\"./videos/ACommsNet-TL-changes-1.gif\" alt=\"ACommsNet-TL-changes\" style=\"width: 850px;\"/>\n",
    "</tr></table>  \n",
    "Figure from John Potter, ACommsNet13.\n"
   ]
  },
  {
   "cell_type": "markdown",
   "id": "b33faf9c",
   "metadata": {},
   "source": [
    "## Source depth variation\n",
    "\n",
    "Tranmission Loss - source depth change, SSP constant.\n",
    "\n",
    "<table><tr>\n",
    "<td> <img src=\"./videos/ACommsNet-TL-changes-2.gif\" alt=\"ACommsNet-TL-changes\" style=\"width: 850px;\"/>\n",
    "</tr></table>  \n",
    "Figure from John Potter, ACommsNet13."
   ]
  },
  {
   "cell_type": "markdown",
   "id": "eecdd4c4",
   "metadata": {},
   "source": [
    "- Geometry and environmental variations are key to characterise acoustic propagation, even in the same geographical location!"
   ]
  },
  {
   "cell_type": "markdown",
   "id": "759506e6",
   "metadata": {},
   "source": [
    "## What is the Extended Ellett Line? \n",
    "\n",
    "The Extended Ellett Line is a project to measure and understand the ocean west of the UK. We are looking at how and why the currents, temperature and salinity have changed over the past few decades.  We also investigate the impact those changes have on ecosystems and local climate.\n",
    "\n",
    "Each year UK marine scientists cross the deep ocean between Scotland and Iceland on a research ship. Along the way the scientists measure the velocity, temperature and salinity of the ocean; at points 30 km apart, the ship stops and instruments are lowered though the water all the way to the seafloor. Water samples are also collected and analysed for a range of chemicals (including iron, nutrients and carbon) and biological content (including phytoplankton). The project is one of a small number of high-quality, long-term marine data sets in the North Atlantic Ocean and helps us to understand changes in ocean climate. It is relevant to the UK and northwest Europe because the warm water flowing past the Extended Ellett Line keeps winters warmer than expected for this latitude.\n",
    "\n",
    "The history of the Extended Ellett Line began in 1948, when Jack R. Lumby of the Fisheries Laboratory in Lowestoft, UK, realised that use could be made of the regular passage of ships to the Ocean Weather Stations of the North Atlantic. These ships of opportunity collected underway measurements of sea surface temperature and salinity until 1996. From 1975 to 1996, scientists concentrated on the Rockall Trough, measuring the warm salty subtropical water flowing northwards west of the UK and Ireland. Since 1996 the annual expeditions travel as far Iceland in order to measure all the warm water that flows into the Nordics Seas from the eastern North Atlantic. We also measure cold northern water flowing southwards at the bottom of the sea.\n",
    "\n",
    "From [https://projects.noc.ac.uk/ExtendedEllettLine/project-information](https://projects.noc.ac.uk/ExtendedEllettLine/project-information)"
   ]
  },
  {
   "cell_type": "markdown",
   "id": "a9c5fa8e-05c8-480c-ad5b-d47cae482233",
   "metadata": {},
   "source": [
    "[Ellet line, Glider Data](https://projects.noc.ac.uk/ExtendedEllettLine/fieldwork)"
   ]
  },
  {
   "cell_type": "code",
   "execution_count": null,
   "id": "fcaf5ca3-44cd-4239-ba20-15b98dfc1b91",
   "metadata": {},
   "outputs": [],
   "source": []
  }
 ],
 "metadata": {
  "kernelspec": {
   "display_name": "Python 3 (ipykernel)",
   "language": "python",
   "name": "python3"
  }
 },
 "nbformat": 4,
 "nbformat_minor": 5
}
