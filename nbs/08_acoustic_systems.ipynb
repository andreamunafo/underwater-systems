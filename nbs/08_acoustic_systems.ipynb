{
 "cells": [
  {
   "cell_type": "markdown",
   "id": "334d4fbc",
   "metadata": {},
   "source": [
    "<div style=\"page-break-before: always;\"></div>"
   ]
  },
  {
   "cell_type": "code",
   "execution_count": null,
   "id": "6e727a60",
   "metadata": {},
   "outputs": [],
   "source": [
    "#| default_exp acoustic_systems"
   ]
  },
  {
   "cell_type": "markdown",
   "id": "65be9dd8",
   "metadata": {},
   "source": [
    "# Acoustic systems"
   ]
  },
  {
   "cell_type": "markdown",
   "id": "bdd4fed6",
   "metadata": {},
   "source": [
    "## Acoustic transducers\n",
    "\n",
    "- Who generates the pressure? who is the source?\n",
    "\n",
    "- A transducer converts some sort of energy to sound (source) or converts sound energy (receiver) to an electrical signal\n",
    "\n",
    "- An acoustic source in water is in general a piezoelectric or piezoceramic element.\n",
    "  - Respond to a voltage with a mechanical deformation\n",
    "  - A mechanical deformation produces an electrical signal\n",
    "\n",
    "<table><tr>\n",
    "<td> <img src=\"./images/8.acoustic-systems/1.transducers.png\" alt=\"1.transducers\" style=\"height: 200px;\"/></td>\n",
    "</tr></table> \n",
    "\n",
    "_Figure adapted from J.M. Hovem, NTNU_\n",
    "\n",
    "- Apply an electric signal (sinusoidal) to piezoelectric discs and they deform\n",
    "- Discs are anchored to a backloading fixed element and to a Vibrator hear which is a mechanical amplifier\n",
    "- When deployed in water (with appropriate sealings) produces deformations in the water, i.e., pressure perturbations\n",
    "- Transmitters and Receivers are conceptually the same\n",
    "\n",
    "\n",
    "Frequency of mechanical vibration (for the same voltage) depends on the specific material and on the geometry.\n",
    "\n",
    "An acoustic transmitter is composed by one or more of these elements\n",
    "\n",
    "An acoustic receiver (i.e., hydrophone) is composed of one or more of these elements (one hydrophone is typically composed by one)"
   ]
  },
  {
   "cell_type": "markdown",
   "id": "440e4124",
   "metadata": {},
   "source": [
    "- Each basic element can typically be considered as omnidirectionals \n",
    "  - For ex. one hydrophone detects pressure in all directions\n",
    "- They can be combined together in variuos geometry to obtain directivity of sources and receivers\n",
    "  - Can be done both using specific geometry of the composition \n",
    "  - and with signal processing called beamforming\n",
    "\n",
    "\n",
    "<table><tr>\n",
    "<td> <img src=\"./images/8.acoustic-systems/2.transducers-2.png\" alt=\"2.transducers-2\" style=\"height: 200px;\"/></td>\n",
    "</tr></table> \n",
    "\n",
    "_Figure adapted from J.M. Hovem, NTNU_\n",
    "\n",
    "\n",
    "- When the geometry is linear, we talk about arrays (of hydrophones) or _phased arrays_\n",
    "    - They are typically towed by ships (or by UxVs)\n",
    "- Arrays can also be spherical or planar (3D)    \n",
    "    "
   ]
  },
  {
   "cell_type": "markdown",
   "id": "a01b6295",
   "metadata": {},
   "source": [
    "## Phased arrays\n",
    "\n",
    "- Omnidirectional sources are not ideal for a number of applications\n",
    "- Not ideal for fast steering applications\n",
    "- Think of fast tracking targets\n",
    "- Phased arrays streer beams electronically and can generate multiple beams in parallel and steered independently\n",
    "\n",
    "\n",
    "Interference Pattern of the element determines the directivity and depends on:\n",
    "- Number of elements\n",
    "- Element spacing\n",
    "- Array geometry\n",
    "- Individual antenna patterns (in our case omnidirectional)\n"
   ]
  },
  {
   "cell_type": "markdown",
   "id": "a9cf8ee4",
   "metadata": {},
   "source": [
    "## Near Field and Far Field\n",
    "\n",
    "- Given a omnidirectional source (a point source would produce spherical waves in an isotrope medium - spherical attenuation)\n",
    "- Unfortunately, transducers are not points and we do not have spherical waves when we are close to the source\n",
    "- We distringuish between Near and Far Field\n",
    "\n",
    "SPL: Sound Pressure Level (measure the source level)\n",
    "\n",
    "<table><tr>\n",
    "<td> <img src=\"./images/8.acoustic-systems/3.spl.png\" alt=\"3.spl\" style=\"height: 200px;\"/></td>\n",
    "</tr></table> \n",
    "\n",
    "_Figure: On-axis SPL from a circular piston with radius 6m, f = 1.2 kHz. From Jasco Underwater Acoustics Pocket Handbook, Fig. 17_\n",
    "\n",
    "- Interference and diffraction close to the surface of the piston (see max and min of the intensity in the picture above).\n",
    "    - Near field\n",
    "- The distance after which we have monotonic behaviour is called _Fresnel Distance_\n",
    "- Far field (or Fraunhofer zone) is where the pressure behaves following spherical attenuation is approximately 4 times the Fresnel Distance\n",
    "- Depend on frequency and size of the source (higher frequency would have smaller Fresnel distance)\n",
    "\n",
    "\n",
    "**We will use a Far Field assumption**\n",
    "\n",
    "- Note that we defined the source level as the intensity measured at 1m from the source\n",
    "- If we want to experimentally measure the SL we would be in the near field so we would not measure the actual SL but rather the interference pattern\n",
    "- We would instead go to Far Field to measure the received intensity and then we would use spherical spreading to interpolate and get to 1m from the source.\n",
    "  - Requires not to have additional interference in the far field\n",
    "  - For ex if we position the source and receiver close to the surface we would hit the LLoyd's mirror and we do not measure the SL again.\n",
    "  \n",
    "- Operational source/receiver calibrations are done in deep waters\n"
   ]
  },
  {
   "cell_type": "markdown",
   "id": "080915a2",
   "metadata": {},
   "source": [
    "## Beamforming\n",
    "\n",
    "Beamforming is a way of utilizing constructive interference to increase the signal gain at a certain point in space.\n",
    "\n",
    "- Beamforming with linear array\n",
    "- Suppose you have:\n",
    "   - a set of hydrophones aligned in a line\n",
    "   - source in far field\n",
    "- We would receive a planar wave\n",
    "\n",
    "<table><tr>\n",
    "<td> <img src=\"./images/8.acoustic-systems/4.beamforming-11.png\" alt=\"4.beamforming-1\" style=\"weight: 300px\"/></td>\n",
    "<td> <img src=\"./images/8.acoustic-systems/4.beamforming-12.png\" alt=\"4.beamforming-1\" style=\"weight: 300px\"/></td>\n",
    "</tr></table> \n",
    "\n",
    "- Wavefronts hit the hydrophones at different times\n",
    "- Depends on the arrival angle $\\theta$ of the wavefronts and from the distance between two consecutive hydrophones\n",
    "\n",
    "- We use a summation point to sum up all signals $P_i$ received at every hydrophone at a specific point in time\n",
    "\n",
    "$$\n",
    "R = \\sum_1^N P_i\n",
    "$$\n",
    "\n",
    "where $P_i = P_{max}e^{-ikx_i}$\n",
    "\n",
    "- The intensity is maximised when $\\theta=0$\n",
    "  - Signal arrival is in phase at each hydrophone\n",
    "  \n",
    "<table><tr>\n",
    "<td> <img src=\"./images/8.acoustic-systems/4.beamforming-13.png\" alt=\"4.beamforming-13\" style=\"height: 300px\"/></td>\n",
    "</tr></table>   \n",
    "  \n",
    "- When $\\theta \\ne 0$, every $x_i$ is different:\n",
    "$$\n",
    "x_{i+1} = x_{i} + dx\n",
    "$$\n",
    "\n",
    "where $dx = d\\sin\\theta$ is the distance to get to the other hydrophone\n",
    "\n",
    "this produces a phase shift at the hydrophone due to the different $x_i$ of the wavefronts.\n",
    "\n",
    "When $\\theta=0$ all hydrophones receive the same signal ($\\sin(0)=0$):\n",
    "$$\n",
    "R = \\sum_1^N P_{max}e^{-ikx}\\;\\;\\text{since}\\;\\; x_i=x,\\; \\forall i\n",
    "$$\n",
    "\n",
    "- The arriving wave will have maxs and mins (depends on the wavenumber), but when $\\theta=0$, the sum of max is $NP_{max}$.\n",
    "- The signal is amplified by the number of hydrophones\n",
    "\n",
    "- In all other directions ($\\theta \\ne 0$) we have a lower gain (or even destructive interference)"
   ]
  },
  {
   "cell_type": "markdown",
   "id": "358b2740",
   "metadata": {},
   "source": [
    "- This is called beamforming: summing up we obtain the part of the acoustic field that is coming from direction $\\theta=0$\n",
    "- When signals arrive at the hydrophones at the same time, we obtain the same signal amplified (mid picture below)\n",
    "\n",
    "- When signals arrive from an angle, they have a phase shift ($kd\\sin\\theta)$ and we obtain a different signal\n",
    "\n",
    "- If there is no signal at $\\theta=0$ we get something that is not amplified.\n",
    "\n",
    "<table><tr>\n",
    "<td> <img src=\"./images/8.acoustic-systems/4.beamforming-2.png\" alt=\"4.beamforming-2\" style=\"height: 200px;\"/></td>\n",
    "</tr></table> \n",
    "\n",
    "- Note also that at each hydrophone arrives both the signal and noise (e.g., white noise $n_i$).\n",
    "- If we have white noise, summing up uncorrelated noise means attenuating the noise\n",
    "\n",
    "- We have a boost for the coherent signal and attenuation of incoherent signals (noise)\n"
   ]
  },
  {
   "cell_type": "markdown",
   "id": "efcb6a25",
   "metadata": {},
   "source": [
    "This is useful if we want to know if signal is arriving from direction $\\theta=0$\n",
    "\n",
    "- What if I am interested in a different direction?\n",
    "- We could rotate the receiver to the specific direction (e.g., mechanically scanning radars)\n",
    "  - Not practical underwater\n",
    "\n",
    "- However, when we sample we can sum up all the data that I have received at the same time (priviledged direction $\\theta=0$)"
   ]
  },
  {
   "cell_type": "markdown",
   "id": "e2bb9727",
   "metadata": {},
   "source": [
    "- I can also note that the phase shift at the next hydrophone is: $kd\\sin\\theta$\n",
    "- The wavafront has traveled $d\\sin\\theta$ from one hydrophone to the next, in $\\frac{d\\sin\\theta}{c}$ seconds\n",
    "- If I buffer all the data from all the hydrophones and then:\n",
    "  - sum the same time $\\theta=0$\n",
    "  - sum signals delayed by $i \\cdot \\frac{d\\sin\\bar{\\theta}}{c}$, where $i$ is the hydrophone number and $\\bar{\\theta}$ is a specific direction\n",
    "  - this corresponds to reading the signals at the same time but looking in the direction $\\bar{\\theta}$\n",
    "  "
   ]
  },
  {
   "cell_type": "markdown",
   "id": "86c4be13",
   "metadata": {},
   "source": [
    "- Delaying the signals before the sum, the intensity is maximised for different values of $\\theta$.\n",
    "- This is equivalent to doing a phase shift at the receivers (delay in time is equivalent to phase shifts in frequency): summing signals that are in phase\n",
    "   - time domain: time delay steering\n",
    "   - frequency domain: phase delay steering\n",
    "\n",
    "\n",
    "- This is a signal processing operation that we can do very fast and in parallel (across multiple directions at once)"
   ]
  },
  {
   "cell_type": "markdown",
   "id": "60b29a76",
   "metadata": {},
   "source": [
    "- Signals depending on the direction $\\theta$ are called **beams**\n",
    "- Beamforming can be  **steered** to desired directions $\\theta$ forming beams corresponding to the various steering directions\n",
    "- If there is a source at a specific direction, the beam corresponding to the source direction will have the highest intensity (the other would have lower intensity)"
   ]
  },
  {
   "cell_type": "markdown",
   "id": "63672803",
   "metadata": {},
   "source": [
    "### Array of transmitters\n",
    "\n",
    "- The same principle apply for arrays of receivers and arrays of sources\n",
    "\n",
    "\n",
    "- With N sources aligned, in the far field it is equivalent to have a single source with a pressure is $N$ times that of each single element (intensity $N^2$)\n",
    "- If we delay the signal transmitted by each element by $i \\cdot \\frac{d\\sin\\bar{\\theta}}{c}$ we can steer the generated wavefront\n",
    "\n",
    "<table><tr>\n",
    "<td> <img src=\"./images/8.acoustic-systems/5.source-beamforming.png\" alt=\"5.source-beamforming\" style=\"width: 300px\"/></td>\n",
    "    <td> <img src=\"./images/8.acoustic-systems/5.source-beamforming-1.png\" alt=\"5.source-beamforming\" style=\"width: 300px\"/></td>\n",
    "</tr></table> "
   ]
  },
  {
   "cell_type": "markdown",
   "id": "2943a7ec",
   "metadata": {},
   "source": [
    "- Delaying in time is equivalent to a phase shift in frequency\n",
    "- We can do beamforming in time and in frequency"
   ]
  },
  {
   "cell_type": "markdown",
   "id": "326b4173",
   "metadata": {},
   "source": [
    "Nice library: [arlpy](https://arlpy.readthedocs.io/en/latest/index.html)\n",
    "\n",
    "and reference [Basics of phased arrays](https://www.antenna-theory.com/arrays/weights/main.php#phased)"
   ]
  },
  {
   "cell_type": "markdown",
   "id": "f748a2ec",
   "metadata": {},
   "source": [
    "## Transducer directivity and beam pattern\n",
    "\n",
    "The beam patter provides information on how a given array distributes the signal in space. It is calculated using the signal strength as a function of spatial location for a given transmitter array. \n",
    "\n",
    "<table><tr>\n",
    "<td> <img src=\"./images/8.acoustic-systems/6.directivity-1.png\" alt=\"6.directivity-1.png\" style=\"width: 400px\"/></td>\n",
    "</tr>\n",
    "<tr>\n",
    "    <td>Line array: maximum directivity along the acoustic axis $\\theta=0$\n",
    "</td>\n",
    "    </tr>\n",
    "</table> \n",
    "\n",
    "_Beam pattern of a linear array. Figure from Bradley and Stern_\n",
    "\n",
    "\n",
    "- These diagrams, called beam patterns provide a graphical representation of the value in dB of the received pressure as a function of the angle. \n",
    "- Note how intensity decreases as we move away from the $\\theta=0$\n",
    "- Note how the received pressure varies\n",
    "   - When 0 means we are summing signals in destructive interference (opposite phase)\n",
    "   - When the signal increase it never goes to the maximum of the main lobe\n",
    "   - Main lobe is where we have the global maximum\n",
    "   - Side lobes correspond to local maxima\n",
    "   \n",
    "   - In the sum we had the wavelength (through $k$) which makes it possible to calculate the minimum and maximum\n",
    "   \n",
    "   - Note the cylindrical symmetry of the problem (every direction that is perpendicular to the array provides a maximum)\n",
    "     - Limiting to a plan case: left-right ambiguity\n",
    "  \n",
    "  \n",
    "- Delaying and summing we can rotate the beam pattern towards the direction we desire\n",
    "  - There is a slight deformation not a pure rotation (pure rotation approximately only between 0 and 45)"
   ]
  },
  {
   "cell_type": "markdown",
   "id": "4a3c92c4",
   "metadata": {},
   "source": [
    "Different geometric configuration give rise to different beampatterns\n",
    "\n",
    "<table><tr>\n",
    "    <td> <img src=\"./images/8.acoustic-systems/6.directivity-2.png\" alt=\"6.directivity-1.png\" style=\"width: 400px\"/></td>\n",
    "</tr>\n",
    "<tr>\n",
    "    <td>Disc array: maximum directivity along the acoustic axis $\\theta=0$\n",
    "</td>\n",
    "    </tr>\n",
    "</table> \n",
    "\n",
    "_Beampattern of a disc array. Figure from Bradley and Stern_\n",
    "\n",
    "- Maximum is along the direction perpendicular to the disc"
   ]
  },
  {
   "cell_type": "markdown",
   "id": "4bf5ccef",
   "metadata": {},
   "source": [
    "## Array Size and Beamwidth\n",
    "\n",
    "- Array of length $L$\n",
    "- Continuous (each element is infinitesimaly close to the next)\n",
    "\n",
    "- Beamwidth of the main lobe:\n",
    "\n",
    "$$\n",
    "\\Delta\\theta = \\lambda/L\n",
    "$$\n",
    "\n",
    "\n",
    "<table><tr>\n",
    "    <td> <img src=\"./images/8.acoustic-systems/9.array-1.png\" alt=\"9.array.png\" style=\"width: 600px\"/></td>\n",
    "</tr>\n",
    "<tr>\n",
    "    <td>Figure adapted from J.M. Hovem, NTNU\n",
    "</td>\n",
    "    </tr>\n",
    "</table> \n",
    "\n"
   ]
  },
  {
   "cell_type": "markdown",
   "id": "e7e3359a",
   "metadata": {},
   "source": [
    "- Formula is specific for a continuous array, but generalises for the following aspect:"
   ]
  },
  {
   "cell_type": "markdown",
   "id": "232d0c7f",
   "metadata": {},
   "source": [
    "In acoustics we cannot obtain similar effects to what we have with lasers which are very focused and narrow.\n",
    "\n",
    "To reduce $\\Delta\\theta$ (focusing), which means having higher resolution:\n",
    " - reduce $\\lambda$ wave length (move to high frequency, which however attenuates quickly)\n",
    " - increase $L$, the length of the array\n",
    " \n",
    "Tradeoff between range/frequency/resolution\n",
    "\n",
    "- The Beamwidth of the main lobe formula makes it possible to approximate the expected resolution of a SONAR system"
   ]
  },
  {
   "cell_type": "markdown",
   "id": "cad13735",
   "metadata": {},
   "source": [
    "-----"
   ]
  },
  {
   "cell_type": "markdown",
   "id": "f7680fab",
   "metadata": {},
   "source": [
    "## SONAR systems\n",
    "\n",
    "- Any system which uses acoustics to do something underwater\n",
    "- Specialised sonars for specific applications (e.g., ASW, echosounders, acoustic modems)\n",
    "\n",
    "- It is composed of:\n",
    "   - At least one receiver: we talk about passive sonars\n",
    "       - receiver listens from sound produces by others\n",
    "   - At least one transmitted and one receiver: we talk about active sonars\n",
    "       - receiver listens from reflections produced by the sound emitted by the source\n",
    "       \n",
    "<table><tr>\n",
    "    <td> <img src=\"./images/8.acoustic-systems/10.sonar.png\" alt=\"10.sonar.png\" style=\"width: 600px\"/></td>\n",
    "</tr>\n",
    "<tr>\n",
    "    <td>Figure adapted from J.M. Hovem, NTNU\n",
    "</td>\n",
    "    </tr>\n",
    "</table>        "
   ]
  },
  {
   "cell_type": "markdown",
   "id": "dac28d99",
   "metadata": {},
   "source": [
    "- Consider the source as composed of multiple transmitters (an array) so that we can obtain an aperture $\\Delta\\theta$\n",
    "- Assume that the SONAR transmits rectangular pulses with temporal width $T$ (pulse width)\n",
    "- The bandwidth of the rectangular pulse $B\\approx\\frac{1}{T}$\n",
    "\n",
    "\n",
    "- Such a system (TX or RX) can:\n",
    "  - steer its beams, and each beam has beamwidth $\\Delta\\theta$\n",
    "  - receives from a sector that depends on the pulse width"
   ]
  },
  {
   "cell_type": "markdown",
   "id": "fec8949b",
   "metadata": {},
   "source": [
    "## Range Resolution\n",
    "\n",
    "- Rectangular pulse is transmitted (see figure below right)\n",
    "- Hits something that scatters the signal back\n",
    "- The signal travels $2R$\n",
    "- The space for the pulse width to hit the target is $\\delta R$ and is defined as\n",
    "$$\\delta R = \\frac{cT}{2}$$\n",
    "\n",
    "- Note that we divide by two because the signal goes back and forth\n",
    "\n",
    "<table>\n",
    "    <tr>\n",
    "    <td> \n",
    "        <img src=\"./images/8.acoustic-systems/11.sonar-1.png\" alt=\"11.sonar-1.png\" style=\"width: 600px\"/>\n",
    "    </td>\n",
    "    <td> \n",
    "        <img src=\"./images/8.acoustic-systems/12.sonar.png\" alt=\"12.sonar.png\" style=\"width: 600px\"/>\n",
    "    </td>\n",
    "    </tr>\n",
    "    <tr>\n",
    "    <td>Figure adapted from J.M. Hovem, NTNU</td>\n",
    "    </tr>\n",
    "</table> \n"
   ]
  },
  {
   "cell_type": "markdown",
   "id": "6c7271aa",
   "metadata": {},
   "source": [
    "- The SONAR resolution cell depends on:\n",
    "   - $\\Delta\\theta$ (the receiver beam)\n",
    "   - $\\delta R$\n",
    "   \n",
    "- To have high resolution\n",
    "    - angular resolution: $\\Delta\\theta$ (increase frequency or use longer arrays)\n",
    "    - range resolution: $\\delta R$ must be small and we can only reduce $T$\n",
    "       - small $T$ means higher bandwidth $B\\approx\\frac{1}{T}$ \n",
    "       - dirac delta function would be perfect as it has infinite bandwidth\n",
    "       - Problem: again I need high frequency\n",
    "       - Tradeoff between resolution and range\n",
    "       - Note that we are now talking about Bandwidth: different frequencies in my bandwidth will be attenutated differently\n",
    "       - The further away the sound comes the smaller the resolution: only low frequencies come back (this is true in terrestrial acoustics as well)."
   ]
  },
  {
   "cell_type": "markdown",
   "id": "c941ed0a",
   "metadata": {},
   "source": [
    "For non rectangular impulses\n",
    "- Specific formulas exist\n",
    "- Empirical rule: take the time width corresponding to maximum signal amplitude within -3dB as rectangular envelope\n",
    "- Good enough for a qualitative understanding\n",
    "\n",
    "<table><tr>\n",
    "    <td> <img src=\"./images/8.acoustic-systems/13.approx-resolution.png\" alt=\"13.approx-resolution.png\" style=\"width: 600px\"/></td>        \n",
    "</tr>\n",
    "<tr>\n",
    "    <td>Figure adapted from A. Caiti, Univ. of Pisa\n",
    "</td>\n",
    "    </tr>\n",
    "</table> \n",
    "\n",
    "\n"
   ]
  },
  {
   "cell_type": "markdown",
   "id": "b108fb72",
   "metadata": {},
   "source": [
    "-----"
   ]
  },
  {
   "cell_type": "markdown",
   "id": "8d8b35fb",
   "metadata": {},
   "source": [
    "## Ambient Noise is the Ocean\n",
    "\n",
    "- We saw that together with signals we receive noise\n",
    "- Noise: any disturbance, any unwanted signal that interferes with the signal carrying information\n",
    "- In ocean acoustics we not only have the typical noise any information engineer needs to deal with, electrical noise, but also with Acoustic Noise or Ambient Noise.\n",
    "\n",
    "Ambient Noise has spectral characteristics that are quite precise depending on what is causing it\n",
    "- Picture below (sound pressure vs frequency (log scale)) represents the typical spectral level of ambient noise, due to physical causes, and far away from the sonar system under analysis\n",
    "- Prevailing noise levels shown with the two solid black lines"
   ]
  },
  {
   "cell_type": "markdown",
   "id": "2aae9e76",
   "metadata": {},
   "source": [
    "Main sources (numbers are approximate):\n",
    "- Earthquakes and explosions\n",
    "   - Low frequency (up to 100Hz)\n",
    "- Wind noise in shallow waters (less than 40m)\n",
    "   - Wind propagates sound in the water column (up to 100Hz)\n",
    "- Traffic noise\n",
    "   - Shallow waters (<500m) is slightly lower frequency\n",
    "   - Deep waters (>500m)\n",
    "   - Heavy traffic is shown as dashed line\n",
    "   - Marine traffic can get up to 1kHz.\n",
    "- Sea state\n",
    "  - Note the presence, between 100Hz and 1kHz, of noise due to the state of sea: waves at the surface produce sound in the water column. In turns, waves are due to atmospheric effects.\n",
    "   \n",
    "- Heavy precipitations\n",
    "  - Between 100 and 30kHz\n",
    "\n",
    "- Note how moving up in frequency effects of ambient noise decreases\n",
    "- Moving to higher frequencies, sound is attenuated (assumption is source in far field)\n",
    "\n",
    "- For frequency > 10kHz noise is due to air and bubbles (e.g., white foam of waves: bubbles exploding and making noise at high frequency)"
   ]
  },
  {
   "cell_type": "markdown",
   "id": "821b2c02",
   "metadata": {},
   "source": [
    "<table><tr>\n",
    "    <td> <img src=\"./images/8.acoustic-systems/14.Composite-of-ambient-noise-spectra-from-Wenz-1962.png\" alt=\"14.Composite-of-ambient-noise-spectra-from-Wenz-1962.png\" style=\"width: 600px\"/></td>        \n",
    "</tr>\n",
    "<tr>\n",
    "    <td>\n",
    "</td>\n",
    "    </tr>\n",
    "</table> "
   ]
  },
  {
   "cell_type": "markdown",
   "id": "8f88cb4e",
   "metadata": {},
   "source": [
    "## Beaufort Scale, Sea State\n",
    "\n",
    "| Beaufort wind scale | Mean Wind Speed | Limits of wind speed | Wind descriptive terms | Probable wave height | Probable maximum wave height | Seastate | Sea descriptive terms |\n",
    "| ------------------- | --------------- | -------------------- | ---------------------- | -------------------- | ---------------------------- | -------- | --------------------- |\n",
    "|                     | Knots           | Knots                |                        | in metres (1)        | in metres (2)                |          |                       |\n",
    "| 0                   | 0               | <1                   | Calm                   | \\-                   | \\-                           | 0        | Calm (glassy)         |\n",
    "| 1                   | 2               | 1-3                  | Light air              | 0.1                  | 0.1                          | 1        | Calm (rippled)        |\n",
    "| 2                   | 5               | 4-6                  | Light breeze           | 0.2                  | 0.3                          | 2        | Smooth (wavelets)     |\n",
    "| 3                   | 9               | 7-10                 | Gentle breeze          | 0.6                  | 1                            | 3        | Slight                |\n",
    "| 4                   | 13              | 11-16                | Moderate breeze        | 1                    | 1.5                          | 3-4      | Slight - Moderate     |\n",
    "| 5                   | 19              | 17-21                | Fresh breeze           | 2                    | 2.5                          | 4        | Moderate              |\n",
    "| 6                   | 24              | 22-27                | Strong breeze          | 3                    | 4                            | 5        | Rough                 |\n",
    "| 7                   | 30              | 28-33                | Near gale              | 4                    | 5.5                          | 5-6      | Rough-Very rough      |\n",
    "| 8                   | 37              | 34-40                | Gale                   | 5.5                  | 7.5                          | 6-7      | Very rough - High     |\n",
    "| 9                   | 44              | 41-47                | Strong gale3           | 7                    | 10                           | 7        | High                  |\n",
    "| 10                  | 52              | 48-55                | Storm                  | 9                    | 12.5                         | 8        | Very High             |\n",
    "| 11                  | 60              | 56-63                | Violent storm          | 11.5                 | 16                           | 8        | Very High             |\n",
    "| 12                  | \\-              | 64+                  | Hurricane              | 14+                  | \\-                           | 9        | Phenomenal            |\n"
   ]
  },
  {
   "cell_type": "markdown",
   "id": "028f722f",
   "metadata": {},
   "source": [
    "- Sea state is an empirical scale from 0 (flat) to 9\n",
    "- Table reports:\n",
    "  - description of the sea state\n",
    "  - value of the sea state\n",
    "  - (average) wave height (peak-to-peak)\n",
    "  - wind speed\n",
    "  - Beaufort scale\n",
    "  \n",
    "- Typically we use the Beaufort scale that empirically determines the wind speed from the sea state\n",
    "- Note how multiple descriptions might match the same seastate number"
   ]
  },
  {
   "cell_type": "markdown",
   "id": "d7e50f8f",
   "metadata": {},
   "source": [
    "<table>\n",
    "    <tr>\n",
    "        <td>\n",
    "            <img src=\"./images/8.acoustic-systems/16.FrancisBeaufort.jpg\" alt=\"16.FrancisBeaufort.jpg\" style=\"height: 300px\"/>\n",
    "        </td>        \n",
    "        <td style=\"width:30%\">\n",
    "            The scale was devised in 1805 by the Irish hydrographer Francis Beaufort (later Rear Admiral), a Royal Navy officer, while serving on HMS Woolwich.\n",
    "        </td>\n",
    "    </tr>\n",
    "</table>"
   ]
  },
  {
   "cell_type": "code",
   "execution_count": null,
   "id": "3cacc1b0",
   "metadata": {},
   "outputs": [],
   "source": []
  }
 ],
 "metadata": {
  "kernelspec": {
   "display_name": "Python 3 (ipykernel)",
   "language": "python",
   "name": "python3"
  }
 },
 "nbformat": 4,
 "nbformat_minor": 5
}
