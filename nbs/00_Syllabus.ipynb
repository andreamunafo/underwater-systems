{
 "cells": [
  {
   "cell_type": "markdown",
   "id": "dc3ba339",
   "metadata": {},
   "source": [
    "<div style=\"page-break-before: always;\"></div>"
   ]
  },
  {
   "cell_type": "markdown",
   "id": "0890f8ea",
   "metadata": {},
   "source": [
    "# Syllabus for \"Underwater Systems\""
   ]
  },
  {
   "cell_type": "markdown",
   "id": "40d7fe55",
   "metadata": {},
   "source": [
    "Instructors:\n",
    "- Andrea Munafo (andrea.munafo@unipi.it)\n",
    "- Riccardo Costanzi (riccardo.costanzi@unipi.it)"
   ]
  },
  {
   "cell_type": "markdown",
   "id": "4d48ebe1",
   "metadata": {},
   "source": [
    "- Semester: Spring 2024\n",
    "\n",
    "- Lectures: 2 sessions (5h) / week, for 6 weeks\n",
    "\n",
    "    - Tuesday: 15:30 - 18:30\n",
    "    - Wednesday: 16.30-18:30    \n",
    "\n",
    "- Office Hours: After Lectures"
   ]
  },
  {
   "cell_type": "markdown",
   "id": "390048e9",
   "metadata": {},
   "source": [
    "## Course content\n",
    "The course discusses key properties of the ocean sea water, with the objective to serve as basis for the understanding of sound transmission in the oceans. \n",
    "\n",
    "Then it explains how this knowledge is applied in underwater instruments for positioning, signal transfer, mapping, measurements and ocean sampling. \n",
    "\n",
    "Primarily, we will talk about Sensing, Communications and Autonomy\n",
    "- Effective autonomy can compensate for limits in sensing and communications.\n",
    "- Effective communications can compensate for limits in sensing and autonomy.\n",
    "\n",
    "Intelligence/Perceptiveness/Connectedness is part of a bigger picture where:\n",
    "- _Smarter_ systems means more can be done with fewer systems.\n",
    "- _Smarter_ systems means more can be done with less capable (lower cost) systems."
   ]
  },
  {
   "cell_type": "markdown",
   "id": "aff8ad8a",
   "metadata": {},
   "source": [
    "Specific topics inlcude:\n",
    "\n",
    "<table>\n",
    "  <tr>\n",
    "    <td style=\"vertical-align:top; text-align:left;\">\n",
    "      <ul>\n",
    "        <li>Ocean acoustics</li>\n",
    "        <li>The acoustic channel</li>\n",
    "        <li>Ray tracing</li>\n",
    "        <li>Elements of Oceanography and Environmental Variability</li>\n",
    "        <li>The Wave Equations</li>                  \n",
    "      </ul>\n",
    "    </td>\n",
    "    <td style=\"vertical-align:top; text-align:left;\">\n",
    "      <ul>\n",
    "        <li>Acoustic Systems</li>   \n",
    "        <li>The Sonar Equations</li>\n",
    "        <li>Sonar Practical Equations</li>\n",
    "        <li>Networked systems</li>\n",
    "        <li>Maritime Navigation</li>        \n",
    "      </ul>\n",
    "    </td>\n",
    "  </tr>\n",
    "</table>\n"
   ]
  },
  {
   "cell_type": "markdown",
   "id": "894e497d",
   "metadata": {},
   "source": [
    "### Week 1: Introduction to Ocean Acoustics and the Acoustic Channel\n",
    "- **Tuesday (3 hours):** Introduction to Ocean Acoustics\n",
    "  - Fundamentals of sound in the ocean\n",
    "  - Physical principles of underwater acoustics\n",
    "- **Wednesday (2 hours):** The Acoustic Channel\n",
    "  - Characteristics and properties of the acoustic channel\n",
    "  - Challenges and applications in ocean acoustics\n",
    "\n",
    "### Week 2: Ray Tracing and Oceanography Elements\n",
    "- **Tuesday (3 hours):** Ray Tracing in Ocean Acoustics\n",
    "  - Principles of ray tracing\n",
    "  - Modeling sound propagation in the ocean\n",
    "- **Wednesday (2 hours):** Elements of Oceanography and Environmental Variability\n",
    "  - Oceanographic features affecting sound propagation\n",
    "  - Impact of environmental variability on acoustics\n",
    "\n",
    "### Week 3: The Wave Equations\n",
    "- **Tuesday (3 hours):** Understanding the Wave Equation\n",
    "  - Derivation and analysis of the wave equation\n",
    "  - Applications in ocean acoustics\n",
    "- **Wednesday (2 hours):** Advanced Topics in Wave Equations\n",
    "  - Numerical solutions and simulations\n",
    "  - Case studies and practical examples\n",
    "\n",
    "### Week 4: Acoustic Systems and Sonar Equations\n",
    "- **Tuesday (3 hours):** Acoustic Systems in Oceanography\n",
    "  - Types of acoustic systems\n",
    "  - Design and operation principles\n",
    "- **Wednesday (2 hours):** The Sonar Equations\n",
    "  - Fundamentals of sonar equations\n",
    "  - Applications in detection and ranging\n",
    "\n",
    "### Week 5: Practical Sonar Equations and Networked Systems\n",
    "- **Tuesday (3 hours):** Sonar Practical Equations\n",
    "  - Practical aspects and calculations\n",
    "  - Performance analysis\n",
    "- **Wednesday (2 hours):** Introduction to Networked Systems\n",
    "  - Concepts of networked acoustic systems\n",
    "  - Communication and data integration challenges\n",
    "\n",
    "### Week 6: Networked Systems (Contd.) and Maritime Navigation\n",
    "- **Tuesday (3 hours):** Advanced Networked Systems\n",
    "  - Advanced techniques and latest trends\n",
    "  - Case studies and real-world applications\n",
    "- **Wednesday (2 hours):** Maritime Navigation\n",
    "  - Role of acoustics in navigation\n",
    "  - Modern technologies and future trends\n",
    "  \n",
    "  "
   ]
  },
  {
   "cell_type": "markdown",
   "id": "c0bd0884",
   "metadata": {},
   "source": [
    "### Week 7-9: Dynamic Models of Underwater Vehicles\n",
    "- **Week 7:**\n",
    "  - **Session 1 (3 hours):** Introduction to Dynamic Modeling\n",
    "  - **Session 2 (2 hours):** Basic Principles of Underwater Vehicle Dynamics. Students are grouped for final projects. Projects defined.\n",
    "- **Week 8:**\n",
    "  - **Session 1 (3 hours):** Advanced Dynamic Models and Simulation Techniques\n",
    "  - **Session 2 (2 hours):** Control Systems for Underwater Vehicles\n",
    "- **Week 9:**\n",
    "  - **Session 1 (3 hours):** Integration of Acoustic Systems with Vehicle Dynamics\n",
    "  - **Session 2 (2 hours):** Case Studies and Current Research in Vehicle Dynamics. Start of Final Projects\n",
    "\n",
    "### Week 10-12: Final Projects\n",
    "- **Week 10:**\n",
    "  - **Session 1 (3 hours):** Group Project Work\n",
    "  - **Session 2 (2 hours):** Group Report and Discussion\n",
    "- **Week 11:**\n",
    "  - **Session 1 (3 hours):** Group Project Work\n",
    "  - **Session 2 (2 hours):** Group Report and Discussion\n",
    "- **Week 12:**\n",
    "  - **Session 1 (3 hours):** Final Preparations for Project Presentations\n",
    "  - **Session 2 (2 hours):** Final Project Presentations and Discussions"
   ]
  },
  {
   "cell_type": "markdown",
   "id": "69fcf893",
   "metadata": {},
   "source": [
    "### Additional Notes:\n",
    "- **Practical Sessions:** Incorporate practical exercises, case studies, and simulations across the course for a hands-on learning experience.\n",
    "\n",
    "- **Guest Lectures:** \n",
    "   - Florian Schultz, ATLAS Elektronik, \"Acoustic Communications and Its Practical Applications\" (April 23/24)\n",
    "   - Georgios Salavasidis, National Oceanography Centre, \"Long-Range Underwater Navigation\" (April 10)\n",
    "\n",
    "- **Assessment:** \n",
    "   - Group Reports and discussions at periodic intervals\n",
    "   - Final project related to designing or analyzing an acoustic system, a case study in ocean acoustics, or underwater robotics\n",
    "   - Final oral examination to assess comprehensive understanding"
   ]
  },
  {
   "cell_type": "markdown",
   "id": "c58ad197",
   "metadata": {},
   "source": [
    "## Learning outcome\n",
    "After having completed the course the students shall have obtained a solid understanding of the processes in the world ocean as well as in design, contruction and working principle of various maritime systems. \n",
    "\n",
    "Specific learning objectives are: \n",
    "- Knowledge of the world oceans, including depths, ocean currents, temperature conditions and salinity/seawater density. \n",
    "- Knowledge and understanding of design and operational conditions for the main underwater vehicles as ROVs and AUVs.  \n",
    "- Know and understand various underwater positioning and navigational systems. Being able to write (group) reports about complex underwater operations, including time surveying of the mother ship. \n",
    "- Knowledge related to important issues that need to be considered during design, installation and operation of underwater systems, including robots.\n",
    "\n",
    "\n",
    "## Recommended previous knowledge\n",
    "- Robotics\n",
    "\n",
    "## Course materials\n",
    "\n",
    "- J.M. Hovem, Marine Acoustics, Peninsula Pub., 2013\n",
    "\n",
    "- X. Lurton, Introduction to Underwater Acoustics, Praxis, 2002\n",
    "\n",
    "- D.L. Bradley, R. Stern, Underwater Sound and the Marine Mammals Acoustic Environment, prepared for the US Marine Mammals Commission, 2008\n",
    "\n",
    "- J.M. Hovem, \"Underwater Acoustics: Propagation, devices and systems\", J. Electroceramics, 19, 339 - 347, 2007\n",
    "\n",
    "- F.B. Jensen, W.A. Kuperman, M.B. Porter, H. Schmidt, Computational Ocean Acoustics, Springer, 2011\n",
    "\n",
    "- The Ocean Acoustic Library: http://oalib.hlsresearch.com/\n",
    "   acoustic modeling, data processing software and data\n",
    "\n",
    "Various text books, lecture notes and relevant available information on internet.\n",
    "\n",
    "- see notebook <a href='12_References.ipynb' target='_blank' style='font-size: 16px;'>12_References.ipynb</a> for course structure."
   ]
  },
  {
   "cell_type": "markdown",
   "id": "9561d4b5",
   "metadata": {},
   "source": [
    "## Frequently Asked Questions (FAQ)\n",
    "\n",
    "- see notebook <a href='00_FAQ.ipynb' target='_blank' style='font-size: 16px;'>00_FAQ.ipynb</a>\n",
    "\n"
   ]
  },
  {
   "cell_type": "code",
   "execution_count": null,
   "id": "3208c8c2",
   "metadata": {},
   "outputs": [],
   "source": []
  }
 ],
 "metadata": {
  "kernelspec": {
   "display_name": "Python 3 (ipykernel)",
   "language": "python",
   "name": "python3"
  }
 },
 "nbformat": 4,
 "nbformat_minor": 5
}
