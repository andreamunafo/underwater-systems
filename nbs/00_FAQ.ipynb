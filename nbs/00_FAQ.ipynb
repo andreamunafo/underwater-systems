{
 "cells": [
  {
   "cell_type": "markdown",
   "id": "241677d8",
   "metadata": {},
   "source": [
    "# Frequently Asked Questions (FAQ) "
   ]
  },
  {
   "cell_type": "markdown",
   "id": "0941023d",
   "metadata": {},
   "source": [
    "## General Questions\n",
    "\n",
    "**Q: Who is this course intended for?**  \n",
    "A: This course is designed for students, researchers and professionals interested in ocean acoustics, sonar technology, and underwater vehicle dynamics.\n",
    "\n",
    "## Course Content\n",
    "\n",
    "**Q: What are the main topics covered in this course?**  \n",
    "A: The course covers Ocean Acoustics, Ray Tracing, Oceanography, Wave Equations, Acoustic Systems, Sonar Equations, Networked Systems, Maritime Navigation, Dynamic Models of Underwater Vehicles, and a final project.\n",
    "\n",
    "**Q: Are there any practical sessions?**  \n",
    "A: Yes, practical exercises, case studies, and simulations are incorporated throughout the course.\n",
    "\n",
    "**Q: Will there be guest lectures?**  \n",
    "A: Yes, in 2024 guest lectures include:\n",
    "   - Florian Schultz from ATLAS Elektronik on Acoustic Communications (April 23/24)\n",
    "   - Georgios Salavasidis from National Oceanography Centre on Long-Range Underwater Navigation (April 10)\n",
    "\n",
    "## Assessment and Projects\n",
    "\n",
    "**Q: How are students assessed in this course?**  \n",
    "A: Assessment is through group reports, periodic discussions, a final project, and a final oral examination.\n",
    "\n",
    "**Q: What does the final project involve?**  \n",
    "A: The final project involves designing or analyzing an acoustic system, a case study in ocean acoustics, or a project in underwater robotics, using ROS1 for practical implementation. Projects are handed out in Week 7, and students need to self-organize in groups of 3. If not, they will be assigned by the instructors.\n",
    "\n",
    "**Q: What are the requirements for the final project?**  \n",
    "A: For the project, students will use ROS1. The preferred way to use it is using an Ubuntu virtual machine in Windows, or directly using Ubuntu. Students are required to learn ROS by themselves, although some of its concepts might be covered in class.\n",
    "\n",
    "**Q: Are there resources available for learning ROS?**  \n",
    "A: Yes, key ROS resources include:\n",
    "   - The official ROS website: [ROS.org](http://www.ros.org/)\n",
    "   - ROS Wiki for tutorials and documentation: [wiki.ros.org](http://wiki.ros.org/ROS/Tutorials)\n",
    "   - It's recommended to complete at least up to tutorial 12, plus tutorials 17 and 18 on the ROS Wiki. Further exploration of other tutorials will be an added value.\n",
    "   \n",
    "**Q: What operating system is recommended for using ROS?**  \n",
    "A: For Windows users, it is suggested to start with a virtual machine running Linux to utilize ROS. This setup should be sufficient for most tasks. However, creating a Linux partition might be convenient or necessary at a later stage. As for the ROS version, we recommend using ROS Melodic for Ubuntu 18.04, which is the same version currently running on Zeno.\n",
    "   \n",
    "## Enrollment and Prerequisites\n",
    "\n",
    "**Q: Are there any prerequisites for this course?**  \n",
    "A: There are no strict prerequisites for this course, as all necessary topics will be comprehensively covered to ensure understanding and success. However, possessing a foundational knowledge in Robotics can be beneficial for grasping the concepts more quickly."
   ]
  },
  {
   "cell_type": "markdown",
   "id": "3c6e030a",
   "metadata": {},
   "source": [
    "## MSc Thesis Opportunities\n",
    "\n",
    "**Q: Are there opportunities to pursue a Master's thesis related to the course topics?**  \n",
    "A: Yes, our MSc Thesis Program offers groundbreaking opportunities in underwater systems. We focus on five key areas:\n",
    "   1. **Human-Machine Teaming and Shared Autonomy**\n",
    "   2. **Multi-Robot Collaboration**\n",
    "   3. **Path Planning for Persistent Missions**\n",
    "   4. **Polar Robotics**\n",
    "   5. **Quantum Sensing and Navigation**\n",
    "\n",
    "**Q: What are the benefits of joining the MSc Thesis Program?**  \n",
    "A: The program offers:\n",
    "   - Innovative research topics with real-world impact\n",
    "   - Expert supervision by leading researchers\n",
    "   - Access to state-of-the-art facilities\n",
    "   - A collaborative environment with peers and industry partners\n",
    "   - Excellent opportunities for career advancement in a rapidly evolving field\n",
    "\n",
    "**Q: How can I apply for the MSc Thesis Program?**  \n",
    "A: The best way to apply is to send an email to me at [andrea.munafo@unipi.it](mailto:andrea.munafo@unipi.it) or talk to me during class. For detailed application procedures and deadlines, visit our [MSc website](http://www.aut.ing.unipi.it/index.php/home). We welcome students with strong backgrounds in robotics, AI, or related fields.\n",
    "\n",
    "**Q: Who can I contact for more information about the MSc Thesis Program?**  \n",
    "A: For more details, please feel free to talk to me in class or contact me via email at [andrea.munafo@unipi.it](mailto:andrea.munafo@unipi.it)."
   ]
  },
  {
   "cell_type": "markdown",
   "id": "35cc7f07",
   "metadata": {},
   "source": [
    "## Additional Information\n",
    "\n",
    "**Q: Where can I find more information about the course schedule and materials?**  \n",
    "A: Detailed information is available on the course website under the `Syllabus` and `Course Materials` sections.\n",
    "\n",
    "**Q: Who can I contact for more questions?**  \n",
    "A: For further inquiries, please contact the course coordinator at [andrea.munafo@unipi.it](mailto:andrea.munafo@unipi.it)."
   ]
  },
  {
   "cell_type": "code",
   "execution_count": null,
   "id": "1f230f49",
   "metadata": {},
   "outputs": [],
   "source": []
  }
 ],
 "metadata": {
  "kernelspec": {
   "display_name": "Python 3 (ipykernel)",
   "language": "python",
   "name": "python3"
  }
 },
 "nbformat": 4,
 "nbformat_minor": 5
}
