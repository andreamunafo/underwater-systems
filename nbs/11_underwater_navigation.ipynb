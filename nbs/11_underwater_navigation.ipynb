{
 "cells": [
  {
   "cell_type": "code",
   "execution_count": null,
   "id": "3ad5b5ba",
   "metadata": {},
   "outputs": [],
   "source": [
    "#| default_exp underwater_navigation"
   ]
  },
  {
   "cell_type": "markdown",
   "id": "d8cf1f0b",
   "metadata": {},
   "source": [
    "# Underwater Navigation"
   ]
  },
  {
   "cell_type": "markdown",
   "id": "514063f1",
   "metadata": {},
   "source": [
    "- Electro-magnetic waves are highly attenuated in salt water\n",
    "- GPS, radio, optics do not work but for very short distances\n",
    "- Acoustic waves are the only mean to propagate information through the ocean at distances beyond 50m"
   ]
  },
  {
   "cell_type": "markdown",
   "id": "0c916b33",
   "metadata": {},
   "source": [
    "## A taxonomy of underwater navigation systems\n",
    "\n",
    "<table>\n",
    "    <tr>\n",
    "        <td>\n",
    "            <img src=\"./images/11.underwater-navigation/1.underwater-navigation.png\" alt=\"1.underwater-navigation\" style=\"width: 550px\"/>\n",
    "        </td>\n",
    "    </tr>\n",
    "</table> \n",
    "\n",
    "_Figure: from Paull et al, JOE, 2014_\n",
    "\n",
    "- Note those sensors that are used for terrestrial navigation\n",
    "\n",
    "- Optic sensors are used for short range navigation\n",
    "\n",
    "- Magnetic sensors\n",
    "    - Magnetic sensors can be used for 'terreain-based' navigation where we measure local deviation of the Earth magnetic field\n",
    "    - Use to locally orient (e.g., pipeline following)\n",
    "    \n",
    "- Acoustic modems\n",
    "    - cooperative localisation (e.g., network of robots)\n",
    "    - with surface ship"
   ]
  },
  {
   "cell_type": "markdown",
   "id": "12e219b5",
   "metadata": {},
   "source": [
    "## Geophysical Navigation\n",
    "\n",
    "- Use a map of geophysical bottom properties as aided sensor in navigation\n",
    "- Compare the map value of your estimated position with the measured one (e.g., bathymetry)\n",
    "\n",
    "- Requires appropriate on-board sensors (e.g., multi-beam)\n",
    "\n",
    "- Assumptions:\n",
    "    - the map needs to be enough informative\n",
    "    - the environment is considered invariant\n",
    "\n",
    "    - Can be done also with magnetometers"
   ]
  },
  {
   "cell_type": "markdown",
   "id": "e6f63795",
   "metadata": {},
   "source": [
    "### Geophysical navigation: terrain-aided\n",
    "\n",
    "\n",
    "<table>\n",
    "    <tr>\n",
    "        <td>\n",
    "            <img src=\"./images/10.sonar-practical-applications/44.tan-1.png\" alt=\"TAN\" style=\"width: 650px\"/>            \n",
    "        </td>           \n",
    "    </tr>\n",
    "    <tr>\n",
    "        <td>DYNOPO Cruise, NOC</td>\n",
    "    </tr>    \n",
    "</table> \n",
    "\n",
    "\n",
    "<table>\n",
    "    <tr>\n",
    "        <td>\n",
    "            <img src=\"./images/10.sonar-practical-applications/44.tan-2.png\" alt=\"TAN\" style=\"width: 650px\"/>            \n",
    "        </td>           \n",
    "    </tr>     \n",
    "</table> \n",
    "\n",
    "<table>\n",
    "    <tr>\n",
    "        <td>\n",
    "            <img src=\"./images/10.sonar-practical-applications/44.tan-3.png\" alt=\"TAN\" style=\"width: 650px\"/>            \n",
    "        </td>           \n",
    "    </tr>     \n",
    "</table> \n",
    "<table>\n",
    "    <tr>\n",
    "        <td>\n",
    "            <img src=\"./images/10.sonar-practical-applications/44.tan-4.png\" alt=\"TAN\" style=\"width: 650px\"/>            \n",
    "        </td>           \n",
    "    </tr>     \n",
    "</table> \n",
    "<table>\n",
    "    <tr>\n",
    "        <td>\n",
    "            <img src=\"./images/10.sonar-practical-applications/44.tan-5.png\" alt=\"TAN\" style=\"width: 650px\"/>            \n",
    "        </td>           \n",
    "    </tr>     \n",
    "</table> \n",
    "\n",
    "\n",
    "\n",
    "\n",
    "_Salavasidis et al, \"Terrain‐aided navigation for long‐range AUVs in dynamic under‐mapped environments\", Journal of Field Robotics_\n",
    "\n"
   ]
  },
  {
   "cell_type": "markdown",
   "id": "7fb783a6",
   "metadata": {},
   "source": [
    "## Self Localisation And Mapping (SLAM)\n",
    "\n",
    "- SLAM is a popular and powerful tool in robotics\n",
    "- Underwater landmark definition and recognition is much more challenging\n",
    "  - Optics works at very close range only (can be done when performing inspections)\n",
    "  - Side-scan sonar imagery might differ depending on the relative position of the vehicle and of the objects (think of the difference between the sweep area and near nadir areas)\n",
    "  \n",
    "- Some recent attempts to use SLAM in specific environments\n",
    "- An alternative is using acoustic beacons deployed by vehicles as landmarks of opportunity"
   ]
  },
  {
   "cell_type": "markdown",
   "id": "aefeb374",
   "metadata": {},
   "source": [
    "-----"
   ]
  },
  {
   "cell_type": "markdown",
   "id": "205f6b61",
   "metadata": {},
   "source": [
    "## Base-Line Systems"
   ]
  },
  {
   "cell_type": "markdown",
   "id": "5596d662",
   "metadata": {},
   "source": [
    "### Long-base line (LBL)\n",
    "<table>\n",
    "    <tr>\n",
    "        <td>\n",
    "            <img src=\"./images/11.underwater-navigation/2.lbl.png\" alt=\"LBL\" style=\"width: 350px\"/>            \n",
    "        </td>           \n",
    "    </tr>     \n",
    "</table> \n",
    "\n",
    "### Short-base line (SBL)\n",
    "\n",
    "<table>\n",
    "    <tr>\n",
    "        <td>\n",
    "            <img src=\"./images/11.underwater-navigation/3.sbl.png\" alt=\"SBL\" style=\"width: 350px\"/>            \n",
    "        </td>           \n",
    "    </tr>     \n",
    "</table> \n",
    "\n",
    "\n",
    "### Ultra short base line (USBL)\n",
    "<table>\n",
    "    <tr>\n",
    "        <td>\n",
    "            <img src=\"./images/11.underwater-navigation/4.usbl.png\" alt=\"USBL\" style=\"width: 350px\"/>            \n",
    "        </td>           \n",
    "    </tr>     \n",
    "</table> \n",
    "\n",
    "_Figures: From Paull et all, JOE, 2014_"
   ]
  },
  {
   "cell_type": "markdown",
   "id": "6cb285aa",
   "metadata": {},
   "source": [
    "- Vehicle localises itself with respect to acoustic beacons\n",
    "- Beacons transmit signals regularly (scheduled times)\n",
    "- Synchronised clocks of beacons and vehicle\n",
    "    - Not necessarily easy to achieve, especially for long missions\n",
    "    - Usage of atomic clocks to limit clock drifts (temperature control)\n",
    "    \n",
    "- Assumes vehicle does not move too much between transmissions\n",
    "- Inverted systems when the vehicle transmits and beacons localise the vehicle\n",
    "\n",
    "- Difference betwen One-Way Travel Time (OWTT) and Two-Way Travel Time (TWTT)\n",
    "- LBL requires deployment and calibration which is not trivial\n",
    "- SBL alleviates some of this issue deploying transponders from the ship directly\n",
    "- USBL uses similar concept. Having multiple hydrophones close together form an _antenna_ and obtain to determine the bearing from the vehicle"
   ]
  },
  {
   "cell_type": "markdown",
   "id": "7c659a71",
   "metadata": {},
   "source": [
    "- Localisation obtained measuring the range from a set of transponders which are in known locations\n",
    "- Range calculated as Time-of-Arrival of acoustic signals\n",
    "- Speed of sound is required and ray path corrections might be needed\n",
    "    - Think of surface ship and vehicle at 400m (there is a thermocline)\n",
    "- The distance between two transponders is the base-line"
   ]
  },
  {
   "cell_type": "markdown",
   "id": "d267e3a2",
   "metadata": {},
   "source": [
    "### Long-base line systems\n",
    "\n",
    "- Base-line length: 500m - 5000m\n",
    "- Frequency: 10-40 kHz\n",
    "- 2 Way ToA or TDoA (no need of clock synchronisation)\n",
    "- Different frequencies can be used to identify transponders and have parallel transmissions\n",
    "- Transponders are usually moored at the bottom\n",
    "- Geo-referentiation of the transponders through a calibration procedure from ship\n"
   ]
  },
  {
   "cell_type": "markdown",
   "id": "edb3f296",
   "metadata": {},
   "source": [
    "Long baseline navigation (LBL) is a method of determining the position of a underwater vehicle or diver using a series of acoustic transponders that are strategically placed on the ocean floor. The transponders emit a unique acoustic signal that can be detected by a transceiver on the underwater vehicle or diver. By measuring the time it takes for the signal to travel from the transponder to the transceiver, and knowing the speed of sound in water, the distance between the transponder and the transceiver can be calculated. By measuring the distance to multiple transponders, the position of the underwater vehicle or diver can be determined using trilateration. LBL is commonly used in oceanographic research, underwater exploration, and commercial diving operations."
   ]
  },
  {
   "cell_type": "markdown",
   "id": "892a7361",
   "metadata": {},
   "source": [
    "### Hyperbolic and Spherical Navigation\n",
    "\n",
    "- Hyperbolic navigation and spherical navigation are both methods of determining the position of a vehicle or diver using acoustic signals, however they differ in the way they process the information.\n",
    "\n",
    "- Spherical navigation, also known as time-of-arrival (TOA) navigation, relies on measuring the time of arrival (TOA) of a signal at a single receiver. By measuring the TOA at a single receiver, the distance between the vehicle or diver and the receiver can be determined using the speed of sound in water. The position of the vehicle or diver can be determined by using a process called multilateration, which involves measuring the distance to multiple emitters.\n",
    "\n",
    "\n",
    "- Hyperbolic navigation, also known as time-difference-of-arrival (TDOA) navigation, relies on measuring the time difference of arrival (TDOA) of a signal at two or more receivers. By measuring the TDOA at multiple receivers, the position of the vehicle or diver can be determined using hyperbolic lines of position (LOPs)."
   ]
  },
  {
   "cell_type": "markdown",
   "id": "061ca8cf",
   "metadata": {},
   "source": [
    "### Localisation precision\n",
    "\n",
    "- Localisation precision depends on vehicle location with respect to the transducers\n",
    "- Bingham's rule of thumb for Horizontal Dilution of Precisionn (HDoP) for spherical navigation (IROS, 2009)\n",
    "    - Rule is exact when doing trilateration, 3 transponders and gaussian noise\n",
    "    - Gaussian noise is rarely true\n",
    "    \n",
    "- HDoP is the error in the horizontal position compared to the measurement error\n",
    "$$\n",
    "HDoP \\approx 2\\frac{D}{BL}\n",
    "$$\n",
    "\n",
    "where\n",
    "$$\n",
    "HDoP = \\frac{\\Delta(Horizontal position)}{\\Delta(Measurement)}\n",
    "$$\n",
    "\n",
    "Where \n",
    "- $D$ is the distance of the vehicle from the baricenter of the transponder configuration (e.g., transponders form an equilateral triangle: baricentre of triangle D=0)\n",
    "- $BL$ is the length of the baseline\n",
    "\n",
    "We can reduce $HDoP$ either with the vehicle in the baricentre or with long baselines\n",
    "\n",
    "- Hyperbolic navigation uses time difference of arrival at multiple receivers to calculate position where as Spherical navigation uses time of arrival at a single receiver and uses multilateration to calculate position."
   ]
  },
  {
   "cell_type": "markdown",
   "id": "cf3db0a3",
   "metadata": {},
   "source": [
    "### Issues\n",
    "\n",
    "- When we enlarge the baseline we have refraction: Snell's law must be accounted for.\n",
    "    - Requires computation (Casalino et al, J.ISR 2011)\n",
    "- Outliers due to multipath\n",
    "- Missing data due to environmental fluctations\n",
    "\n",
    "Typical performance\n",
    "- Accuracy: 0.1% - 2% of the acoustic path\n",
    "- The higher the frequency, the greater the accuracy, the shorter the baseline (attenuation)\n",
    "\n",
    "- Precision: standard deviation between 0.2m -10m (Kinsey et al, MCMC 2006)\n",
    "    - The longer the baseline, the higher the standard deviation (e.g., higher multipath, larger environmental variations, etc.)\n"
   ]
  },
  {
   "cell_type": "markdown",
   "id": "d6f68055",
   "metadata": {},
   "source": [
    "### Reversed LBL\n",
    "\n",
    "- Transponders are on the surface and hence with GPS\n",
    "   - No need for calibration\n",
    "- Position available to a centre station, not to the vehicle   \n",
    "- Buoys need a radio antenna as well to communicate its measurements\n",
    "- Navigation is refined after the mission\n",
    "\n",
    "- Requires clock synchronisation\n",
    "\n"
   ]
  },
  {
   "cell_type": "markdown",
   "id": "a9484956",
   "metadata": {},
   "source": [
    "<table>\n",
    "    <tr>\n",
    "        <td>\n",
    "            <img src=\"./images/11.underwater-navigation/5.inverse-lbl.png\" alt=\"5.inverse-lbl\" style=\"width: 1050px\"/>            \n",
    "        </td>           \n",
    "    </tr>     \n",
    "</table> "
   ]
  },
  {
   "cell_type": "markdown",
   "id": "43e675da",
   "metadata": {},
   "source": [
    "<table>\n",
    "    <tr>\n",
    "        <td>\n",
    "            <img src=\"./images/11.underwater-navigation/5.inverse-lbl-1.png\" alt=\"5.inverse-lbl\" style=\"width: 550px\"/>            \n",
    "        </td>  \n",
    "        <td>\n",
    "            <img src=\"./images/11.underwater-navigation/5.inverse-lbl-2.png\" alt=\"5.inverse-lbl\" style=\"width: 550px\"/>            \n",
    "        </td>  \n",
    "    </tr>     \n",
    "</table> \n",
    "\n",
    "_Figure: From Alcocer, 2006 (Left), Caiti, 2001 (Right)_\n",
    "\n",
    "- 0.5m accuracy - points are close to the truevalue (green dot)\n",
    "- 1m Precision"
   ]
  },
  {
   "cell_type": "markdown",
   "id": "4aac197d",
   "metadata": {},
   "source": [
    "### Short Base Line (SBL)\n",
    "\n",
    "- Baseline 20-100m\n",
    "- Installed on ship hull or fixed structures\n",
    "- Calibration in dry-dock\n",
    "\n",
    "- Easy integration with on-board GPS\n",
    "  - Compensation of ship motion needed\n",
    "  \n",
    "- Rarely used today\n",
    "- Still some applications for special systems and cases\n",
    "  - WHOI under-ice monitoring of AUVs\n",
    "  \n",
    "- Performance includes with transponders separation\n",
    "- Same characteristics of LBL\n",
    "\n"
   ]
  },
  {
   "cell_type": "markdown",
   "id": "3e36477f",
   "metadata": {},
   "source": [
    "### Ultra Short Base Line (USBL)\n",
    "\n",
    "- Baseline: <0.1m\n",
    "- Installed on ship hull of deployed from side (portable)\n",
    "\n",
    "- Range and bearings interrogating transponders on the vehicle\n",
    "- It is an array! Beamforming / Phase information\n",
    "\n",
    "- Easy integration with on-board GPS, easy of deployment, no calibration needed for portable systems\n",
    "  - Compensation of ship motion needed\n",
    "  \n",
    "- The ship knows the vehicle position, the vehicle does not\n",
    "  - USBL with communication capabilities to send back the position\n",
    "  - USBL main transponder installed on the vehicle (inverted USBL)"
   ]
  },
  {
   "cell_type": "markdown",
   "id": "5cdee367",
   "metadata": {},
   "source": [
    "### Example - Sonardyne SCOUT\n",
    "\n",
    "<table>\n",
    "    <tr>\n",
    "        <td>\n",
    "            <img src=\"./images/11.underwater-navigation/6.usbl.png\" alt=\"6.usbl Sonardyne\" style=\"width: 550px\"/>            \n",
    "        </td>  \n",
    "    </tr>     \n",
    "</table> \n",
    "\n",
    "- Frequency: 35-55kHz\n",
    "- Operating range: 500m\n",
    "- Accuracy: 2.7% of slant range"
   ]
  },
  {
   "cell_type": "markdown",
   "id": "8343a96b",
   "metadata": {},
   "source": [
    "## HiPAP (Kongsberg)\n",
    "\n",
    "- Developed as part of the Hugin AUV programme in the mid-90s\n",
    "- High performance, transferred to almost all Kongsberg positioning systems\n",
    "- Sometime called Super LBL\n",
    "\n",
    "- 240/280 elements to form a bulb array\n",
    "\n",
    "<table>\n",
    "    <tr>\n",
    "        <td>\n",
    "            <img src=\"./images/11.underwater-navigation/7.Hipap.jpg\" alt=\"HiPaP array\" style=\"width: 550px\"/>           \n",
    "        </td>  \n",
    "        <td>\n",
    "            <img src=\"./images/11.underwater-navigation/7.Hipap-1.png\" alt=\"HiPaP transponders\" style=\"width: 350px\"/>           \n",
    "        </td>  \n",
    "    </tr>     \n",
    "</table> \n",
    "\n",
    "[HiPAP High Precision Acoustic Positioning](https://pdf.nauticexpo.com/pdf/kongsberg-maritime/hipap-high-precision-acoustic-positioning/31233-38089.html)"
   ]
  },
  {
   "cell_type": "markdown",
   "id": "7e51c46d",
   "metadata": {},
   "source": [
    "#### Cymbal Acoustic Protocol\n",
    "\n",
    "\n",
    "<table>\n",
    "    <tr>\n",
    "        <td>\n",
    "            <img src=\"./images/11.underwater-navigation/8.cymbal.png\" alt=\"8.cymbal\" style=\"width: 550px\"/>           \n",
    "        </td>           \n",
    "    </tr>     \n",
    "</table> \n",
    "\n",
    "_Figure: examples of  time-frequency plots of Cymbal signals for navigation and communication. High intensity signals are from HiPAP, followed by weaker replies from a remote transponder (cNode)_\n"
   ]
  },
  {
   "cell_type": "markdown",
   "id": "29331ad4",
   "metadata": {},
   "source": [
    "### Measurement compensation\n",
    "\n",
    "Positions calculated from the raw measurements are influenced by variable sound velocity through the water column. The variable sound velocity causes an error in both range measurements and the angular measurements. By use of a sound profile, the system can correct these errors.\n",
    "\n",
    "<table>\n",
    "    <tr>\n",
    "        <td>\n",
    "            <img src=\"./images/11.underwater-navigation/9.hipap-rays.png\" alt=\"9.hipap-rays\" style=\"width: 550px\"/>           \n",
    "        </td>           \n",
    "    </tr>     \n",
    "</table> \n",
    "\n",
    "\n",
    "The sound velocity values may be measured by a probe and transferred to the system. If the depth of the target (transponder) is known either by depth sensor in the transponder or by an ROV depth sensor, these data can be transferred to the system and they will be used in the compensation.\n",
    "The range calculation is compensated for the error caused by different sound velocities in the water column, and for the extra propagation path caused by the ray bending. The angular measurements are compensated for the ray bending.\n",
    "The compensation is used in all positioning modes.\n",
    "\n",
    "From _HiPAP High Precision Acoustic Positioning Product description._\n",
    "\n",
    "- No reply problems - how can we explain it?"
   ]
  },
  {
   "cell_type": "markdown",
   "id": "1bc45acb",
   "metadata": {},
   "source": [
    "### HiPAP 500 Technical Specifications\n",
    "\n",
    "<table>\n",
    "    <tr>\n",
    "        <td>\n",
    "            <img src=\"./images/11.underwater-navigation/10.hipap-specs.png\" alt=\"10.hipap-specs\" style=\"width: 650px\"/>           \n",
    "        </td>           \n",
    "    </tr>     \n",
    "</table> \n",
    "\n",
    "- Angle accuracy depends on Signal to Noise Ratio\n",
    "- Note how reported performance are based on a number of assumptions\n",
    "- Assumptions are not always reported in the datasheet\n",
    "\n",
    "- **HiPAP is also an acoustic modem**\n",
    "\n",
    "- Think of HiPAP-AUV operations\n",
    "\n",
    "    - AUV can send messages to the command and control\n",
    "    - Command and control can send messages to vehicle\n",
    "    - Quality of data collected (rare and compressed images of collected data sent to C2)"
   ]
  },
  {
   "cell_type": "markdown",
   "id": "89c6436f",
   "metadata": {},
   "source": [
    "## Network-based Localisation and Navigation"
   ]
  },
  {
   "cell_type": "markdown",
   "id": "2a591be2",
   "metadata": {},
   "source": [
    "<table>\n",
    "    <tr>\n",
    "        <td>\n",
    "            <img src=\"./images/11.underwater-navigation/18.lcat-1.png\" alt=\"Network-based navigation\" style=\"width: 650px\"/>           \n",
    "        </td>           \n",
    "    </tr>    \n",
    "    <td>\n",
    "            <img src=\"./images/11.underwater-navigation/18.lcat-4.png\" alt=\"Network-based navigation\" style=\"width: 450px\"/>           \n",
    "        </td>     \n",
    "</table> "
   ]
  },
  {
   "cell_type": "markdown",
   "id": "840f7f75",
   "metadata": {},
   "source": [
    "<table>\n",
    "    <tr>\n",
    "        <td>\n",
    "            <img src=\"./images/11.underwater-navigation/18.lcat-2.png\" alt=\"Network-based navigation\" style=\"width: 650px\"/>           \n",
    "        </td>     \n",
    "        <td>\n",
    "            <img src=\"./images/11.underwater-navigation/18.lcat-3.png\" alt=\"Network-based navigation\" style=\"width: 250px\"/>           \n",
    "        </td> \n",
    "    </tr>     \n",
    "</table> "
   ]
  },
  {
   "cell_type": "markdown",
   "id": "c8542712",
   "metadata": {},
   "source": [
    "<table>\n",
    "    <tr>\n",
    "        <td>\n",
    "            <img src=\"./images/11.underwater-navigation/18.lcat-5.png\" alt=\"Network-based navigation\" style=\"width: 650px\"/>           \n",
    "        </td>           \n",
    "    </tr>     \n",
    "</table> \n",
    "\n",
    "Fenucci et al, Ad hoc Acoustic Network Aided Localization for micro-AUVs, 2022"
   ]
  },
  {
   "cell_type": "markdown",
   "id": "87696c86",
   "metadata": {},
   "source": [
    "#### Comments\n",
    "\n",
    "- Moving calculations at application level dramatically improves flexibility\n",
    "- Autonomy and Navigation can be explicitly linked\n",
    "\n",
    "- Usage of different MAC (Medium Access Control) leads to different performance"
   ]
  },
  {
   "cell_type": "markdown",
   "id": "cbd3895e",
   "metadata": {},
   "source": [
    "## Underwater Communications\n",
    "\n",
    "- Underwater Acoustic Communications are difficult due to:\n",
    "  - Limited bandwidth as range increases \n",
    "     - Longer range require lower frequencies\n",
    "     - Larger bandwidth would achieve higher resolution\n",
    "     - Narrow bandwidth means less information we can transmit (lower bitrate)\n",
    "     - Usual resolution-range trade-off\n",
    "  - Channel dependent performance (source-receiver geometry, environment)\n",
    "     - E.g., shadow zones\n",
    "  \n",
    "- Most Systems\n",
    "  - Direct-Sequence Spread Spectrum (which enhanced SNR - same method as GPS)\n",
    "  - Estimation of the channel transfer function\n",
    "    - Effectively the Transmission Loss (TL) at the various frequencies\n",
    "    - Depends on the environment\n",
    "    - Typically each acoustic message starts with a preamble (same bits)\n",
    "      - Distortion of this known message due to TF of the channel\n",
    "      - Continuous channel estimation\n",
    "\n",
    "- Some technology is available in US only\n",
    "  - WHOI, Teledyne Benthos\n",
    "  \n",
    "- Today acoustic modems tend to be coupled with USBL  "
   ]
  },
  {
   "cell_type": "markdown",
   "id": "591fb8a5",
   "metadata": {},
   "source": [
    "<table>\n",
    "    <tr>\n",
    "        <td>\n",
    "            <img src=\"./images/11.underwater-navigation/11.acoustic-modems-1.png\" alt=\"11.acoustic-modems\" style=\"width: 650px\"/>           \n",
    "        </td>           \n",
    "    </tr>     \n",
    "</table> \n",
    "\n",
    "- Note the very limited bitrate\n",
    "- Nominal performance vs operational performance (bitrate, range)\n",
    "\n",
    "- Robots need to be careful about information that they transmit (careful selection of data)"
   ]
  },
  {
   "cell_type": "markdown",
   "id": "a1002567",
   "metadata": {},
   "source": [
    "### What can you theoretically achieve\n",
    "\n",
    "<table>\n",
    "    <tr>\n",
    "        <td>\n",
    "            <img src=\"./images/11.underwater-navigation/12.theoretical-limits.png\" alt=\"12.theoretical-limits\" style=\"width: 650px\"/>           \n",
    "        </td>           \n",
    "    </tr>     \n",
    "</table> \n",
    "\n",
    "- Source power and optimal power to have 20dB SNR (lower SNR means lower performance)\n",
    "\n",
    "- The plot tells that (for ex.) at 1km, max capacity is 100 kbps. We cannot go faster than this.\n",
    "- Commercial modems are below this limit but even the optical case is still very limited\n",
    "   - We cannot enlarge the bandwidth to have better capacity (bandwidth is limited by all the factors that we have studies already - e.g., range less than desired)\n",
    "\n",
    "\n",
    "From _Caiti, Munafo, Crisostomi, Physical Characterisation of Acoustic Communication Channel Properties, 2010_"
   ]
  },
  {
   "cell_type": "markdown",
   "id": "3cbf6395",
   "metadata": {},
   "source": [
    "## Robustness\n",
    "\n",
    "- Even with degraded performance, some equipment proven reliable in repeated field tests\n",
    "- WHOI, Evologics, Teledyne Benthos, Tritech, LinkQuest \n",
    "- Evologics modems have ranging and USBL capabilities\n",
    "- These capabilities open up a series of possibilities for localization, even with AUV teams"
   ]
  },
  {
   "cell_type": "markdown",
   "id": "19ca579a",
   "metadata": {},
   "source": [
    "-----"
   ]
  },
  {
   "cell_type": "markdown",
   "id": "721a33d9",
   "metadata": {},
   "source": [
    "## Doppler Velocity logger"
   ]
  },
  {
   "cell_type": "markdown",
   "id": "861895d6",
   "metadata": {},
   "source": [
    "- A Doppler velocity logger (DVL) uses the Doppler effect to measure the velocity of a moving object. \n",
    "- The Doppler effect is a change in frequency or wavelength of a wave caused by the motion of the source or the observer.\n",
    "\n",
    "- A DVL typically works by emitting a high-frequency sound wave (acoustic pulses) and measuring the frequency shift of the returning echoes. \n",
    "- The frequency shift, also known as the Doppler shift, is directly proportional to the velocity of the object. By measuring the Doppler shift of multiple echoes and using trigonometric calculations, the DVL can determine the velocity of the object in multiple dimensions (e.g. forward and lateral velocity, or velocity relative to the bottom).\n",
    "\n",
    "- Used to measure the velocity of an object in water by emitting acoustic pulses and measuring the Doppler shift of the echoes that reflect off the seafloor or other objects in the water. \n",
    "\n",
    "- DVLs are commonly used in a variety of applications such as underwater navigation, oceanography, hydrographic surveying, and underwater mapping. \n",
    "\n",
    "- A DVL is an acoustic sensor that estimates velocity relative to the sea bottom. \n",
    "- Achieved by sending a long pulse along a minimum of three acoustic beams, each pointing in a different direction. \n",
    "- Typically, this produces estimates of velocity converted into an XYZ coordinate frame of reference – the DVL’s frame of reference. \n",
    "- Together with a heading estimate, these velocity estimates may be integrated over the ping interval to estimate a step-by-step change of position - i.e. displacement = velocity × time step.\n",
    "\n",
    "\n",
    "- Measurement of velocity relative to the seabed from doppler shift of acoustic echos\n",
    "- Emission of very high frequency signals (200 KHz – MHz)\n",
    "- Originally designed as a system to measure the sea current from backscatter of particles in the water column\n",
    "\n",
    "<table>\n",
    "    <tr>\n",
    "        <td>\n",
    "            <img src=\"./images/11.underwater-navigation/13.dvl-1.png\" alt=\"13.dvl-1\" style=\"width: 650px\"/>           \n",
    "        </td>  \n",
    "        <td>\n",
    "            <img src=\"./images/11.underwater-navigation/13.dvl-2.png\" alt=\"13.dvl-2\" style=\"width: 650px\"/>           \n",
    "        </td>          \n",
    "    </tr>     \n",
    "</table> "
   ]
  },
  {
   "cell_type": "markdown",
   "id": "86fe342d",
   "metadata": {},
   "source": [
    "<table>\n",
    "    <tr>\n",
    "    <td>\n",
    "            <img src=\"./images/11.underwater-navigation/14.Bo-awac+frame91.jpg\" alt=\"14.Bo-awac+frame91.jpg\" style=\"width: 650px\"/>           \n",
    "        </td> \n",
    "        <td>\n",
    "            <img src=\"./images/11.underwater-navigation/13.dvl-3.png\" alt=\"13.dvl-3\" style=\"width: 650px\"/>           \n",
    "        </td> \n",
    " </tr>     \n",
    "</table>         \n"
   ]
  },
  {
   "cell_type": "markdown",
   "id": "a69ed325",
   "metadata": {},
   "source": [
    "### Doppler Equation\n",
    "\n",
    "- The Doppler shift is directly related to the velocity of an object. \n",
    "- The Doppler shift is the change in frequency or wavelength of a wave caused by the motion of the source or the observer. \n",
    "_When an object is moving towards a stationary observer, the frequency of the waves emitted by the object will appear to be higher (known as a blue shift) than it actually is. Conversely, when an object is moving away from a stationary observer, the frequency of the waves emitted by the object will appear to be lower (known as a red shift) than it actually is._\n",
    "\n",
    "In the case of a Doppler velocity logger (DVL), the instrument emits a high-frequency sound wave and measures the frequency shift of the returning echoes. The DVL then uses the measured frequency shift, also known as the Doppler shift, to calculate the velocity of the object.\n",
    "\n",
    "The Doppler velocity logger (DVL) measures the velocity of an object by comparing the frequency of the emitted wave and the frequency of the wave that is reflected back from the moving object. The difference in these frequencies is directly proportional to the velocity of the object.\n",
    "\n",
    "The relationship between the Doppler shift and the velocity of an object is given by the Doppler equation, which relates the velocity of the object to the ratio of the frequency of the emitted wave to the frequency of the reflected wave. \n",
    "The equation takes into account the speed of sound in the medium and the angle between the object's velocity vector and the line connecting the object to the observer.\n",
    "\n",
    "\n",
    "<table>\n",
    "    <tr>\n",
    "    <td>\n",
    "            <img src=\"./images/11.underwater-navigation/15.doppler-equation.png\" alt=\"15.doppler-equation.png\" style=\"width: 650px\"/>           \n",
    "        </td>         \n",
    " </tr>     \n",
    "</table>   \n",
    "\n",
    "\n",
    "The general form of the Doppler equation:\n",
    "\n",
    " $$\n",
    " f = \\frac{c\\pm V_r}{c\\pm V_s}f_0\n",
    " $$\n",
    " \n",
    "C = propagation speed of waves in the medium;\n",
    "\n",
    "Vr = speed of the receiver relative to the medium, +c if the receiver is moving towards the source, -c if the receiver is moving away.\n",
    "\n",
    "Vc = speed of the source relative to the medium, +c if the source is moving away -c if the source is moving towards the receiver.\n",
    "\n",
    "\n"
   ]
  },
  {
   "cell_type": "markdown",
   "id": "20116a29",
   "metadata": {},
   "source": [
    "## Acoustic Doppler Current Profiler (ADCP)\n",
    "\n",
    "- Operated from surface or moored at the bottom\n",
    "\n",
    "<table>\n",
    "    <tr>\n",
    "    <td>\n",
    "            <img src=\"./images/11.underwater-navigation/16.adcp.jpg\" alt=\"16.adcp.jpg\" style=\"width: 450px\"/>           \n",
    "        </td>         \n",
    " </tr>     \n",
    "</table>   \n",
    "\n",
    "_Figure from [ADCP | WHOI]9https://www.whoi.edu/what-we-do/explore/instruments/instruments-sensors-samplers/acoustic-doppler-current-profiler-adcp/)_\n",
    "\n",
    "\n",
    "An Acoustic Doppler Current Profiler (ADCP) is a type of instrument that uses the Doppler effect to measure the velocity of water currents at different depths. It operates by emitting a series of high-frequency sound pulses, which travel through the water and are reflected back by particles or scatterers in the water. The ADCP then measures the Doppler shift of the returning echoes, which is directly proportional to the velocity of the water current.\n",
    "\n",
    "The operating principle of an ADCP can be broken down into several steps:\n",
    "\n",
    "- Transmitting: The ADCP emits a series of high-frequency sound pulses, which travel through the water and are reflected back by particles or scatterers in the water.\n",
    "- Receiving: The ADCP receives the echoes of the sound pulses, which have been reflected back by the particles or scatterers in the water.\n",
    "- Doppler shift measurement: The ADCP measures the Doppler shift of the returning echoes, which is directly proportional to the velocity of the water current. The ADCP uses the Doppler equation to determine the velocity of the water current.\n",
    "- Beamforming: The ADCP uses a beamforming algorithm to determine the direction of the water current. This is done by emitting the sound pulses in different directions and measuring the Doppler shift of the returning echoes in each direction.\n",
    "- Profiling: The ADCP uses the measured velocities and directions of the water current to profile the current at different depths. This is done by emitting the sound pulses at different depths and measuring the Doppler shift of the returning echoes at each depth.\n",
    "- Data processing: The ADCP processes the data and generates a current velocity profile, which shows the velocity of the water current at different depths\n",
    "\n",
    "\n",
    "In summary, an Acoustic Doppler Current Profiler (ADCP) uses the Doppler effect to measure the velocity of water currents at different depths by emitting a series of high-frequency sound pulses, measuring the Doppler shift of the returning echoes, and using the data to profile the current at different depths.\n",
    "\n",
    "\n",
    "<table>\n",
    "    <tr>\n",
    "    <td>\n",
    "            <img src=\"./images/11.underwater-navigation/17.sdcp-drawing.png\" alt=\"17.sdcp-drawing\" style=\"width: 450px\"/>           \n",
    "        </td>         \n",
    " </tr>     \n",
    "</table>  "
   ]
  },
  {
   "cell_type": "markdown",
   "id": "4a969f6c",
   "metadata": {},
   "source": [
    "<table>\n",
    "    <tr>\n",
    "    <td>\n",
    "            <img src=\"./images/11.underwater-navigation/fig1-hires.jpg\" alt=\"fig1-hires\" style=\"width: 450px\"/>           \n",
    "        </td>       \n",
    "        <td>\n",
    "            <img src=\"./images/11.underwater-navigation/fig2-hires.jpg\" alt=\"fig1-hires\" style=\"width: 450px\"/>           \n",
    "        </td>       \n",
    " </tr>     \n",
    "</table>  \n"
   ]
  },
  {
   "cell_type": "code",
   "execution_count": null,
   "id": "f28a0a94",
   "metadata": {},
   "outputs": [],
   "source": []
  }
 ],
 "metadata": {
  "kernelspec": {
   "display_name": "Python 3 (ipykernel)",
   "language": "python",
   "name": "python3"
  }
 },
 "nbformat": 4,
 "nbformat_minor": 5
}
