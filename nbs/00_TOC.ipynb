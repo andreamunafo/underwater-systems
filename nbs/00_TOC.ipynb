{
 "cells": [
  {
   "cell_type": "markdown",
   "id": "5e37960d",
   "metadata": {},
   "source": [
    "<div style=\"page-break-before: always;\"></div>"
   ]
  },
  {
   "cell_type": "markdown",
   "id": "719bdd36",
   "metadata": {},
   "source": [
    "# Table of Contents"
   ]
  },
  {
   "cell_type": "code",
   "execution_count": null,
   "id": "7eb6ed8d",
   "metadata": {},
   "outputs": [],
   "source": [
    "from bin.toc import display_table_of_contents"
   ]
  },
  {
   "cell_type": "code",
   "execution_count": null,
   "id": "c1f0a095",
   "metadata": {},
   "outputs": [
    {
     "data": {
      "text/html": [
       "<style>ul { list-style-type: circle; } body { font-family: 'Arial'; }</style><h2 style='font-size: 18px;'>Notebooks</h2><ul><li><a href='00_FAQ.ipynb' target='_blank' style='font-size: 18px;'>00_FAQ.ipynb</a></li><li><a href='00_Getting_started_with_Python_and_Jupyter_Notebook.ipynb' target='_blank' style='font-size: 18px;'>00_Getting_started_with_Python_and_Jupyter_Notebook.ipynb</a></li><li><a href='00_MSc_Thesis_Program.ipynb' target='_blank' style='font-size: 18px;'>00_MSc_Thesis_Program.ipynb</a></li><li><a href='00_Syllabus.ipynb' target='_blank' style='font-size: 18px;'>00_Syllabus.ipynb</a></li><li><a href='00_TOC.ipynb' target='_blank' style='font-size: 18px;'>00_TOC.ipynb</a></li><li><a href='01_intro.ipynb' target='_blank' style='font-size: 18px;'>01_intro.ipynb</a></li><li><a href='02_ocean_acoustics.ipynb' target='_blank' style='font-size: 18px;'>02_ocean_acoustics.ipynb</a></li><li><a href='03_the_acoustic_channel.ipynb' target='_blank' style='font-size: 18px;'>03_the_acoustic_channel.ipynb</a></li><li><a href='04_ray_tracing.ipynb' target='_blank' style='font-size: 18px;'>04_ray_tracing.ipynb</a></li><li><a href='05_environmental-variability.ipynb' target='_blank' style='font-size: 18px;'>05_environmental-variability.ipynb</a></li><li><a href='06_oceanographic_sensors.ipynb' target='_blank' style='font-size: 18px;'>06_oceanographic_sensors.ipynb</a></li><li><a href='07_the_wave_equation.ipynb' target='_blank' style='font-size: 18px;'>07_the_wave_equation.ipynb</a></li><li><a href='08_acoustic_systems.ipynb' target='_blank' style='font-size: 18px;'>08_acoustic_systems.ipynb</a></li><li><a href='09_the_sonar_equations.ipynb' target='_blank' style='font-size: 18px;'>09_the_sonar_equations.ipynb</a></li><li><a href='10_sonar_practical_applications.ipynb' target='_blank' style='font-size: 18px;'>10_sonar_practical_applications.ipynb</a></li><li><a href='11_underwater_navigation.ipynb' target='_blank' style='font-size: 18px;'>11_underwater_navigation.ipynb</a></li><li><a href='12_References.ipynb' target='_blank' style='font-size: 18px;'>12_References.ipynb</a></li><li><a href='news.ipynb' target='_blank' style='font-size: 18px;'>news.ipynb</a></li></ul>"
      ],
      "text/plain": [
       "<IPython.core.display.HTML object>"
      ]
     },
     "metadata": {},
     "output_type": "display_data"
    }
   ],
   "source": [
    "# Call this in your notebook to display the table of contents\n",
    "display_table_of_contents(notebook_dir='.', exclude_list=['index.ipynb'], font_size='18px')"
   ]
  },
  {
   "cell_type": "code",
   "execution_count": null,
   "id": "811e6bd7",
   "metadata": {},
   "outputs": [],
   "source": []
  }
 ],
 "metadata": {
  "kernelspec": {
   "display_name": "Python 3 (ipykernel)",
   "language": "python",
   "name": "python3"
  }
 },
 "nbformat": 4,
 "nbformat_minor": 5
}
