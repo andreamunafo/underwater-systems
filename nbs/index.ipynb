{
 "cells": [
  {
   "cell_type": "markdown",
   "metadata": {},
   "source": [
    "# Underwater Systems"
   ]
  },
  {
   "cell_type": "markdown",
   "metadata": {},
   "source": [
    "The course provides an extensive foundation in oceanic engineering, covering both theoretical concepts and practical applications. \n",
    "\n",
    "It is part of the Master Degree in Robotics and Automation Engineering, University of Pisa, Italy"
   ]
  },
  {
   "cell_type": "markdown",
   "metadata": {},
   "source": [
    "Teaching semester: Spring 2024\n",
    "\n",
    "Language of instruction: Italian and English\n",
    "\n",
    "\n",
    "## Course coordinators:\n",
    "Riccardo Costanzi and Andrea Munafo\n"
   ]
  },
  {
   "cell_type": "markdown",
   "metadata": {},
   "source": [
    "## Facts\n",
    "- Version: 1\n",
    "- Credits: 6\n",
    "- Study level: Master's degree level"
   ]
  },
  {
   "cell_type": "markdown",
   "metadata": {},
   "source": [
    "## How to use"
   ]
  },
  {
   "cell_type": "markdown",
   "metadata": {},
   "source": [
    "You can open and run each notebook in any order your prefer depending on your interest."
   ]
  },
  {
   "cell_type": "markdown",
   "metadata": {},
   "source": [
    "## Install\n",
    "\n",
    "The notebooks run with python 3.10 and use the following python libraries:\n",
    "\n",
    "- numpy\n",
    "- pandas\n",
    "- matplotlib\n",
    "\n",
    "Notebook `00_Getting_started_with_Python_and_Jupyter_Notebook.ipynb` provides a short introduction on how to set up an anaconda environment to get you started.\n",
    "\n",
    "To use the notebooks you _might_ need to install the feedback control package. You can do this entering this into your terminal:\n",
    "\n",
    "    pip install -e '.[dev]'\n",
    "    \n",
    "This is the recommended way to make a Python package importable from anywhere in your current environment:\n",
    "\n",
    "- `-e` – short for “editable”, lets you immediately use changes made to your package during development.\n",
    "- `.` – refers to the current directory.\n",
    "- `[dev]` – includes “development” requirements: other packages that your notebooks use solely for documentation or testing.    "
   ]
  },
  {
   "cell_type": "markdown",
   "metadata": {},
   "source": [
    "## Acknowledgements and references\n",
    "\n",
    "- Relevant textbooks and resources used to prepare these notebooks are reported in `00_Syllabus.ipynb`. \n",
    "\n",
    "## Frequently Asked Questions (FAQ)\n",
    "\n",
    "- see notebook `00_FAQ.ipynb`"
   ]
  },
  {
   "cell_type": "code",
   "execution_count": null,
   "metadata": {},
   "outputs": [],
   "source": []
  }
 ],
 "metadata": {
  "kernelspec": {
   "display_name": "Python 3 (ipykernel)",
   "language": "python",
   "name": "python3"
  }
 },
 "nbformat": 4,
 "nbformat_minor": 4
}
