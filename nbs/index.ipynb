{
 "cells": [
  {
   "cell_type": "code",
   "execution_count": null,
   "metadata": {},
   "outputs": [],
   "source": [
    "#| hide\n",
    "# from underwater_systems.overview import *"
   ]
  },
  {
   "cell_type": "markdown",
   "metadata": {},
   "source": [
    "# Underwater Systems\n",
    "\n",
    "> Underwater Systems, Master Degree in Robotics and Automation Engineering, University of Pisa, Italy"
   ]
  },
  {
   "cell_type": "markdown",
   "metadata": {},
   "source": [
    "## Course content\n",
    "The course discusses key properties of the ocean sea water, with the objective to serve as basis for the understanding of sound transmission in the oceans. \n",
    "\n",
    "Then it explains how this knowledge is applied in underwater instruments for positioning, signal transfer, mapping, measurements and ocean sampling. \n",
    "\n",
    "Primarily, we will talk about Sensing, Communications and Autonomy\n",
    "- Effective autonomy can compensate for limits in sensing and communications.\n",
    "- Effective communications can compensate for limits in sensing and autonomy.\n",
    "\n",
    "Intelligence/Perceptiveness/Connectedness is part of a bigger picture where:\n",
    "- _Smarter_ systems means more can be done with fewer systems.\n",
    "- _Smarter_ systems means more can be done with less capable (lower cost) systems.\n",
    "\n",
    "\n",
    "## Learning outcome\n",
    "After having completed the course the students shall have obtained a basic understanding of the processes in the world ocean as well as in design, contruction and working principle of various underwater systems. \n",
    "\n",
    "Specific learning objectives are: \n",
    "- Knowledge of the world oceans, including depths, ocean currents, temperature conditions and salinity/seawater density. \n",
    "- Knowledge and understanding of design and operational conditions for the main underwater vehicles as ROVs and AUVs.  \n",
    "- Know and understand various underwater positioning and navigational systems. Being able to write (group) reports about complex underwater operations, including time surveying of the mother ship. \n",
    "- Knowledge related to important issues that need to be considered during design, installation and operation of underwater systems, including robots.\n",
    "\n",
    "## Learning methods and activities\n",
    "Lectures, practical training through projects. There will be a graded student group work. All group members will in principle get the same marks. Exercises are obligatory to be approved to start exam.\n",
    "\n",
    "## Compulsory assignments\n",
    "Exercises\n",
    "\n",
    "## Further on evaluation\n",
    "Aggregated assessment is the basis for the grade in the course. The assement includes a final exam and a project work. Students are free to choose Italian or English for written assessments.\n",
    "\n",
    "## Recommended previous knowledge\n",
    "Robotics\n",
    "\n",
    "## Course materials\n",
    "Various text books, lecture notes and relevant available information on internet."
   ]
  },
  {
   "cell_type": "markdown",
   "metadata": {},
   "source": [
    "## Facts\n",
    "- Version: 1\n",
    "- Credits: 6\n",
    "- Study level: Master's degree level"
   ]
  },
  {
   "cell_type": "markdown",
   "metadata": {},
   "source": [
    "Teaching semester:  SPRING 2023\n",
    "\n",
    "Language of instruction: Italian and English\n",
    "\n",
    "\n",
    "## Course coordinators:\n",
    "Riccardo Costanzi and Andrea Munafo\n"
   ]
  },
  {
   "cell_type": "markdown",
   "metadata": {},
   "source": [
    "## Install"
   ]
  },
  {
   "cell_type": "markdown",
   "metadata": {},
   "source": [
    "## Install\n",
    "\n",
    "The notebooks run with python 3.10 and use the following python libraries:\n",
    "\n",
    "- numpy\n",
    "- pandas\n",
    "- matplotlib\n",
    "\n",
    "Notebook `00_Getting_started_with_Python_and_Jupyter_Notebook.ipynb` provides a short introduction on how to set up an anaconda environment to get you started."
   ]
  },
  {
   "cell_type": "markdown",
   "metadata": {},
   "source": [
    "## How to use"
   ]
  },
  {
   "cell_type": "markdown",
   "metadata": {},
   "source": [
    "You can open and run each notebook in any order your prefer depending on your interest."
   ]
  },
  {
   "cell_type": "code",
   "execution_count": null,
   "metadata": {},
   "outputs": [],
   "source": [
    "#| hide\n",
    "import nbdev; nbdev.nbdev_export()"
   ]
  },
  {
   "cell_type": "code",
   "execution_count": null,
   "metadata": {},
   "outputs": [],
   "source": []
  }
 ],
 "metadata": {
  "kernelspec": {
   "display_name": "Python 3 (ipykernel)",
   "language": "python",
   "name": "python3"
  }
 },
 "nbformat": 4,
 "nbformat_minor": 4
}
