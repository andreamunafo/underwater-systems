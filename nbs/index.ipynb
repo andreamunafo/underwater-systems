{
 "cells": [
  {
   "cell_type": "markdown",
   "metadata": {},
   "source": [
    "# Underwater Systems"
   ]
  },
  {
   "cell_type": "markdown",
   "metadata": {},
   "source": [
    "The course provides an extensive foundation in oceanic engineering, covering both theoretical concepts and practical applications. \n",
    "\n",
    "It is part of the Master Degree in Robotics and Automation Engineering, University of Pisa, Italy"
   ]
  },
  {
   "cell_type": "markdown",
   "metadata": {},
   "source": [
    "Teaching semester: Spring 2024\n",
    "\n",
    "Language of instruction: Italian and English\n",
    "\n",
    "\n",
    "## Course coordinators:\n",
    "Riccardo Costanzi and Andrea Munafo\n"
   ]
  },
  {
   "cell_type": "markdown",
   "metadata": {},
   "source": [
    "## Facts\n",
    "- Version: 1\n",
    "- Credits: 6\n",
    "- Study level: Master's degree level"
   ]
  },
  {
   "cell_type": "markdown",
   "metadata": {},
   "source": [
    "## How to use"
   ]
  },
  {
   "cell_type": "markdown",
   "metadata": {},
   "source": [
    "You can open and run each notebook in any order your prefer depending on your interest."
   ]
  },
  {
   "cell_type": "markdown",
   "metadata": {},
   "source": [
    "## Installation Instructions\n",
    "\n",
    "This repository's notebooks are designed for Python 3.10 and depend on several Python libraries:\n",
    "\n",
    "- numpy\n",
    "- pandas\n",
    "- matplotlib\n",
    "\n",
    "For a quick guide on setting up an Anaconda environment, refer to the <a href='00_Getting_started_with_Python_and_Jupyter_Notebook.ipynb' target='_blank' style='font-size: 16px;'>00_Getting_started_with_Python_and_Jupyter_Notebook.ipynb</a></li> notebook.\n",
    "\n",
    "### Troubleshooting\n",
    "In case you encounter the following error:\n",
    "```\n",
    "ModuleNotFoundError: No module named 'underwater_systems'\n",
    "```\n",
    "It indicates that the `underwater_system` package is missing. To install it, execute the following command in your terminal, ideally from the root directory of this repository:\n",
    "\n",
    "```bash\n",
    "pip install -e '.[dev]'\n",
    "```\n",
    "\n",
    "Explanation of the command components:\n",
    "- `-e`: Stands for \"editable\", allowing you to modify and immediately utilize the package during development.\n",
    "- `.`: Targets the current directory, implying the package is installed from here.\n",
    "- `[dev]`: Specifies additional \"development\" dependencies, which are required for tasks like documentation and testing, but not for the package's core functionality."
   ]
  },
  {
   "cell_type": "markdown",
   "metadata": {},
   "source": [
    "----"
   ]
  },
  {
   "cell_type": "markdown",
   "metadata": {},
   "source": [
    "## Automating Jupyter Book PDF Generation with Images\n",
    "\n",
    "### Overview\n",
    "The `build_jupyterbook_with_images.py` script automates the process of including images in the PDF version of your Jupyter Book. It copies an 'images' directory to the appropriate location within the Jupyter Book build directory and then executes the build process.\n",
    "\n",
    "### Prerequisites\n",
    "- Python 3.x installed.\n",
    "- Jupyter Book and its dependencies are installed.\n",
    "- pyppeteer\n",
    "\n",
    "### Structure Assumptions\n",
    "- The script is located in the `bin` directory at the project root.\n",
    "- The `images` folder, which contains the images to be included in the PDF, is at the project root.\n",
    "- The Jupyter notebooks are in a directory named `nbs` at the project root.\n",
    "\n",
    "### Usage Instructions\n",
    "1. Navigate to the `bin` directory where the script is located.\n",
    "2. Run the script using Python:\n",
    "\n",
    "   ```bash\n",
    "   python bin/build_jupyterbook_with_images.py\n",
    "   ```\n",
    "\n",
    "3. The script will copy the `images` folder to the Jupyter Book build directory and then start the build process for the PDF version of your Jupyter Book.\n",
    "4. Upon successful execution, the script will output a confirmation message. If any issues occur, error messages will be displayed.\n"
   ]
  },
  {
   "cell_type": "markdown",
   "metadata": {},
   "source": [
    "### Fix for `pyppeteer.errors.TimeoutError`\n",
    "\n",
    "If you encounter a timeout error (`pyppeteer.errors.TimeoutError: Navigation Timeout Exceeded: 30000 ms exceeded`) when building your Jupyter Book, a simple fix can be applied.\n",
    "\n",
    "#### Steps to Apply the Fix\n",
    "1. Locate the `pdf.py` file in your Jupyter Book or pyppeteer environment.\n",
    "2. Open `pdf.py` and navigate to line 50.\n",
    "3. Modify the line from:\n",
    "\n",
    "   ```python\n",
    "   await page.goto(f\"file:///{html_file}\", {\"waitUntil\": [\"networkidle2\"]})\n",
    "   ```\n",
    "   to:\n",
    "   ```python\n",
    "   await page.goto(f\"file:///{html_file}\", {\"timeout\": 0, \"waitUntil\": [\"networkidle2\"]})\n",
    "   ```\n",
    "\n",
    "This change sets the timeout to zero, effectively removing the timeout limit, and allows the page to load completely before proceeding, which can resolve the timeout issue encountered during the PDF generation process.\n"
   ]
  },
  {
   "cell_type": "markdown",
   "metadata": {},
   "source": [
    "----"
   ]
  },
  {
   "cell_type": "markdown",
   "metadata": {},
   "source": [
    "## Acknowledgements and references\n",
    "\n",
    "- Relevant textbooks and resources used to prepare these notebooks are reported in <a href='00_Syllabus.ipynb' target='_blank' style='font-size: 16px;'>00_Syllabus.ipynb</a></li>\n",
    "\n",
    "\n",
    "\n",
    "## Frequently Asked Questions (FAQ)\n",
    "\n",
    "- see notebook <a href='00_FAQ.ipynb' target='_blank' style='font-size: 16px;'>00_FAQ.ipynb</a>"
   ]
  },
  {
   "cell_type": "code",
   "execution_count": null,
   "metadata": {},
   "outputs": [],
   "source": []
  }
 ],
 "metadata": {
  "kernelspec": {
   "display_name": "Python 3 (ipykernel)",
   "language": "python",
   "name": "python3"
  }
 },
 "nbformat": 4,
 "nbformat_minor": 4
}
